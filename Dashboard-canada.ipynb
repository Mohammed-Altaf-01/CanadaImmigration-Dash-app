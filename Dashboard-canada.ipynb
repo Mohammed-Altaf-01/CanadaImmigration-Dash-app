{
 "cells": [
  {
   "cell_type": "markdown",
   "id": "6d697fa6",
   "metadata": {},
   "source": [
    "- [ ]  first clean the data \n",
    "\n",
    "- [ ]    check for required fields to be plotted using plotly \n",
    "\n",
    "- [ ]    make basic structure of Dashboard\n",
    "\n",
    "- [ ]    use call backs and improve them continusely by adding multiple graphs, and insights that can be gathered from the data.\n",
    "\n",
    "- [ ]    Try to Deploy it."
   ]
  },
  {
   "cell_type": "code",
   "execution_count": 1,
   "id": "b67fc250",
   "metadata": {},
   "outputs": [],
   "source": [
    "import pandas as pd \n",
    "import plotly.express as px \n",
    "from dash import Dash,html,dcc,Input,Output\n",
    "pd.set_option('display.max_columns', None)\n"
   ]
  },
  {
   "cell_type": "code",
   "execution_count": 2,
   "id": "775109a2",
   "metadata": {},
   "outputs": [],
   "source": [
    "df = pd.read_excel('canada.xlsx',\n",
    "    sheet_name='Canada by Citizenship',\n",
    "    skiprows=range(20),\n",
    "    skipfooter=2)\n"
   ]
  },
  {
   "cell_type": "code",
   "execution_count": 3,
   "id": "c80e21f6",
   "metadata": {},
   "outputs": [
    {
     "data": {
      "text/html": [
       "<div>\n",
       "<style scoped>\n",
       "    .dataframe tbody tr th:only-of-type {\n",
       "        vertical-align: middle;\n",
       "    }\n",
       "\n",
       "    .dataframe tbody tr th {\n",
       "        vertical-align: top;\n",
       "    }\n",
       "\n",
       "    .dataframe thead th {\n",
       "        text-align: right;\n",
       "    }\n",
       "</style>\n",
       "<table border=\"1\" class=\"dataframe\">\n",
       "  <thead>\n",
       "    <tr style=\"text-align: right;\">\n",
       "      <th></th>\n",
       "      <th>Type</th>\n",
       "      <th>Coverage</th>\n",
       "      <th>OdName</th>\n",
       "      <th>AREA</th>\n",
       "      <th>AreaName</th>\n",
       "      <th>REG</th>\n",
       "      <th>RegName</th>\n",
       "      <th>DEV</th>\n",
       "      <th>DevName</th>\n",
       "      <th>1980</th>\n",
       "      <th>1981</th>\n",
       "      <th>1982</th>\n",
       "      <th>1983</th>\n",
       "      <th>1984</th>\n",
       "      <th>1985</th>\n",
       "      <th>1986</th>\n",
       "      <th>1987</th>\n",
       "      <th>1988</th>\n",
       "      <th>1989</th>\n",
       "      <th>1990</th>\n",
       "      <th>1991</th>\n",
       "      <th>1992</th>\n",
       "      <th>1993</th>\n",
       "      <th>1994</th>\n",
       "      <th>1995</th>\n",
       "      <th>1996</th>\n",
       "      <th>1997</th>\n",
       "      <th>1998</th>\n",
       "      <th>1999</th>\n",
       "      <th>2000</th>\n",
       "      <th>2001</th>\n",
       "      <th>2002</th>\n",
       "      <th>2003</th>\n",
       "      <th>2004</th>\n",
       "      <th>2005</th>\n",
       "      <th>2006</th>\n",
       "      <th>2007</th>\n",
       "      <th>2008</th>\n",
       "      <th>2009</th>\n",
       "      <th>2010</th>\n",
       "      <th>2011</th>\n",
       "      <th>2012</th>\n",
       "      <th>2013</th>\n",
       "    </tr>\n",
       "  </thead>\n",
       "  <tbody>\n",
       "    <tr>\n",
       "      <th>0</th>\n",
       "      <td>Immigrants</td>\n",
       "      <td>Foreigners</td>\n",
       "      <td>Afghanistan</td>\n",
       "      <td>935</td>\n",
       "      <td>Asia</td>\n",
       "      <td>5501</td>\n",
       "      <td>Southern Asia</td>\n",
       "      <td>902</td>\n",
       "      <td>Developing regions</td>\n",
       "      <td>16</td>\n",
       "      <td>39</td>\n",
       "      <td>39</td>\n",
       "      <td>47</td>\n",
       "      <td>71</td>\n",
       "      <td>340</td>\n",
       "      <td>496</td>\n",
       "      <td>741</td>\n",
       "      <td>828</td>\n",
       "      <td>1076</td>\n",
       "      <td>1028</td>\n",
       "      <td>1378</td>\n",
       "      <td>1170</td>\n",
       "      <td>713</td>\n",
       "      <td>858</td>\n",
       "      <td>1537</td>\n",
       "      <td>2212</td>\n",
       "      <td>2555</td>\n",
       "      <td>1999</td>\n",
       "      <td>2395</td>\n",
       "      <td>3326</td>\n",
       "      <td>4067</td>\n",
       "      <td>3697</td>\n",
       "      <td>3479</td>\n",
       "      <td>2978</td>\n",
       "      <td>3436</td>\n",
       "      <td>3009</td>\n",
       "      <td>2652</td>\n",
       "      <td>2111</td>\n",
       "      <td>1746</td>\n",
       "      <td>1758</td>\n",
       "      <td>2203</td>\n",
       "      <td>2635</td>\n",
       "      <td>2004</td>\n",
       "    </tr>\n",
       "    <tr>\n",
       "      <th>1</th>\n",
       "      <td>Immigrants</td>\n",
       "      <td>Foreigners</td>\n",
       "      <td>Albania</td>\n",
       "      <td>908</td>\n",
       "      <td>Europe</td>\n",
       "      <td>925</td>\n",
       "      <td>Southern Europe</td>\n",
       "      <td>901</td>\n",
       "      <td>Developed regions</td>\n",
       "      <td>1</td>\n",
       "      <td>0</td>\n",
       "      <td>0</td>\n",
       "      <td>0</td>\n",
       "      <td>0</td>\n",
       "      <td>0</td>\n",
       "      <td>1</td>\n",
       "      <td>2</td>\n",
       "      <td>2</td>\n",
       "      <td>3</td>\n",
       "      <td>3</td>\n",
       "      <td>21</td>\n",
       "      <td>56</td>\n",
       "      <td>96</td>\n",
       "      <td>71</td>\n",
       "      <td>63</td>\n",
       "      <td>113</td>\n",
       "      <td>307</td>\n",
       "      <td>574</td>\n",
       "      <td>1264</td>\n",
       "      <td>1816</td>\n",
       "      <td>1602</td>\n",
       "      <td>1021</td>\n",
       "      <td>853</td>\n",
       "      <td>1450</td>\n",
       "      <td>1223</td>\n",
       "      <td>856</td>\n",
       "      <td>702</td>\n",
       "      <td>560</td>\n",
       "      <td>716</td>\n",
       "      <td>561</td>\n",
       "      <td>539</td>\n",
       "      <td>620</td>\n",
       "      <td>603</td>\n",
       "    </tr>\n",
       "    <tr>\n",
       "      <th>2</th>\n",
       "      <td>Immigrants</td>\n",
       "      <td>Foreigners</td>\n",
       "      <td>Algeria</td>\n",
       "      <td>903</td>\n",
       "      <td>Africa</td>\n",
       "      <td>912</td>\n",
       "      <td>Northern Africa</td>\n",
       "      <td>902</td>\n",
       "      <td>Developing regions</td>\n",
       "      <td>80</td>\n",
       "      <td>67</td>\n",
       "      <td>71</td>\n",
       "      <td>69</td>\n",
       "      <td>63</td>\n",
       "      <td>44</td>\n",
       "      <td>69</td>\n",
       "      <td>132</td>\n",
       "      <td>242</td>\n",
       "      <td>434</td>\n",
       "      <td>491</td>\n",
       "      <td>872</td>\n",
       "      <td>795</td>\n",
       "      <td>717</td>\n",
       "      <td>595</td>\n",
       "      <td>1106</td>\n",
       "      <td>2054</td>\n",
       "      <td>1842</td>\n",
       "      <td>2292</td>\n",
       "      <td>2389</td>\n",
       "      <td>2867</td>\n",
       "      <td>3418</td>\n",
       "      <td>3406</td>\n",
       "      <td>3072</td>\n",
       "      <td>3616</td>\n",
       "      <td>3626</td>\n",
       "      <td>4807</td>\n",
       "      <td>3623</td>\n",
       "      <td>4005</td>\n",
       "      <td>5393</td>\n",
       "      <td>4752</td>\n",
       "      <td>4325</td>\n",
       "      <td>3774</td>\n",
       "      <td>4331</td>\n",
       "    </tr>\n",
       "    <tr>\n",
       "      <th>3</th>\n",
       "      <td>Immigrants</td>\n",
       "      <td>Foreigners</td>\n",
       "      <td>American Samoa</td>\n",
       "      <td>909</td>\n",
       "      <td>Oceania</td>\n",
       "      <td>957</td>\n",
       "      <td>Polynesia</td>\n",
       "      <td>902</td>\n",
       "      <td>Developing regions</td>\n",
       "      <td>0</td>\n",
       "      <td>1</td>\n",
       "      <td>0</td>\n",
       "      <td>0</td>\n",
       "      <td>0</td>\n",
       "      <td>0</td>\n",
       "      <td>0</td>\n",
       "      <td>1</td>\n",
       "      <td>0</td>\n",
       "      <td>1</td>\n",
       "      <td>2</td>\n",
       "      <td>0</td>\n",
       "      <td>0</td>\n",
       "      <td>0</td>\n",
       "      <td>0</td>\n",
       "      <td>0</td>\n",
       "      <td>0</td>\n",
       "      <td>0</td>\n",
       "      <td>0</td>\n",
       "      <td>0</td>\n",
       "      <td>0</td>\n",
       "      <td>0</td>\n",
       "      <td>0</td>\n",
       "      <td>0</td>\n",
       "      <td>0</td>\n",
       "      <td>0</td>\n",
       "      <td>1</td>\n",
       "      <td>0</td>\n",
       "      <td>0</td>\n",
       "      <td>0</td>\n",
       "      <td>0</td>\n",
       "      <td>0</td>\n",
       "      <td>0</td>\n",
       "      <td>0</td>\n",
       "    </tr>\n",
       "    <tr>\n",
       "      <th>4</th>\n",
       "      <td>Immigrants</td>\n",
       "      <td>Foreigners</td>\n",
       "      <td>Andorra</td>\n",
       "      <td>908</td>\n",
       "      <td>Europe</td>\n",
       "      <td>925</td>\n",
       "      <td>Southern Europe</td>\n",
       "      <td>901</td>\n",
       "      <td>Developed regions</td>\n",
       "      <td>0</td>\n",
       "      <td>0</td>\n",
       "      <td>0</td>\n",
       "      <td>0</td>\n",
       "      <td>0</td>\n",
       "      <td>0</td>\n",
       "      <td>2</td>\n",
       "      <td>0</td>\n",
       "      <td>0</td>\n",
       "      <td>0</td>\n",
       "      <td>3</td>\n",
       "      <td>0</td>\n",
       "      <td>1</td>\n",
       "      <td>0</td>\n",
       "      <td>0</td>\n",
       "      <td>0</td>\n",
       "      <td>0</td>\n",
       "      <td>0</td>\n",
       "      <td>2</td>\n",
       "      <td>0</td>\n",
       "      <td>0</td>\n",
       "      <td>1</td>\n",
       "      <td>0</td>\n",
       "      <td>2</td>\n",
       "      <td>0</td>\n",
       "      <td>0</td>\n",
       "      <td>1</td>\n",
       "      <td>1</td>\n",
       "      <td>0</td>\n",
       "      <td>0</td>\n",
       "      <td>0</td>\n",
       "      <td>0</td>\n",
       "      <td>1</td>\n",
       "      <td>1</td>\n",
       "    </tr>\n",
       "  </tbody>\n",
       "</table>\n",
       "</div>"
      ],
      "text/plain": [
       "         Type    Coverage          OdName  AREA AreaName   REG  \\\n",
       "0  Immigrants  Foreigners     Afghanistan   935     Asia  5501   \n",
       "1  Immigrants  Foreigners         Albania   908   Europe   925   \n",
       "2  Immigrants  Foreigners         Algeria   903   Africa   912   \n",
       "3  Immigrants  Foreigners  American Samoa   909  Oceania   957   \n",
       "4  Immigrants  Foreigners         Andorra   908   Europe   925   \n",
       "\n",
       "           RegName  DEV             DevName  1980  1981  1982  1983  1984  \\\n",
       "0    Southern Asia  902  Developing regions    16    39    39    47    71   \n",
       "1  Southern Europe  901   Developed regions     1     0     0     0     0   \n",
       "2  Northern Africa  902  Developing regions    80    67    71    69    63   \n",
       "3        Polynesia  902  Developing regions     0     1     0     0     0   \n",
       "4  Southern Europe  901   Developed regions     0     0     0     0     0   \n",
       "\n",
       "   1985  1986  1987  1988  1989  1990  1991  1992  1993  1994  1995  1996  \\\n",
       "0   340   496   741   828  1076  1028  1378  1170   713   858  1537  2212   \n",
       "1     0     1     2     2     3     3    21    56    96    71    63   113   \n",
       "2    44    69   132   242   434   491   872   795   717   595  1106  2054   \n",
       "3     0     0     1     0     1     2     0     0     0     0     0     0   \n",
       "4     0     2     0     0     0     3     0     1     0     0     0     0   \n",
       "\n",
       "   1997  1998  1999  2000  2001  2002  2003  2004  2005  2006  2007  2008  \\\n",
       "0  2555  1999  2395  3326  4067  3697  3479  2978  3436  3009  2652  2111   \n",
       "1   307   574  1264  1816  1602  1021   853  1450  1223   856   702   560   \n",
       "2  1842  2292  2389  2867  3418  3406  3072  3616  3626  4807  3623  4005   \n",
       "3     0     0     0     0     0     0     0     0     0     1     0     0   \n",
       "4     0     2     0     0     1     0     2     0     0     1     1     0   \n",
       "\n",
       "   2009  2010  2011  2012  2013  \n",
       "0  1746  1758  2203  2635  2004  \n",
       "1   716   561   539   620   603  \n",
       "2  5393  4752  4325  3774  4331  \n",
       "3     0     0     0     0     0  \n",
       "4     0     0     0     1     1  "
      ]
     },
     "execution_count": 3,
     "metadata": {},
     "output_type": "execute_result"
    }
   ],
   "source": [
    "years = [str(y) for y in range(1980,2014)]\n",
    "df.head()"
   ]
  },
  {
   "cell_type": "code",
   "execution_count": 4,
   "id": "cd94e62a",
   "metadata": {},
   "outputs": [],
   "source": [
    "df.drop(columns=['AREA','REG','DEV','DevName'],axis=1,inplace=True)\n",
    "df.rename(columns={'OdName':'Country', 'AreaName':'Continent', 'RegName':'Region'}, inplace=True)"
   ]
  },
  {
   "cell_type": "code",
   "execution_count": 5,
   "id": "66008d46",
   "metadata": {},
   "outputs": [
    {
     "data": {
      "text/html": [
       "<div>\n",
       "<style scoped>\n",
       "    .dataframe tbody tr th:only-of-type {\n",
       "        vertical-align: middle;\n",
       "    }\n",
       "\n",
       "    .dataframe tbody tr th {\n",
       "        vertical-align: top;\n",
       "    }\n",
       "\n",
       "    .dataframe thead th {\n",
       "        text-align: right;\n",
       "    }\n",
       "</style>\n",
       "<table border=\"1\" class=\"dataframe\">\n",
       "  <thead>\n",
       "    <tr style=\"text-align: right;\">\n",
       "      <th></th>\n",
       "      <th>Type</th>\n",
       "      <th>Coverage</th>\n",
       "      <th>Country</th>\n",
       "      <th>Continent</th>\n",
       "      <th>Region</th>\n",
       "      <th>1980</th>\n",
       "      <th>1981</th>\n",
       "      <th>1982</th>\n",
       "      <th>1983</th>\n",
       "      <th>1984</th>\n",
       "      <th>1985</th>\n",
       "      <th>1986</th>\n",
       "      <th>1987</th>\n",
       "      <th>1988</th>\n",
       "      <th>1989</th>\n",
       "      <th>1990</th>\n",
       "      <th>1991</th>\n",
       "      <th>1992</th>\n",
       "      <th>1993</th>\n",
       "      <th>1994</th>\n",
       "      <th>1995</th>\n",
       "      <th>1996</th>\n",
       "      <th>1997</th>\n",
       "      <th>1998</th>\n",
       "      <th>1999</th>\n",
       "      <th>2000</th>\n",
       "      <th>2001</th>\n",
       "      <th>2002</th>\n",
       "      <th>2003</th>\n",
       "      <th>2004</th>\n",
       "      <th>2005</th>\n",
       "      <th>2006</th>\n",
       "      <th>2007</th>\n",
       "      <th>2008</th>\n",
       "      <th>2009</th>\n",
       "      <th>2010</th>\n",
       "      <th>2011</th>\n",
       "      <th>2012</th>\n",
       "      <th>2013</th>\n",
       "      <th>Total</th>\n",
       "    </tr>\n",
       "  </thead>\n",
       "  <tbody>\n",
       "    <tr>\n",
       "      <th>0</th>\n",
       "      <td>Immigrants</td>\n",
       "      <td>Foreigners</td>\n",
       "      <td>Afghanistan</td>\n",
       "      <td>Asia</td>\n",
       "      <td>Southern Asia</td>\n",
       "      <td>16</td>\n",
       "      <td>39</td>\n",
       "      <td>39</td>\n",
       "      <td>47</td>\n",
       "      <td>71</td>\n",
       "      <td>340</td>\n",
       "      <td>496</td>\n",
       "      <td>741</td>\n",
       "      <td>828</td>\n",
       "      <td>1076</td>\n",
       "      <td>1028</td>\n",
       "      <td>1378</td>\n",
       "      <td>1170</td>\n",
       "      <td>713</td>\n",
       "      <td>858</td>\n",
       "      <td>1537</td>\n",
       "      <td>2212</td>\n",
       "      <td>2555</td>\n",
       "      <td>1999</td>\n",
       "      <td>2395</td>\n",
       "      <td>3326</td>\n",
       "      <td>4067</td>\n",
       "      <td>3697</td>\n",
       "      <td>3479</td>\n",
       "      <td>2978</td>\n",
       "      <td>3436</td>\n",
       "      <td>3009</td>\n",
       "      <td>2652</td>\n",
       "      <td>2111</td>\n",
       "      <td>1746</td>\n",
       "      <td>1758</td>\n",
       "      <td>2203</td>\n",
       "      <td>2635</td>\n",
       "      <td>2004</td>\n",
       "      <td>58639</td>\n",
       "    </tr>\n",
       "    <tr>\n",
       "      <th>1</th>\n",
       "      <td>Immigrants</td>\n",
       "      <td>Foreigners</td>\n",
       "      <td>Albania</td>\n",
       "      <td>Europe</td>\n",
       "      <td>Southern Europe</td>\n",
       "      <td>1</td>\n",
       "      <td>0</td>\n",
       "      <td>0</td>\n",
       "      <td>0</td>\n",
       "      <td>0</td>\n",
       "      <td>0</td>\n",
       "      <td>1</td>\n",
       "      <td>2</td>\n",
       "      <td>2</td>\n",
       "      <td>3</td>\n",
       "      <td>3</td>\n",
       "      <td>21</td>\n",
       "      <td>56</td>\n",
       "      <td>96</td>\n",
       "      <td>71</td>\n",
       "      <td>63</td>\n",
       "      <td>113</td>\n",
       "      <td>307</td>\n",
       "      <td>574</td>\n",
       "      <td>1264</td>\n",
       "      <td>1816</td>\n",
       "      <td>1602</td>\n",
       "      <td>1021</td>\n",
       "      <td>853</td>\n",
       "      <td>1450</td>\n",
       "      <td>1223</td>\n",
       "      <td>856</td>\n",
       "      <td>702</td>\n",
       "      <td>560</td>\n",
       "      <td>716</td>\n",
       "      <td>561</td>\n",
       "      <td>539</td>\n",
       "      <td>620</td>\n",
       "      <td>603</td>\n",
       "      <td>15699</td>\n",
       "    </tr>\n",
       "  </tbody>\n",
       "</table>\n",
       "</div>"
      ],
      "text/plain": [
       "         Type    Coverage      Country Continent           Region  1980  1981  \\\n",
       "0  Immigrants  Foreigners  Afghanistan      Asia    Southern Asia    16    39   \n",
       "1  Immigrants  Foreigners      Albania    Europe  Southern Europe     1     0   \n",
       "\n",
       "   1982  1983  1984  1985  1986  1987  1988  1989  1990  1991  1992  1993  \\\n",
       "0    39    47    71   340   496   741   828  1076  1028  1378  1170   713   \n",
       "1     0     0     0     0     1     2     2     3     3    21    56    96   \n",
       "\n",
       "   1994  1995  1996  1997  1998  1999  2000  2001  2002  2003  2004  2005  \\\n",
       "0   858  1537  2212  2555  1999  2395  3326  4067  3697  3479  2978  3436   \n",
       "1    71    63   113   307   574  1264  1816  1602  1021   853  1450  1223   \n",
       "\n",
       "   2006  2007  2008  2009  2010  2011  2012  2013  Total  \n",
       "0  3009  2652  2111  1746  1758  2203  2635  2004  58639  \n",
       "1   856   702   560   716   561   539   620   603  15699  "
      ]
     },
     "execution_count": 5,
     "metadata": {},
     "output_type": "execute_result"
    }
   ],
   "source": [
    "df['Total'] = df.sum(axis=1,numeric_only=True)\n",
    "df.head(2)"
   ]
  },
  {
   "cell_type": "code",
   "execution_count": 6,
   "id": "4ab65523",
   "metadata": {},
   "outputs": [],
   "source": [
    "df.drop(columns=['Type','Coverage'],axis=1,inplace=True)"
   ]
  },
  {
   "cell_type": "code",
   "execution_count": 7,
   "id": "caf8d4b4",
   "metadata": {},
   "outputs": [],
   "source": [
    "df.set_index('Country',inplace=True)"
   ]
  },
  {
   "cell_type": "code",
   "execution_count": 8,
   "id": "1622e04f",
   "metadata": {},
   "outputs": [
    {
     "data": {
      "text/html": [
       "<div>\n",
       "<style scoped>\n",
       "    .dataframe tbody tr th:only-of-type {\n",
       "        vertical-align: middle;\n",
       "    }\n",
       "\n",
       "    .dataframe tbody tr th {\n",
       "        vertical-align: top;\n",
       "    }\n",
       "\n",
       "    .dataframe thead th {\n",
       "        text-align: right;\n",
       "    }\n",
       "</style>\n",
       "<table border=\"1\" class=\"dataframe\">\n",
       "  <thead>\n",
       "    <tr style=\"text-align: right;\">\n",
       "      <th></th>\n",
       "      <th>Continent</th>\n",
       "      <th>Region</th>\n",
       "      <th>1980</th>\n",
       "      <th>1981</th>\n",
       "      <th>1982</th>\n",
       "      <th>1983</th>\n",
       "      <th>1984</th>\n",
       "      <th>1985</th>\n",
       "      <th>1986</th>\n",
       "      <th>1987</th>\n",
       "      <th>1988</th>\n",
       "      <th>1989</th>\n",
       "      <th>1990</th>\n",
       "      <th>1991</th>\n",
       "      <th>1992</th>\n",
       "      <th>1993</th>\n",
       "      <th>1994</th>\n",
       "      <th>1995</th>\n",
       "      <th>1996</th>\n",
       "      <th>1997</th>\n",
       "      <th>1998</th>\n",
       "      <th>1999</th>\n",
       "      <th>2000</th>\n",
       "      <th>2001</th>\n",
       "      <th>2002</th>\n",
       "      <th>2003</th>\n",
       "      <th>2004</th>\n",
       "      <th>2005</th>\n",
       "      <th>2006</th>\n",
       "      <th>2007</th>\n",
       "      <th>2008</th>\n",
       "      <th>2009</th>\n",
       "      <th>2010</th>\n",
       "      <th>2011</th>\n",
       "      <th>2012</th>\n",
       "      <th>2013</th>\n",
       "      <th>Total</th>\n",
       "    </tr>\n",
       "    <tr>\n",
       "      <th>Country</th>\n",
       "      <th></th>\n",
       "      <th></th>\n",
       "      <th></th>\n",
       "      <th></th>\n",
       "      <th></th>\n",
       "      <th></th>\n",
       "      <th></th>\n",
       "      <th></th>\n",
       "      <th></th>\n",
       "      <th></th>\n",
       "      <th></th>\n",
       "      <th></th>\n",
       "      <th></th>\n",
       "      <th></th>\n",
       "      <th></th>\n",
       "      <th></th>\n",
       "      <th></th>\n",
       "      <th></th>\n",
       "      <th></th>\n",
       "      <th></th>\n",
       "      <th></th>\n",
       "      <th></th>\n",
       "      <th></th>\n",
       "      <th></th>\n",
       "      <th></th>\n",
       "      <th></th>\n",
       "      <th></th>\n",
       "      <th></th>\n",
       "      <th></th>\n",
       "      <th></th>\n",
       "      <th></th>\n",
       "      <th></th>\n",
       "      <th></th>\n",
       "      <th></th>\n",
       "      <th></th>\n",
       "      <th></th>\n",
       "      <th></th>\n",
       "    </tr>\n",
       "  </thead>\n",
       "  <tbody>\n",
       "    <tr>\n",
       "      <th>Afghanistan</th>\n",
       "      <td>Asia</td>\n",
       "      <td>Southern Asia</td>\n",
       "      <td>16</td>\n",
       "      <td>39</td>\n",
       "      <td>39</td>\n",
       "      <td>47</td>\n",
       "      <td>71</td>\n",
       "      <td>340</td>\n",
       "      <td>496</td>\n",
       "      <td>741</td>\n",
       "      <td>828</td>\n",
       "      <td>1076</td>\n",
       "      <td>1028</td>\n",
       "      <td>1378</td>\n",
       "      <td>1170</td>\n",
       "      <td>713</td>\n",
       "      <td>858</td>\n",
       "      <td>1537</td>\n",
       "      <td>2212</td>\n",
       "      <td>2555</td>\n",
       "      <td>1999</td>\n",
       "      <td>2395</td>\n",
       "      <td>3326</td>\n",
       "      <td>4067</td>\n",
       "      <td>3697</td>\n",
       "      <td>3479</td>\n",
       "      <td>2978</td>\n",
       "      <td>3436</td>\n",
       "      <td>3009</td>\n",
       "      <td>2652</td>\n",
       "      <td>2111</td>\n",
       "      <td>1746</td>\n",
       "      <td>1758</td>\n",
       "      <td>2203</td>\n",
       "      <td>2635</td>\n",
       "      <td>2004</td>\n",
       "      <td>58639</td>\n",
       "    </tr>\n",
       "    <tr>\n",
       "      <th>Albania</th>\n",
       "      <td>Europe</td>\n",
       "      <td>Southern Europe</td>\n",
       "      <td>1</td>\n",
       "      <td>0</td>\n",
       "      <td>0</td>\n",
       "      <td>0</td>\n",
       "      <td>0</td>\n",
       "      <td>0</td>\n",
       "      <td>1</td>\n",
       "      <td>2</td>\n",
       "      <td>2</td>\n",
       "      <td>3</td>\n",
       "      <td>3</td>\n",
       "      <td>21</td>\n",
       "      <td>56</td>\n",
       "      <td>96</td>\n",
       "      <td>71</td>\n",
       "      <td>63</td>\n",
       "      <td>113</td>\n",
       "      <td>307</td>\n",
       "      <td>574</td>\n",
       "      <td>1264</td>\n",
       "      <td>1816</td>\n",
       "      <td>1602</td>\n",
       "      <td>1021</td>\n",
       "      <td>853</td>\n",
       "      <td>1450</td>\n",
       "      <td>1223</td>\n",
       "      <td>856</td>\n",
       "      <td>702</td>\n",
       "      <td>560</td>\n",
       "      <td>716</td>\n",
       "      <td>561</td>\n",
       "      <td>539</td>\n",
       "      <td>620</td>\n",
       "      <td>603</td>\n",
       "      <td>15699</td>\n",
       "    </tr>\n",
       "    <tr>\n",
       "      <th>Algeria</th>\n",
       "      <td>Africa</td>\n",
       "      <td>Northern Africa</td>\n",
       "      <td>80</td>\n",
       "      <td>67</td>\n",
       "      <td>71</td>\n",
       "      <td>69</td>\n",
       "      <td>63</td>\n",
       "      <td>44</td>\n",
       "      <td>69</td>\n",
       "      <td>132</td>\n",
       "      <td>242</td>\n",
       "      <td>434</td>\n",
       "      <td>491</td>\n",
       "      <td>872</td>\n",
       "      <td>795</td>\n",
       "      <td>717</td>\n",
       "      <td>595</td>\n",
       "      <td>1106</td>\n",
       "      <td>2054</td>\n",
       "      <td>1842</td>\n",
       "      <td>2292</td>\n",
       "      <td>2389</td>\n",
       "      <td>2867</td>\n",
       "      <td>3418</td>\n",
       "      <td>3406</td>\n",
       "      <td>3072</td>\n",
       "      <td>3616</td>\n",
       "      <td>3626</td>\n",
       "      <td>4807</td>\n",
       "      <td>3623</td>\n",
       "      <td>4005</td>\n",
       "      <td>5393</td>\n",
       "      <td>4752</td>\n",
       "      <td>4325</td>\n",
       "      <td>3774</td>\n",
       "      <td>4331</td>\n",
       "      <td>69439</td>\n",
       "    </tr>\n",
       "    <tr>\n",
       "      <th>American Samoa</th>\n",
       "      <td>Oceania</td>\n",
       "      <td>Polynesia</td>\n",
       "      <td>0</td>\n",
       "      <td>1</td>\n",
       "      <td>0</td>\n",
       "      <td>0</td>\n",
       "      <td>0</td>\n",
       "      <td>0</td>\n",
       "      <td>0</td>\n",
       "      <td>1</td>\n",
       "      <td>0</td>\n",
       "      <td>1</td>\n",
       "      <td>2</td>\n",
       "      <td>0</td>\n",
       "      <td>0</td>\n",
       "      <td>0</td>\n",
       "      <td>0</td>\n",
       "      <td>0</td>\n",
       "      <td>0</td>\n",
       "      <td>0</td>\n",
       "      <td>0</td>\n",
       "      <td>0</td>\n",
       "      <td>0</td>\n",
       "      <td>0</td>\n",
       "      <td>0</td>\n",
       "      <td>0</td>\n",
       "      <td>0</td>\n",
       "      <td>0</td>\n",
       "      <td>1</td>\n",
       "      <td>0</td>\n",
       "      <td>0</td>\n",
       "      <td>0</td>\n",
       "      <td>0</td>\n",
       "      <td>0</td>\n",
       "      <td>0</td>\n",
       "      <td>0</td>\n",
       "      <td>6</td>\n",
       "    </tr>\n",
       "    <tr>\n",
       "      <th>Andorra</th>\n",
       "      <td>Europe</td>\n",
       "      <td>Southern Europe</td>\n",
       "      <td>0</td>\n",
       "      <td>0</td>\n",
       "      <td>0</td>\n",
       "      <td>0</td>\n",
       "      <td>0</td>\n",
       "      <td>0</td>\n",
       "      <td>2</td>\n",
       "      <td>0</td>\n",
       "      <td>0</td>\n",
       "      <td>0</td>\n",
       "      <td>3</td>\n",
       "      <td>0</td>\n",
       "      <td>1</td>\n",
       "      <td>0</td>\n",
       "      <td>0</td>\n",
       "      <td>0</td>\n",
       "      <td>0</td>\n",
       "      <td>0</td>\n",
       "      <td>2</td>\n",
       "      <td>0</td>\n",
       "      <td>0</td>\n",
       "      <td>1</td>\n",
       "      <td>0</td>\n",
       "      <td>2</td>\n",
       "      <td>0</td>\n",
       "      <td>0</td>\n",
       "      <td>1</td>\n",
       "      <td>1</td>\n",
       "      <td>0</td>\n",
       "      <td>0</td>\n",
       "      <td>0</td>\n",
       "      <td>0</td>\n",
       "      <td>1</td>\n",
       "      <td>1</td>\n",
       "      <td>15</td>\n",
       "    </tr>\n",
       "  </tbody>\n",
       "</table>\n",
       "</div>"
      ],
      "text/plain": [
       "               Continent           Region  1980  1981  1982  1983  1984  1985  \\\n",
       "Country                                                                         \n",
       "Afghanistan         Asia    Southern Asia    16    39    39    47    71   340   \n",
       "Albania           Europe  Southern Europe     1     0     0     0     0     0   \n",
       "Algeria           Africa  Northern Africa    80    67    71    69    63    44   \n",
       "American Samoa   Oceania        Polynesia     0     1     0     0     0     0   \n",
       "Andorra           Europe  Southern Europe     0     0     0     0     0     0   \n",
       "\n",
       "                1986  1987  1988  1989  1990  1991  1992  1993  1994  1995  \\\n",
       "Country                                                                      \n",
       "Afghanistan      496   741   828  1076  1028  1378  1170   713   858  1537   \n",
       "Albania            1     2     2     3     3    21    56    96    71    63   \n",
       "Algeria           69   132   242   434   491   872   795   717   595  1106   \n",
       "American Samoa     0     1     0     1     2     0     0     0     0     0   \n",
       "Andorra            2     0     0     0     3     0     1     0     0     0   \n",
       "\n",
       "                1996  1997  1998  1999  2000  2001  2002  2003  2004  2005  \\\n",
       "Country                                                                      \n",
       "Afghanistan     2212  2555  1999  2395  3326  4067  3697  3479  2978  3436   \n",
       "Albania          113   307   574  1264  1816  1602  1021   853  1450  1223   \n",
       "Algeria         2054  1842  2292  2389  2867  3418  3406  3072  3616  3626   \n",
       "American Samoa     0     0     0     0     0     0     0     0     0     0   \n",
       "Andorra            0     0     2     0     0     1     0     2     0     0   \n",
       "\n",
       "                2006  2007  2008  2009  2010  2011  2012  2013  Total  \n",
       "Country                                                                \n",
       "Afghanistan     3009  2652  2111  1746  1758  2203  2635  2004  58639  \n",
       "Albania          856   702   560   716   561   539   620   603  15699  \n",
       "Algeria         4807  3623  4005  5393  4752  4325  3774  4331  69439  \n",
       "American Samoa     1     0     0     0     0     0     0     0      6  \n",
       "Andorra            1     1     0     0     0     0     1     1     15  "
      ]
     },
     "execution_count": 8,
     "metadata": {},
     "output_type": "execute_result"
    }
   ],
   "source": [
    "df.head()"
   ]
  },
  {
   "cell_type": "code",
   "execution_count": 9,
   "id": "ad9885f4",
   "metadata": {},
   "outputs": [],
   "source": [
    "# converting all columns to strings \n",
    "df.columns = list(map(str, df.columns))"
   ]
  },
  {
   "cell_type": "code",
   "execution_count": 51,
   "id": "6b94e4e5",
   "metadata": {},
   "outputs": [
    {
     "name": "stdout",
     "output_type": "stream",
     "text": [
      "[['Afghanistan', 'Armenia', 'Azerbaijan', 'Bahrain', 'Bangladesh', 'Bhutan', 'Brunei Darussalam', 'Cambodia', 'China', 'China, Hong Kong Special Administrative Region', 'China, Macao Special Administrative Region', 'Cyprus', \"Democratic People's Republic of Korea\", 'Georgia', 'India', 'Indonesia', 'Iran (Islamic Republic of)', 'Iraq', 'Israel', 'Japan', 'Jordan', 'Kazakhstan', 'Kuwait', 'Kyrgyzstan', \"Lao People's Democratic Republic\", 'Lebanon', 'Malaysia', 'Maldives', 'Mongolia', 'Myanmar', 'Nepal', 'Oman', 'Pakistan', 'Philippines', 'Qatar', 'Republic of Korea', 'Saudi Arabia', 'Singapore', 'Sri Lanka', 'State of Palestine', 'Syrian Arab Republic', 'Tajikistan', 'Thailand', 'Turkey', 'Turkmenistan', 'United Arab Emirates', 'Uzbekistan', 'Viet Nam', 'Yemen']]\n",
      "[['Afghanistan', 'Armenia', 'Azerbaijan', 'Bahrain', 'Bangladesh', 'Bhutan', 'Brunei Darussalam', 'Cambodia', 'China', 'China, Hong Kong Special Administrative Region', 'China, Macao Special Administrative Region', 'Cyprus', \"Democratic People's Republic of Korea\", 'Georgia', 'India', 'Indonesia', 'Iran (Islamic Republic of)', 'Iraq', 'Israel', 'Japan', 'Jordan', 'Kazakhstan', 'Kuwait', 'Kyrgyzstan', \"Lao People's Democratic Republic\", 'Lebanon', 'Malaysia', 'Maldives', 'Mongolia', 'Myanmar', 'Nepal', 'Oman', 'Pakistan', 'Philippines', 'Qatar', 'Republic of Korea', 'Saudi Arabia', 'Singapore', 'Sri Lanka', 'State of Palestine', 'Syrian Arab Republic', 'Tajikistan', 'Thailand', 'Turkey', 'Turkmenistan', 'United Arab Emirates', 'Uzbekistan', 'Viet Nam', 'Yemen'], ['Albania', 'Andorra', 'Austria', 'Belarus', 'Belgium', 'Bosnia and Herzegovina', 'Bulgaria', 'Croatia', 'Czech Republic', 'Denmark', 'Estonia', 'Finland', 'France', 'Germany', 'Greece', 'Hungary', 'Iceland', 'Ireland', 'Italy', 'Latvia', 'Liechtenstein', 'Lithuania', 'Luxembourg', 'Malta', 'Monaco', 'Montenegro', 'Netherlands', 'Norway', 'Poland', 'Portugal', 'Republic of Moldova', 'Romania', 'Russian Federation', 'San Marino', 'Serbia', 'Slovakia', 'Slovenia', 'Spain', 'Sweden', 'Switzerland', 'The former Yugoslav Republic of Macedonia', 'Ukraine', 'United Kingdom of Great Britain and Northern Ireland']]\n",
      "[['Afghanistan', 'Armenia', 'Azerbaijan', 'Bahrain', 'Bangladesh', 'Bhutan', 'Brunei Darussalam', 'Cambodia', 'China', 'China, Hong Kong Special Administrative Region', 'China, Macao Special Administrative Region', 'Cyprus', \"Democratic People's Republic of Korea\", 'Georgia', 'India', 'Indonesia', 'Iran (Islamic Republic of)', 'Iraq', 'Israel', 'Japan', 'Jordan', 'Kazakhstan', 'Kuwait', 'Kyrgyzstan', \"Lao People's Democratic Republic\", 'Lebanon', 'Malaysia', 'Maldives', 'Mongolia', 'Myanmar', 'Nepal', 'Oman', 'Pakistan', 'Philippines', 'Qatar', 'Republic of Korea', 'Saudi Arabia', 'Singapore', 'Sri Lanka', 'State of Palestine', 'Syrian Arab Republic', 'Tajikistan', 'Thailand', 'Turkey', 'Turkmenistan', 'United Arab Emirates', 'Uzbekistan', 'Viet Nam', 'Yemen'], ['Albania', 'Andorra', 'Austria', 'Belarus', 'Belgium', 'Bosnia and Herzegovina', 'Bulgaria', 'Croatia', 'Czech Republic', 'Denmark', 'Estonia', 'Finland', 'France', 'Germany', 'Greece', 'Hungary', 'Iceland', 'Ireland', 'Italy', 'Latvia', 'Liechtenstein', 'Lithuania', 'Luxembourg', 'Malta', 'Monaco', 'Montenegro', 'Netherlands', 'Norway', 'Poland', 'Portugal', 'Republic of Moldova', 'Romania', 'Russian Federation', 'San Marino', 'Serbia', 'Slovakia', 'Slovenia', 'Spain', 'Sweden', 'Switzerland', 'The former Yugoslav Republic of Macedonia', 'Ukraine', 'United Kingdom of Great Britain and Northern Ireland'], ['Algeria', 'Angola', 'Benin', 'Botswana', 'Burkina Faso', 'Burundi', 'Cabo Verde', 'Cameroon', 'Central African Republic', 'Chad', 'Comoros', 'Congo', \"Côte d'Ivoire\", 'Democratic Republic of the Congo', 'Djibouti', 'Egypt', 'Equatorial Guinea', 'Eritrea', 'Ethiopia', 'Gabon', 'Gambia', 'Ghana', 'Guinea', 'Guinea-Bissau', 'Kenya', 'Lesotho', 'Liberia', 'Libya', 'Madagascar', 'Malawi', 'Mali', 'Mauritania', 'Mauritius', 'Morocco', 'Mozambique', 'Namibia', 'Niger', 'Nigeria', 'Rwanda', 'Sao Tome and Principe', 'Senegal', 'Seychelles', 'Sierra Leone', 'Somalia', 'South Africa', 'Sudan', 'Swaziland', 'Togo', 'Tunisia', 'Uganda', 'United Republic of Tanzania', 'Western Sahara', 'Zambia', 'Zimbabwe']]\n",
      "[['Afghanistan', 'Armenia', 'Azerbaijan', 'Bahrain', 'Bangladesh', 'Bhutan', 'Brunei Darussalam', 'Cambodia', 'China', 'China, Hong Kong Special Administrative Region', 'China, Macao Special Administrative Region', 'Cyprus', \"Democratic People's Republic of Korea\", 'Georgia', 'India', 'Indonesia', 'Iran (Islamic Republic of)', 'Iraq', 'Israel', 'Japan', 'Jordan', 'Kazakhstan', 'Kuwait', 'Kyrgyzstan', \"Lao People's Democratic Republic\", 'Lebanon', 'Malaysia', 'Maldives', 'Mongolia', 'Myanmar', 'Nepal', 'Oman', 'Pakistan', 'Philippines', 'Qatar', 'Republic of Korea', 'Saudi Arabia', 'Singapore', 'Sri Lanka', 'State of Palestine', 'Syrian Arab Republic', 'Tajikistan', 'Thailand', 'Turkey', 'Turkmenistan', 'United Arab Emirates', 'Uzbekistan', 'Viet Nam', 'Yemen'], ['Albania', 'Andorra', 'Austria', 'Belarus', 'Belgium', 'Bosnia and Herzegovina', 'Bulgaria', 'Croatia', 'Czech Republic', 'Denmark', 'Estonia', 'Finland', 'France', 'Germany', 'Greece', 'Hungary', 'Iceland', 'Ireland', 'Italy', 'Latvia', 'Liechtenstein', 'Lithuania', 'Luxembourg', 'Malta', 'Monaco', 'Montenegro', 'Netherlands', 'Norway', 'Poland', 'Portugal', 'Republic of Moldova', 'Romania', 'Russian Federation', 'San Marino', 'Serbia', 'Slovakia', 'Slovenia', 'Spain', 'Sweden', 'Switzerland', 'The former Yugoslav Republic of Macedonia', 'Ukraine', 'United Kingdom of Great Britain and Northern Ireland'], ['Algeria', 'Angola', 'Benin', 'Botswana', 'Burkina Faso', 'Burundi', 'Cabo Verde', 'Cameroon', 'Central African Republic', 'Chad', 'Comoros', 'Congo', \"Côte d'Ivoire\", 'Democratic Republic of the Congo', 'Djibouti', 'Egypt', 'Equatorial Guinea', 'Eritrea', 'Ethiopia', 'Gabon', 'Gambia', 'Ghana', 'Guinea', 'Guinea-Bissau', 'Kenya', 'Lesotho', 'Liberia', 'Libya', 'Madagascar', 'Malawi', 'Mali', 'Mauritania', 'Mauritius', 'Morocco', 'Mozambique', 'Namibia', 'Niger', 'Nigeria', 'Rwanda', 'Sao Tome and Principe', 'Senegal', 'Seychelles', 'Sierra Leone', 'Somalia', 'South Africa', 'Sudan', 'Swaziland', 'Togo', 'Tunisia', 'Uganda', 'United Republic of Tanzania', 'Western Sahara', 'Zambia', 'Zimbabwe'], ['American Samoa', 'Australia', 'Fiji', 'Kiribati', 'Marshall Islands', 'Nauru', 'New Caledonia', 'New Zealand', 'Palau', 'Papua New Guinea', 'Samoa', 'Tonga', 'Tuvalu', 'Vanuatu']]\n",
      "[['Afghanistan', 'Armenia', 'Azerbaijan', 'Bahrain', 'Bangladesh', 'Bhutan', 'Brunei Darussalam', 'Cambodia', 'China', 'China, Hong Kong Special Administrative Region', 'China, Macao Special Administrative Region', 'Cyprus', \"Democratic People's Republic of Korea\", 'Georgia', 'India', 'Indonesia', 'Iran (Islamic Republic of)', 'Iraq', 'Israel', 'Japan', 'Jordan', 'Kazakhstan', 'Kuwait', 'Kyrgyzstan', \"Lao People's Democratic Republic\", 'Lebanon', 'Malaysia', 'Maldives', 'Mongolia', 'Myanmar', 'Nepal', 'Oman', 'Pakistan', 'Philippines', 'Qatar', 'Republic of Korea', 'Saudi Arabia', 'Singapore', 'Sri Lanka', 'State of Palestine', 'Syrian Arab Republic', 'Tajikistan', 'Thailand', 'Turkey', 'Turkmenistan', 'United Arab Emirates', 'Uzbekistan', 'Viet Nam', 'Yemen'], ['Albania', 'Andorra', 'Austria', 'Belarus', 'Belgium', 'Bosnia and Herzegovina', 'Bulgaria', 'Croatia', 'Czech Republic', 'Denmark', 'Estonia', 'Finland', 'France', 'Germany', 'Greece', 'Hungary', 'Iceland', 'Ireland', 'Italy', 'Latvia', 'Liechtenstein', 'Lithuania', 'Luxembourg', 'Malta', 'Monaco', 'Montenegro', 'Netherlands', 'Norway', 'Poland', 'Portugal', 'Republic of Moldova', 'Romania', 'Russian Federation', 'San Marino', 'Serbia', 'Slovakia', 'Slovenia', 'Spain', 'Sweden', 'Switzerland', 'The former Yugoslav Republic of Macedonia', 'Ukraine', 'United Kingdom of Great Britain and Northern Ireland'], ['Algeria', 'Angola', 'Benin', 'Botswana', 'Burkina Faso', 'Burundi', 'Cabo Verde', 'Cameroon', 'Central African Republic', 'Chad', 'Comoros', 'Congo', \"Côte d'Ivoire\", 'Democratic Republic of the Congo', 'Djibouti', 'Egypt', 'Equatorial Guinea', 'Eritrea', 'Ethiopia', 'Gabon', 'Gambia', 'Ghana', 'Guinea', 'Guinea-Bissau', 'Kenya', 'Lesotho', 'Liberia', 'Libya', 'Madagascar', 'Malawi', 'Mali', 'Mauritania', 'Mauritius', 'Morocco', 'Mozambique', 'Namibia', 'Niger', 'Nigeria', 'Rwanda', 'Sao Tome and Principe', 'Senegal', 'Seychelles', 'Sierra Leone', 'Somalia', 'South Africa', 'Sudan', 'Swaziland', 'Togo', 'Tunisia', 'Uganda', 'United Republic of Tanzania', 'Western Sahara', 'Zambia', 'Zimbabwe'], ['American Samoa', 'Australia', 'Fiji', 'Kiribati', 'Marshall Islands', 'Nauru', 'New Caledonia', 'New Zealand', 'Palau', 'Papua New Guinea', 'Samoa', 'Tonga', 'Tuvalu', 'Vanuatu'], ['Antigua and Barbuda', 'Argentina', 'Bahamas', 'Barbados', 'Belize', 'Bolivia (Plurinational State of)', 'Brazil', 'Chile', 'Colombia', 'Costa Rica', 'Cuba', 'Dominica', 'Dominican Republic', 'Ecuador', 'El Salvador', 'Grenada', 'Guatemala', 'Guyana', 'Haiti', 'Honduras', 'Jamaica', 'Mexico', 'Nicaragua', 'Panama', 'Paraguay', 'Peru', 'Saint Kitts and Nevis', 'Saint Lucia', 'Saint Vincent and the Grenadines', 'Suriname', 'Trinidad and Tobago', 'Uruguay', 'Venezuela (Bolivarian Republic of)']]\n",
      "[['Afghanistan', 'Armenia', 'Azerbaijan', 'Bahrain', 'Bangladesh', 'Bhutan', 'Brunei Darussalam', 'Cambodia', 'China', 'China, Hong Kong Special Administrative Region', 'China, Macao Special Administrative Region', 'Cyprus', \"Democratic People's Republic of Korea\", 'Georgia', 'India', 'Indonesia', 'Iran (Islamic Republic of)', 'Iraq', 'Israel', 'Japan', 'Jordan', 'Kazakhstan', 'Kuwait', 'Kyrgyzstan', \"Lao People's Democratic Republic\", 'Lebanon', 'Malaysia', 'Maldives', 'Mongolia', 'Myanmar', 'Nepal', 'Oman', 'Pakistan', 'Philippines', 'Qatar', 'Republic of Korea', 'Saudi Arabia', 'Singapore', 'Sri Lanka', 'State of Palestine', 'Syrian Arab Republic', 'Tajikistan', 'Thailand', 'Turkey', 'Turkmenistan', 'United Arab Emirates', 'Uzbekistan', 'Viet Nam', 'Yemen'], ['Albania', 'Andorra', 'Austria', 'Belarus', 'Belgium', 'Bosnia and Herzegovina', 'Bulgaria', 'Croatia', 'Czech Republic', 'Denmark', 'Estonia', 'Finland', 'France', 'Germany', 'Greece', 'Hungary', 'Iceland', 'Ireland', 'Italy', 'Latvia', 'Liechtenstein', 'Lithuania', 'Luxembourg', 'Malta', 'Monaco', 'Montenegro', 'Netherlands', 'Norway', 'Poland', 'Portugal', 'Republic of Moldova', 'Romania', 'Russian Federation', 'San Marino', 'Serbia', 'Slovakia', 'Slovenia', 'Spain', 'Sweden', 'Switzerland', 'The former Yugoslav Republic of Macedonia', 'Ukraine', 'United Kingdom of Great Britain and Northern Ireland'], ['Algeria', 'Angola', 'Benin', 'Botswana', 'Burkina Faso', 'Burundi', 'Cabo Verde', 'Cameroon', 'Central African Republic', 'Chad', 'Comoros', 'Congo', \"Côte d'Ivoire\", 'Democratic Republic of the Congo', 'Djibouti', 'Egypt', 'Equatorial Guinea', 'Eritrea', 'Ethiopia', 'Gabon', 'Gambia', 'Ghana', 'Guinea', 'Guinea-Bissau', 'Kenya', 'Lesotho', 'Liberia', 'Libya', 'Madagascar', 'Malawi', 'Mali', 'Mauritania', 'Mauritius', 'Morocco', 'Mozambique', 'Namibia', 'Niger', 'Nigeria', 'Rwanda', 'Sao Tome and Principe', 'Senegal', 'Seychelles', 'Sierra Leone', 'Somalia', 'South Africa', 'Sudan', 'Swaziland', 'Togo', 'Tunisia', 'Uganda', 'United Republic of Tanzania', 'Western Sahara', 'Zambia', 'Zimbabwe'], ['American Samoa', 'Australia', 'Fiji', 'Kiribati', 'Marshall Islands', 'Nauru', 'New Caledonia', 'New Zealand', 'Palau', 'Papua New Guinea', 'Samoa', 'Tonga', 'Tuvalu', 'Vanuatu'], ['Antigua and Barbuda', 'Argentina', 'Bahamas', 'Barbados', 'Belize', 'Bolivia (Plurinational State of)', 'Brazil', 'Chile', 'Colombia', 'Costa Rica', 'Cuba', 'Dominica', 'Dominican Republic', 'Ecuador', 'El Salvador', 'Grenada', 'Guatemala', 'Guyana', 'Haiti', 'Honduras', 'Jamaica', 'Mexico', 'Nicaragua', 'Panama', 'Paraguay', 'Peru', 'Saint Kitts and Nevis', 'Saint Lucia', 'Saint Vincent and the Grenadines', 'Suriname', 'Trinidad and Tobago', 'Uruguay', 'Venezuela (Bolivarian Republic of)'], ['Canada', 'United States of America']]\n"
     ]
    }
   ],
   "source": [
    "unique_continents = df['Continent'].unique()\n",
    "# print(unique_continents,'Length is:',len(unique_continents))\n",
    "lst_country =[]\n",
    "for continents in unique_continents:\n",
    "    countries = df.loc[df['Continent']==continents]\n",
    "    countries = list(countries.index.unique())\n",
    "    lst_country.append(countries)\n",
    "\n",
    "\n",
    "# for values in zip(unique_continents,lst_country):\n",
    "#     print(f'The continent {values[0]},with countries {values[1]}, number of countries {len(values[1])} \\n')\n"
   ]
  },
  {
   "cell_type": "code",
   "execution_count": 50,
   "id": "e49e56be",
   "metadata": {
    "scrolled": true
   },
   "outputs": [
    {
     "data": {
      "application/vnd.plotly.v1+json": {
       "config": {
        "plotlyServerURL": "https://plot.ly"
       },
       "data": [
        {
         "alignmentgroup": "True",
         "bingroup": "x",
         "histfunc": "sum",
         "hovertemplate": "variable=1980<br>Country=%{x}<br>sum of value=%{y}<extra></extra>",
         "legendgroup": "1980",
         "marker": {
          "color": "#636efa",
          "pattern": {
           "shape": ""
          }
         },
         "name": "1980",
         "offsetgroup": "1980",
         "orientation": "v",
         "showlegend": true,
         "type": "histogram",
         "x": [
          "Canada",
          "United States of America"
         ],
         "xaxis": "x",
         "y": [
          0,
          9378
         ],
         "yaxis": "y"
        },
        {
         "alignmentgroup": "True",
         "bingroup": "x",
         "histfunc": "sum",
         "hovertemplate": "variable=1981<br>Country=%{x}<br>sum of value=%{y}<extra></extra>",
         "legendgroup": "1981",
         "marker": {
          "color": "#EF553B",
          "pattern": {
           "shape": ""
          }
         },
         "name": "1981",
         "offsetgroup": "1981",
         "orientation": "v",
         "showlegend": true,
         "type": "histogram",
         "x": [
          "Canada",
          "United States of America"
         ],
         "xaxis": "x",
         "y": [
          0,
          10030
         ],
         "yaxis": "y"
        },
        {
         "alignmentgroup": "True",
         "bingroup": "x",
         "histfunc": "sum",
         "hovertemplate": "variable=1982<br>Country=%{x}<br>sum of value=%{y}<extra></extra>",
         "legendgroup": "1982",
         "marker": {
          "color": "#00cc96",
          "pattern": {
           "shape": ""
          }
         },
         "name": "1982",
         "offsetgroup": "1982",
         "orientation": "v",
         "showlegend": true,
         "type": "histogram",
         "x": [
          "Canada",
          "United States of America"
         ],
         "xaxis": "x",
         "y": [
          0,
          9074
         ],
         "yaxis": "y"
        },
        {
         "alignmentgroup": "True",
         "bingroup": "x",
         "histfunc": "sum",
         "hovertemplate": "variable=1983<br>Country=%{x}<br>sum of value=%{y}<extra></extra>",
         "legendgroup": "1983",
         "marker": {
          "color": "#ab63fa",
          "pattern": {
           "shape": ""
          }
         },
         "name": "1983",
         "offsetgroup": "1983",
         "orientation": "v",
         "showlegend": true,
         "type": "histogram",
         "x": [
          "Canada",
          "United States of America"
         ],
         "xaxis": "x",
         "y": [
          0,
          7100
         ],
         "yaxis": "y"
        },
        {
         "alignmentgroup": "True",
         "bingroup": "x",
         "histfunc": "sum",
         "hovertemplate": "variable=1984<br>Country=%{x}<br>sum of value=%{y}<extra></extra>",
         "legendgroup": "1984",
         "marker": {
          "color": "#FFA15A",
          "pattern": {
           "shape": ""
          }
         },
         "name": "1984",
         "offsetgroup": "1984",
         "orientation": "v",
         "showlegend": true,
         "type": "histogram",
         "x": [
          "Canada",
          "United States of America"
         ],
         "xaxis": "x",
         "y": [
          0,
          6661
         ],
         "yaxis": "y"
        },
        {
         "alignmentgroup": "True",
         "bingroup": "x",
         "histfunc": "sum",
         "hovertemplate": "variable=1985<br>Country=%{x}<br>sum of value=%{y}<extra></extra>",
         "legendgroup": "1985",
         "marker": {
          "color": "#19d3f3",
          "pattern": {
           "shape": ""
          }
         },
         "name": "1985",
         "offsetgroup": "1985",
         "orientation": "v",
         "showlegend": true,
         "type": "histogram",
         "x": [
          "Canada",
          "United States of America"
         ],
         "xaxis": "x",
         "y": [
          0,
          6543
         ],
         "yaxis": "y"
        },
        {
         "alignmentgroup": "True",
         "bingroup": "x",
         "histfunc": "sum",
         "hovertemplate": "variable=1986<br>Country=%{x}<br>sum of value=%{y}<extra></extra>",
         "legendgroup": "1986",
         "marker": {
          "color": "#FF6692",
          "pattern": {
           "shape": ""
          }
         },
         "name": "1986",
         "offsetgroup": "1986",
         "orientation": "v",
         "showlegend": true,
         "type": "histogram",
         "x": [
          "Canada",
          "United States of America"
         ],
         "xaxis": "x",
         "y": [
          0,
          7074
         ],
         "yaxis": "y"
        },
        {
         "alignmentgroup": "True",
         "bingroup": "x",
         "histfunc": "sum",
         "hovertemplate": "variable=1987<br>Country=%{x}<br>sum of value=%{y}<extra></extra>",
         "legendgroup": "1987",
         "marker": {
          "color": "#B6E880",
          "pattern": {
           "shape": ""
          }
         },
         "name": "1987",
         "offsetgroup": "1987",
         "orientation": "v",
         "showlegend": true,
         "type": "histogram",
         "x": [
          "Canada",
          "United States of America"
         ],
         "xaxis": "x",
         "y": [
          0,
          7705
         ],
         "yaxis": "y"
        },
        {
         "alignmentgroup": "True",
         "bingroup": "x",
         "histfunc": "sum",
         "hovertemplate": "variable=1988<br>Country=%{x}<br>sum of value=%{y}<extra></extra>",
         "legendgroup": "1988",
         "marker": {
          "color": "#FF97FF",
          "pattern": {
           "shape": ""
          }
         },
         "name": "1988",
         "offsetgroup": "1988",
         "orientation": "v",
         "showlegend": true,
         "type": "histogram",
         "x": [
          "Canada",
          "United States of America"
         ],
         "xaxis": "x",
         "y": [
          0,
          6469
         ],
         "yaxis": "y"
        },
        {
         "alignmentgroup": "True",
         "bingroup": "x",
         "histfunc": "sum",
         "hovertemplate": "variable=1989<br>Country=%{x}<br>sum of value=%{y}<extra></extra>",
         "legendgroup": "1989",
         "marker": {
          "color": "#FECB52",
          "pattern": {
           "shape": ""
          }
         },
         "name": "1989",
         "offsetgroup": "1989",
         "orientation": "v",
         "showlegend": true,
         "type": "histogram",
         "x": [
          "Canada",
          "United States of America"
         ],
         "xaxis": "x",
         "y": [
          0,
          6790
         ],
         "yaxis": "y"
        },
        {
         "alignmentgroup": "True",
         "bingroup": "x",
         "histfunc": "sum",
         "hovertemplate": "variable=1990<br>Country=%{x}<br>sum of value=%{y}<extra></extra>",
         "legendgroup": "1990",
         "marker": {
          "color": "#636efa",
          "pattern": {
           "shape": ""
          }
         },
         "name": "1990",
         "offsetgroup": "1990",
         "orientation": "v",
         "showlegend": true,
         "type": "histogram",
         "x": [
          "Canada",
          "United States of America"
         ],
         "xaxis": "x",
         "y": [
          3,
          5892
         ],
         "yaxis": "y"
        },
        {
         "alignmentgroup": "True",
         "bingroup": "x",
         "histfunc": "sum",
         "hovertemplate": "variable=1991<br>Country=%{x}<br>sum of value=%{y}<extra></extra>",
         "legendgroup": "1991",
         "marker": {
          "color": "#EF553B",
          "pattern": {
           "shape": ""
          }
         },
         "name": "1991",
         "offsetgroup": "1991",
         "orientation": "v",
         "showlegend": true,
         "type": "histogram",
         "x": [
          "Canada",
          "United States of America"
         ],
         "xaxis": "x",
         "y": [
          3,
          6054
         ],
         "yaxis": "y"
        },
        {
         "alignmentgroup": "True",
         "bingroup": "x",
         "histfunc": "sum",
         "hovertemplate": "variable=1992<br>Country=%{x}<br>sum of value=%{y}<extra></extra>",
         "legendgroup": "1992",
         "marker": {
          "color": "#00cc96",
          "pattern": {
           "shape": ""
          }
         },
         "name": "1992",
         "offsetgroup": "1992",
         "orientation": "v",
         "showlegend": true,
         "type": "histogram",
         "x": [
          "Canada",
          "United States of America"
         ],
         "xaxis": "x",
         "y": [
          4,
          6842
         ],
         "yaxis": "y"
        },
        {
         "alignmentgroup": "True",
         "bingroup": "x",
         "histfunc": "sum",
         "hovertemplate": "variable=1993<br>Country=%{x}<br>sum of value=%{y}<extra></extra>",
         "legendgroup": "1993",
         "marker": {
          "color": "#ab63fa",
          "pattern": {
           "shape": ""
          }
         },
         "name": "1993",
         "offsetgroup": "1993",
         "orientation": "v",
         "showlegend": true,
         "type": "histogram",
         "x": [
          "Canada",
          "United States of America"
         ],
         "xaxis": "x",
         "y": [
          3,
          7435
         ],
         "yaxis": "y"
        },
        {
         "alignmentgroup": "True",
         "bingroup": "x",
         "histfunc": "sum",
         "hovertemplate": "variable=1994<br>Country=%{x}<br>sum of value=%{y}<extra></extra>",
         "legendgroup": "1994",
         "marker": {
          "color": "#FFA15A",
          "pattern": {
           "shape": ""
          }
         },
         "name": "1994",
         "offsetgroup": "1994",
         "orientation": "v",
         "showlegend": true,
         "type": "histogram",
         "x": [
          "Canada",
          "United States of America"
         ],
         "xaxis": "x",
         "y": [
          1,
          5901
         ],
         "yaxis": "y"
        },
        {
         "alignmentgroup": "True",
         "bingroup": "x",
         "histfunc": "sum",
         "hovertemplate": "variable=1995<br>Country=%{x}<br>sum of value=%{y}<extra></extra>",
         "legendgroup": "1995",
         "marker": {
          "color": "#19d3f3",
          "pattern": {
           "shape": ""
          }
         },
         "name": "1995",
         "offsetgroup": "1995",
         "orientation": "v",
         "showlegend": true,
         "type": "histogram",
         "x": [
          "Canada",
          "United States of America"
         ],
         "xaxis": "x",
         "y": [
          1,
          4890
         ],
         "yaxis": "y"
        },
        {
         "alignmentgroup": "True",
         "bingroup": "x",
         "histfunc": "sum",
         "hovertemplate": "variable=1996<br>Country=%{x}<br>sum of value=%{y}<extra></extra>",
         "legendgroup": "1996",
         "marker": {
          "color": "#FF6692",
          "pattern": {
           "shape": ""
          }
         },
         "name": "1996",
         "offsetgroup": "1996",
         "orientation": "v",
         "showlegend": true,
         "type": "histogram",
         "x": [
          "Canada",
          "United States of America"
         ],
         "xaxis": "x",
         "y": [
          1,
          5515
         ],
         "yaxis": "y"
        },
        {
         "alignmentgroup": "True",
         "bingroup": "x",
         "histfunc": "sum",
         "hovertemplate": "variable=1997<br>Country=%{x}<br>sum of value=%{y}<extra></extra>",
         "legendgroup": "1997",
         "marker": {
          "color": "#B6E880",
          "pattern": {
           "shape": ""
          }
         },
         "name": "1997",
         "offsetgroup": "1997",
         "orientation": "v",
         "showlegend": true,
         "type": "histogram",
         "x": [
          "Canada",
          "United States of America"
         ],
         "xaxis": "x",
         "y": [
          0,
          4753
         ],
         "yaxis": "y"
        },
        {
         "alignmentgroup": "True",
         "bingroup": "x",
         "histfunc": "sum",
         "hovertemplate": "variable=1998<br>Country=%{x}<br>sum of value=%{y}<extra></extra>",
         "legendgroup": "1998",
         "marker": {
          "color": "#FF97FF",
          "pattern": {
           "shape": ""
          }
         },
         "name": "1998",
         "offsetgroup": "1998",
         "orientation": "v",
         "showlegend": true,
         "type": "histogram",
         "x": [
          "Canada",
          "United States of America"
         ],
         "xaxis": "x",
         "y": [
          0,
          4437
         ],
         "yaxis": "y"
        },
        {
         "alignmentgroup": "True",
         "bingroup": "x",
         "histfunc": "sum",
         "hovertemplate": "variable=1999<br>Country=%{x}<br>sum of value=%{y}<extra></extra>",
         "legendgroup": "1999",
         "marker": {
          "color": "#FECB52",
          "pattern": {
           "shape": ""
          }
         },
         "name": "1999",
         "offsetgroup": "1999",
         "orientation": "v",
         "showlegend": true,
         "type": "histogram",
         "x": [
          "Canada",
          "United States of America"
         ],
         "xaxis": "x",
         "y": [
          0,
          5196
         ],
         "yaxis": "y"
        },
        {
         "alignmentgroup": "True",
         "bingroup": "x",
         "histfunc": "sum",
         "hovertemplate": "variable=2000<br>Country=%{x}<br>sum of value=%{y}<extra></extra>",
         "legendgroup": "2000",
         "marker": {
          "color": "#636efa",
          "pattern": {
           "shape": ""
          }
         },
         "name": "2000",
         "offsetgroup": "2000",
         "orientation": "v",
         "showlegend": true,
         "type": "histogram",
         "x": [
          "Canada",
          "United States of America"
         ],
         "xaxis": "x",
         "y": [
          0,
          5433
         ],
         "yaxis": "y"
        },
        {
         "alignmentgroup": "True",
         "bingroup": "x",
         "histfunc": "sum",
         "hovertemplate": "variable=2001<br>Country=%{x}<br>sum of value=%{y}<extra></extra>",
         "legendgroup": "2001",
         "marker": {
          "color": "#EF553B",
          "pattern": {
           "shape": ""
          }
         },
         "name": "2001",
         "offsetgroup": "2001",
         "orientation": "v",
         "showlegend": true,
         "type": "histogram",
         "x": [
          "Canada",
          "United States of America"
         ],
         "xaxis": "x",
         "y": [
          0,
          5604
         ],
         "yaxis": "y"
        },
        {
         "alignmentgroup": "True",
         "bingroup": "x",
         "histfunc": "sum",
         "hovertemplate": "variable=2002<br>Country=%{x}<br>sum of value=%{y}<extra></extra>",
         "legendgroup": "2002",
         "marker": {
          "color": "#00cc96",
          "pattern": {
           "shape": ""
          }
         },
         "name": "2002",
         "offsetgroup": "2002",
         "orientation": "v",
         "showlegend": true,
         "type": "histogram",
         "x": [
          "Canada",
          "United States of America"
         ],
         "xaxis": "x",
         "y": [
          0,
          4948
         ],
         "yaxis": "y"
        },
        {
         "alignmentgroup": "True",
         "bingroup": "x",
         "histfunc": "sum",
         "hovertemplate": "variable=2003<br>Country=%{x}<br>sum of value=%{y}<extra></extra>",
         "legendgroup": "2003",
         "marker": {
          "color": "#ab63fa",
          "pattern": {
           "shape": ""
          }
         },
         "name": "2003",
         "offsetgroup": "2003",
         "orientation": "v",
         "showlegend": true,
         "type": "histogram",
         "x": [
          "Canada",
          "United States of America"
         ],
         "xaxis": "x",
         "y": [
          0,
          5543
         ],
         "yaxis": "y"
        },
        {
         "alignmentgroup": "True",
         "bingroup": "x",
         "histfunc": "sum",
         "hovertemplate": "variable=2004<br>Country=%{x}<br>sum of value=%{y}<extra></extra>",
         "legendgroup": "2004",
         "marker": {
          "color": "#FFA15A",
          "pattern": {
           "shape": ""
          }
         },
         "name": "2004",
         "offsetgroup": "2004",
         "orientation": "v",
         "showlegend": true,
         "type": "histogram",
         "x": [
          "Canada",
          "United States of America"
         ],
         "xaxis": "x",
         "y": [
          0,
          6990
         ],
         "yaxis": "y"
        },
        {
         "alignmentgroup": "True",
         "bingroup": "x",
         "histfunc": "sum",
         "hovertemplate": "variable=2005<br>Country=%{x}<br>sum of value=%{y}<extra></extra>",
         "legendgroup": "2005",
         "marker": {
          "color": "#19d3f3",
          "pattern": {
           "shape": ""
          }
         },
         "name": "2005",
         "offsetgroup": "2005",
         "orientation": "v",
         "showlegend": true,
         "type": "histogram",
         "x": [
          "Canada",
          "United States of America"
         ],
         "xaxis": "x",
         "y": [
          0,
          8394
         ],
         "yaxis": "y"
        },
        {
         "alignmentgroup": "True",
         "bingroup": "x",
         "histfunc": "sum",
         "hovertemplate": "variable=2006<br>Country=%{x}<br>sum of value=%{y}<extra></extra>",
         "legendgroup": "2006",
         "marker": {
          "color": "#FF6692",
          "pattern": {
           "shape": ""
          }
         },
         "name": "2006",
         "offsetgroup": "2006",
         "orientation": "v",
         "showlegend": true,
         "type": "histogram",
         "x": [
          "Canada",
          "United States of America"
         ],
         "xaxis": "x",
         "y": [
          0,
          9613
         ],
         "yaxis": "y"
        },
        {
         "alignmentgroup": "True",
         "bingroup": "x",
         "histfunc": "sum",
         "hovertemplate": "variable=2007<br>Country=%{x}<br>sum of value=%{y}<extra></extra>",
         "legendgroup": "2007",
         "marker": {
          "color": "#B6E880",
          "pattern": {
           "shape": ""
          }
         },
         "name": "2007",
         "offsetgroup": "2007",
         "orientation": "v",
         "showlegend": true,
         "type": "histogram",
         "x": [
          "Canada",
          "United States of America"
         ],
         "xaxis": "x",
         "y": [
          0,
          9463
         ],
         "yaxis": "y"
        },
        {
         "alignmentgroup": "True",
         "bingroup": "x",
         "histfunc": "sum",
         "hovertemplate": "variable=2008<br>Country=%{x}<br>sum of value=%{y}<extra></extra>",
         "legendgroup": "2008",
         "marker": {
          "color": "#FF97FF",
          "pattern": {
           "shape": ""
          }
         },
         "name": "2008",
         "offsetgroup": "2008",
         "orientation": "v",
         "showlegend": true,
         "type": "histogram",
         "x": [
          "Canada",
          "United States of America"
         ],
         "xaxis": "x",
         "y": [
          0,
          10190
         ],
         "yaxis": "y"
        },
        {
         "alignmentgroup": "True",
         "bingroup": "x",
         "histfunc": "sum",
         "hovertemplate": "variable=2009<br>Country=%{x}<br>sum of value=%{y}<extra></extra>",
         "legendgroup": "2009",
         "marker": {
          "color": "#FECB52",
          "pattern": {
           "shape": ""
          }
         },
         "name": "2009",
         "offsetgroup": "2009",
         "orientation": "v",
         "showlegend": true,
         "type": "histogram",
         "x": [
          "Canada",
          "United States of America"
         ],
         "xaxis": "x",
         "y": [
          0,
          8995
         ],
         "yaxis": "y"
        },
        {
         "alignmentgroup": "True",
         "bingroup": "x",
         "histfunc": "sum",
         "hovertemplate": "variable=2010<br>Country=%{x}<br>sum of value=%{y}<extra></extra>",
         "legendgroup": "2010",
         "marker": {
          "color": "#636efa",
          "pattern": {
           "shape": ""
          }
         },
         "name": "2010",
         "offsetgroup": "2010",
         "orientation": "v",
         "showlegend": true,
         "type": "histogram",
         "x": [
          "Canada",
          "United States of America"
         ],
         "xaxis": "x",
         "y": [
          0,
          8142
         ],
         "yaxis": "y"
        },
        {
         "alignmentgroup": "True",
         "bingroup": "x",
         "histfunc": "sum",
         "hovertemplate": "variable=2011<br>Country=%{x}<br>sum of value=%{y}<extra></extra>",
         "legendgroup": "2011",
         "marker": {
          "color": "#EF553B",
          "pattern": {
           "shape": ""
          }
         },
         "name": "2011",
         "offsetgroup": "2011",
         "orientation": "v",
         "showlegend": true,
         "type": "histogram",
         "x": [
          "Canada",
          "United States of America"
         ],
         "xaxis": "x",
         "y": [
          1,
          7676
         ],
         "yaxis": "y"
        },
        {
         "alignmentgroup": "True",
         "bingroup": "x",
         "histfunc": "sum",
         "hovertemplate": "variable=2012<br>Country=%{x}<br>sum of value=%{y}<extra></extra>",
         "legendgroup": "2012",
         "marker": {
          "color": "#00cc96",
          "pattern": {
           "shape": ""
          }
         },
         "name": "2012",
         "offsetgroup": "2012",
         "orientation": "v",
         "showlegend": true,
         "type": "histogram",
         "x": [
          "Canada",
          "United States of America"
         ],
         "xaxis": "x",
         "y": [
          1,
          7891
         ],
         "yaxis": "y"
        },
        {
         "alignmentgroup": "True",
         "bingroup": "x",
         "histfunc": "sum",
         "hovertemplate": "variable=2013<br>Country=%{x}<br>sum of value=%{y}<extra></extra>",
         "legendgroup": "2013",
         "marker": {
          "color": "#ab63fa",
          "pattern": {
           "shape": ""
          }
         },
         "name": "2013",
         "offsetgroup": "2013",
         "orientation": "v",
         "showlegend": true,
         "type": "histogram",
         "x": [
          "Canada",
          "United States of America"
         ],
         "xaxis": "x",
         "y": [
          2,
          8501
         ],
         "yaxis": "y"
        }
       ],
       "layout": {
        "barmode": "relative",
        "legend": {
         "title": {
          "text": "variable"
         },
         "tracegroupgap": 0
        },
        "margin": {
         "t": 60
        },
        "template": {
         "data": {
          "bar": [
           {
            "error_x": {
             "color": "#2a3f5f"
            },
            "error_y": {
             "color": "#2a3f5f"
            },
            "marker": {
             "line": {
              "color": "#E5ECF6",
              "width": 0.5
             },
             "pattern": {
              "fillmode": "overlay",
              "size": 10,
              "solidity": 0.2
             }
            },
            "type": "bar"
           }
          ],
          "barpolar": [
           {
            "marker": {
             "line": {
              "color": "#E5ECF6",
              "width": 0.5
             },
             "pattern": {
              "fillmode": "overlay",
              "size": 10,
              "solidity": 0.2
             }
            },
            "type": "barpolar"
           }
          ],
          "carpet": [
           {
            "aaxis": {
             "endlinecolor": "#2a3f5f",
             "gridcolor": "white",
             "linecolor": "white",
             "minorgridcolor": "white",
             "startlinecolor": "#2a3f5f"
            },
            "baxis": {
             "endlinecolor": "#2a3f5f",
             "gridcolor": "white",
             "linecolor": "white",
             "minorgridcolor": "white",
             "startlinecolor": "#2a3f5f"
            },
            "type": "carpet"
           }
          ],
          "choropleth": [
           {
            "colorbar": {
             "outlinewidth": 0,
             "ticks": ""
            },
            "type": "choropleth"
           }
          ],
          "contour": [
           {
            "colorbar": {
             "outlinewidth": 0,
             "ticks": ""
            },
            "colorscale": [
             [
              0,
              "#0d0887"
             ],
             [
              0.1111111111111111,
              "#46039f"
             ],
             [
              0.2222222222222222,
              "#7201a8"
             ],
             [
              0.3333333333333333,
              "#9c179e"
             ],
             [
              0.4444444444444444,
              "#bd3786"
             ],
             [
              0.5555555555555556,
              "#d8576b"
             ],
             [
              0.6666666666666666,
              "#ed7953"
             ],
             [
              0.7777777777777778,
              "#fb9f3a"
             ],
             [
              0.8888888888888888,
              "#fdca26"
             ],
             [
              1,
              "#f0f921"
             ]
            ],
            "type": "contour"
           }
          ],
          "contourcarpet": [
           {
            "colorbar": {
             "outlinewidth": 0,
             "ticks": ""
            },
            "type": "contourcarpet"
           }
          ],
          "heatmap": [
           {
            "colorbar": {
             "outlinewidth": 0,
             "ticks": ""
            },
            "colorscale": [
             [
              0,
              "#0d0887"
             ],
             [
              0.1111111111111111,
              "#46039f"
             ],
             [
              0.2222222222222222,
              "#7201a8"
             ],
             [
              0.3333333333333333,
              "#9c179e"
             ],
             [
              0.4444444444444444,
              "#bd3786"
             ],
             [
              0.5555555555555556,
              "#d8576b"
             ],
             [
              0.6666666666666666,
              "#ed7953"
             ],
             [
              0.7777777777777778,
              "#fb9f3a"
             ],
             [
              0.8888888888888888,
              "#fdca26"
             ],
             [
              1,
              "#f0f921"
             ]
            ],
            "type": "heatmap"
           }
          ],
          "heatmapgl": [
           {
            "colorbar": {
             "outlinewidth": 0,
             "ticks": ""
            },
            "colorscale": [
             [
              0,
              "#0d0887"
             ],
             [
              0.1111111111111111,
              "#46039f"
             ],
             [
              0.2222222222222222,
              "#7201a8"
             ],
             [
              0.3333333333333333,
              "#9c179e"
             ],
             [
              0.4444444444444444,
              "#bd3786"
             ],
             [
              0.5555555555555556,
              "#d8576b"
             ],
             [
              0.6666666666666666,
              "#ed7953"
             ],
             [
              0.7777777777777778,
              "#fb9f3a"
             ],
             [
              0.8888888888888888,
              "#fdca26"
             ],
             [
              1,
              "#f0f921"
             ]
            ],
            "type": "heatmapgl"
           }
          ],
          "histogram": [
           {
            "marker": {
             "pattern": {
              "fillmode": "overlay",
              "size": 10,
              "solidity": 0.2
             }
            },
            "type": "histogram"
           }
          ],
          "histogram2d": [
           {
            "colorbar": {
             "outlinewidth": 0,
             "ticks": ""
            },
            "colorscale": [
             [
              0,
              "#0d0887"
             ],
             [
              0.1111111111111111,
              "#46039f"
             ],
             [
              0.2222222222222222,
              "#7201a8"
             ],
             [
              0.3333333333333333,
              "#9c179e"
             ],
             [
              0.4444444444444444,
              "#bd3786"
             ],
             [
              0.5555555555555556,
              "#d8576b"
             ],
             [
              0.6666666666666666,
              "#ed7953"
             ],
             [
              0.7777777777777778,
              "#fb9f3a"
             ],
             [
              0.8888888888888888,
              "#fdca26"
             ],
             [
              1,
              "#f0f921"
             ]
            ],
            "type": "histogram2d"
           }
          ],
          "histogram2dcontour": [
           {
            "colorbar": {
             "outlinewidth": 0,
             "ticks": ""
            },
            "colorscale": [
             [
              0,
              "#0d0887"
             ],
             [
              0.1111111111111111,
              "#46039f"
             ],
             [
              0.2222222222222222,
              "#7201a8"
             ],
             [
              0.3333333333333333,
              "#9c179e"
             ],
             [
              0.4444444444444444,
              "#bd3786"
             ],
             [
              0.5555555555555556,
              "#d8576b"
             ],
             [
              0.6666666666666666,
              "#ed7953"
             ],
             [
              0.7777777777777778,
              "#fb9f3a"
             ],
             [
              0.8888888888888888,
              "#fdca26"
             ],
             [
              1,
              "#f0f921"
             ]
            ],
            "type": "histogram2dcontour"
           }
          ],
          "mesh3d": [
           {
            "colorbar": {
             "outlinewidth": 0,
             "ticks": ""
            },
            "type": "mesh3d"
           }
          ],
          "parcoords": [
           {
            "line": {
             "colorbar": {
              "outlinewidth": 0,
              "ticks": ""
             }
            },
            "type": "parcoords"
           }
          ],
          "pie": [
           {
            "automargin": true,
            "type": "pie"
           }
          ],
          "scatter": [
           {
            "fillpattern": {
             "fillmode": "overlay",
             "size": 10,
             "solidity": 0.2
            },
            "type": "scatter"
           }
          ],
          "scatter3d": [
           {
            "line": {
             "colorbar": {
              "outlinewidth": 0,
              "ticks": ""
             }
            },
            "marker": {
             "colorbar": {
              "outlinewidth": 0,
              "ticks": ""
             }
            },
            "type": "scatter3d"
           }
          ],
          "scattercarpet": [
           {
            "marker": {
             "colorbar": {
              "outlinewidth": 0,
              "ticks": ""
             }
            },
            "type": "scattercarpet"
           }
          ],
          "scattergeo": [
           {
            "marker": {
             "colorbar": {
              "outlinewidth": 0,
              "ticks": ""
             }
            },
            "type": "scattergeo"
           }
          ],
          "scattergl": [
           {
            "marker": {
             "colorbar": {
              "outlinewidth": 0,
              "ticks": ""
             }
            },
            "type": "scattergl"
           }
          ],
          "scattermapbox": [
           {
            "marker": {
             "colorbar": {
              "outlinewidth": 0,
              "ticks": ""
             }
            },
            "type": "scattermapbox"
           }
          ],
          "scatterpolar": [
           {
            "marker": {
             "colorbar": {
              "outlinewidth": 0,
              "ticks": ""
             }
            },
            "type": "scatterpolar"
           }
          ],
          "scatterpolargl": [
           {
            "marker": {
             "colorbar": {
              "outlinewidth": 0,
              "ticks": ""
             }
            },
            "type": "scatterpolargl"
           }
          ],
          "scatterternary": [
           {
            "marker": {
             "colorbar": {
              "outlinewidth": 0,
              "ticks": ""
             }
            },
            "type": "scatterternary"
           }
          ],
          "surface": [
           {
            "colorbar": {
             "outlinewidth": 0,
             "ticks": ""
            },
            "colorscale": [
             [
              0,
              "#0d0887"
             ],
             [
              0.1111111111111111,
              "#46039f"
             ],
             [
              0.2222222222222222,
              "#7201a8"
             ],
             [
              0.3333333333333333,
              "#9c179e"
             ],
             [
              0.4444444444444444,
              "#bd3786"
             ],
             [
              0.5555555555555556,
              "#d8576b"
             ],
             [
              0.6666666666666666,
              "#ed7953"
             ],
             [
              0.7777777777777778,
              "#fb9f3a"
             ],
             [
              0.8888888888888888,
              "#fdca26"
             ],
             [
              1,
              "#f0f921"
             ]
            ],
            "type": "surface"
           }
          ],
          "table": [
           {
            "cells": {
             "fill": {
              "color": "#EBF0F8"
             },
             "line": {
              "color": "white"
             }
            },
            "header": {
             "fill": {
              "color": "#C8D4E3"
             },
             "line": {
              "color": "white"
             }
            },
            "type": "table"
           }
          ]
         },
         "layout": {
          "annotationdefaults": {
           "arrowcolor": "#2a3f5f",
           "arrowhead": 0,
           "arrowwidth": 1
          },
          "autotypenumbers": "strict",
          "coloraxis": {
           "colorbar": {
            "outlinewidth": 0,
            "ticks": ""
           }
          },
          "colorscale": {
           "diverging": [
            [
             0,
             "#8e0152"
            ],
            [
             0.1,
             "#c51b7d"
            ],
            [
             0.2,
             "#de77ae"
            ],
            [
             0.3,
             "#f1b6da"
            ],
            [
             0.4,
             "#fde0ef"
            ],
            [
             0.5,
             "#f7f7f7"
            ],
            [
             0.6,
             "#e6f5d0"
            ],
            [
             0.7,
             "#b8e186"
            ],
            [
             0.8,
             "#7fbc41"
            ],
            [
             0.9,
             "#4d9221"
            ],
            [
             1,
             "#276419"
            ]
           ],
           "sequential": [
            [
             0,
             "#0d0887"
            ],
            [
             0.1111111111111111,
             "#46039f"
            ],
            [
             0.2222222222222222,
             "#7201a8"
            ],
            [
             0.3333333333333333,
             "#9c179e"
            ],
            [
             0.4444444444444444,
             "#bd3786"
            ],
            [
             0.5555555555555556,
             "#d8576b"
            ],
            [
             0.6666666666666666,
             "#ed7953"
            ],
            [
             0.7777777777777778,
             "#fb9f3a"
            ],
            [
             0.8888888888888888,
             "#fdca26"
            ],
            [
             1,
             "#f0f921"
            ]
           ],
           "sequentialminus": [
            [
             0,
             "#0d0887"
            ],
            [
             0.1111111111111111,
             "#46039f"
            ],
            [
             0.2222222222222222,
             "#7201a8"
            ],
            [
             0.3333333333333333,
             "#9c179e"
            ],
            [
             0.4444444444444444,
             "#bd3786"
            ],
            [
             0.5555555555555556,
             "#d8576b"
            ],
            [
             0.6666666666666666,
             "#ed7953"
            ],
            [
             0.7777777777777778,
             "#fb9f3a"
            ],
            [
             0.8888888888888888,
             "#fdca26"
            ],
            [
             1,
             "#f0f921"
            ]
           ]
          },
          "colorway": [
           "#636efa",
           "#EF553B",
           "#00cc96",
           "#ab63fa",
           "#FFA15A",
           "#19d3f3",
           "#FF6692",
           "#B6E880",
           "#FF97FF",
           "#FECB52"
          ],
          "font": {
           "color": "#2a3f5f"
          },
          "geo": {
           "bgcolor": "white",
           "lakecolor": "white",
           "landcolor": "#E5ECF6",
           "showlakes": true,
           "showland": true,
           "subunitcolor": "white"
          },
          "hoverlabel": {
           "align": "left"
          },
          "hovermode": "closest",
          "mapbox": {
           "style": "light"
          },
          "paper_bgcolor": "white",
          "plot_bgcolor": "#E5ECF6",
          "polar": {
           "angularaxis": {
            "gridcolor": "white",
            "linecolor": "white",
            "ticks": ""
           },
           "bgcolor": "#E5ECF6",
           "radialaxis": {
            "gridcolor": "white",
            "linecolor": "white",
            "ticks": ""
           }
          },
          "scene": {
           "xaxis": {
            "backgroundcolor": "#E5ECF6",
            "gridcolor": "white",
            "gridwidth": 2,
            "linecolor": "white",
            "showbackground": true,
            "ticks": "",
            "zerolinecolor": "white"
           },
           "yaxis": {
            "backgroundcolor": "#E5ECF6",
            "gridcolor": "white",
            "gridwidth": 2,
            "linecolor": "white",
            "showbackground": true,
            "ticks": "",
            "zerolinecolor": "white"
           },
           "zaxis": {
            "backgroundcolor": "#E5ECF6",
            "gridcolor": "white",
            "gridwidth": 2,
            "linecolor": "white",
            "showbackground": true,
            "ticks": "",
            "zerolinecolor": "white"
           }
          },
          "shapedefaults": {
           "line": {
            "color": "#2a3f5f"
           }
          },
          "ternary": {
           "aaxis": {
            "gridcolor": "white",
            "linecolor": "white",
            "ticks": ""
           },
           "baxis": {
            "gridcolor": "white",
            "linecolor": "white",
            "ticks": ""
           },
           "bgcolor": "#E5ECF6",
           "caxis": {
            "gridcolor": "white",
            "linecolor": "white",
            "ticks": ""
           }
          },
          "title": {
           "x": 0.05
          },
          "xaxis": {
           "automargin": true,
           "gridcolor": "white",
           "linecolor": "white",
           "ticks": "",
           "title": {
            "standoff": 15
           },
           "zerolinecolor": "white",
           "zerolinewidth": 2
          },
          "yaxis": {
           "automargin": true,
           "gridcolor": "white",
           "linecolor": "white",
           "ticks": "",
           "title": {
            "standoff": 15
           },
           "zerolinecolor": "white",
           "zerolinewidth": 2
          }
         }
        },
        "xaxis": {
         "anchor": "y",
         "domain": [
          0,
          1
         ],
         "title": {
          "text": "Country"
         }
        },
        "yaxis": {
         "anchor": "x",
         "domain": [
          0,
          1
         ],
         "title": {
          "text": "sum of value"
         }
        }
       }
      }
     },
     "metadata": {},
     "output_type": "display_data"
    }
   ],
   "source": [
    "\n",
    "import numpy as np \n",
    "# arr = np.array(years)\n",
    "# val,bins = np.histogram_bin_edges(years,bins='auto',range=(0,1))\n",
    "north_america = df.loc[['Canada','United States of America'],years]\n",
    "px.histogram(north_america,x=north_america.index,y=years)\n",
    "\n"
   ]
  },
  {
   "cell_type": "code",
   "execution_count": 12,
   "id": "73bcfe58",
   "metadata": {},
   "outputs": [
    {
     "data": {
      "application/vnd.plotly.v1+json": {
       "config": {
        "plotlyServerURL": "https://plot.ly"
       },
       "data": [
        {
         "hovertemplate": "Country=Afghanistan<br>x=%{x}<br>value=%{y}<extra></extra>",
         "legendgroup": "Afghanistan",
         "line": {
          "color": "#636efa",
          "dash": "solid"
         },
         "marker": {
          "symbol": "circle"
         },
         "mode": "lines",
         "name": "Afghanistan",
         "showlegend": true,
         "type": "scattergl",
         "x": [
          "1980",
          "1981",
          "1982",
          "1983",
          "1984",
          "1985",
          "1986",
          "1987",
          "1988",
          "1989",
          "1990",
          "1991",
          "1992",
          "1993",
          "1994",
          "1995",
          "1996",
          "1997",
          "1998",
          "1999",
          "2000",
          "2001",
          "2002",
          "2003",
          "2004",
          "2005",
          "2006",
          "2007",
          "2008",
          "2009",
          "2010",
          "2011",
          "2012",
          "2013"
         ],
         "xaxis": "x",
         "y": [
          16,
          39,
          39,
          47,
          71,
          340,
          496,
          741,
          828,
          1076,
          1028,
          1378,
          1170,
          713,
          858,
          1537,
          2212,
          2555,
          1999,
          2395,
          3326,
          4067,
          3697,
          3479,
          2978,
          3436,
          3009,
          2652,
          2111,
          1746,
          1758,
          2203,
          2635,
          2004
         ],
         "yaxis": "y"
        },
        {
         "hovertemplate": "Country=Armenia<br>x=%{x}<br>value=%{y}<extra></extra>",
         "legendgroup": "Armenia",
         "line": {
          "color": "#EF553B",
          "dash": "solid"
         },
         "marker": {
          "symbol": "circle"
         },
         "mode": "lines",
         "name": "Armenia",
         "showlegend": true,
         "type": "scattergl",
         "x": [
          "1980",
          "1981",
          "1982",
          "1983",
          "1984",
          "1985",
          "1986",
          "1987",
          "1988",
          "1989",
          "1990",
          "1991",
          "1992",
          "1993",
          "1994",
          "1995",
          "1996",
          "1997",
          "1998",
          "1999",
          "2000",
          "2001",
          "2002",
          "2003",
          "2004",
          "2005",
          "2006",
          "2007",
          "2008",
          "2009",
          "2010",
          "2011",
          "2012",
          "2013"
         ],
         "xaxis": "x",
         "y": [
          0,
          0,
          0,
          0,
          0,
          0,
          0,
          0,
          0,
          0,
          0,
          0,
          22,
          21,
          66,
          75,
          102,
          115,
          89,
          112,
          124,
          87,
          132,
          153,
          147,
          224,
          218,
          198,
          205,
          267,
          252,
          236,
          258,
          207
         ],
         "yaxis": "y"
        },
        {
         "hovertemplate": "Country=Azerbaijan<br>x=%{x}<br>value=%{y}<extra></extra>",
         "legendgroup": "Azerbaijan",
         "line": {
          "color": "#00cc96",
          "dash": "solid"
         },
         "marker": {
          "symbol": "circle"
         },
         "mode": "lines",
         "name": "Azerbaijan",
         "showlegend": true,
         "type": "scattergl",
         "x": [
          "1980",
          "1981",
          "1982",
          "1983",
          "1984",
          "1985",
          "1986",
          "1987",
          "1988",
          "1989",
          "1990",
          "1991",
          "1992",
          "1993",
          "1994",
          "1995",
          "1996",
          "1997",
          "1998",
          "1999",
          "2000",
          "2001",
          "2002",
          "2003",
          "2004",
          "2005",
          "2006",
          "2007",
          "2008",
          "2009",
          "2010",
          "2011",
          "2012",
          "2013"
         ],
         "xaxis": "x",
         "y": [
          0,
          0,
          0,
          0,
          0,
          0,
          0,
          0,
          0,
          0,
          0,
          0,
          0,
          17,
          18,
          23,
          26,
          38,
          62,
          54,
          77,
          98,
          186,
          167,
          230,
          359,
          236,
          203,
          125,
          165,
          209,
          138,
          161,
          57
         ],
         "yaxis": "y"
        },
        {
         "hovertemplate": "Country=Bahrain<br>x=%{x}<br>value=%{y}<extra></extra>",
         "legendgroup": "Bahrain",
         "line": {
          "color": "#ab63fa",
          "dash": "solid"
         },
         "marker": {
          "symbol": "circle"
         },
         "mode": "lines",
         "name": "Bahrain",
         "showlegend": true,
         "type": "scattergl",
         "x": [
          "1980",
          "1981",
          "1982",
          "1983",
          "1984",
          "1985",
          "1986",
          "1987",
          "1988",
          "1989",
          "1990",
          "1991",
          "1992",
          "1993",
          "1994",
          "1995",
          "1996",
          "1997",
          "1998",
          "1999",
          "2000",
          "2001",
          "2002",
          "2003",
          "2004",
          "2005",
          "2006",
          "2007",
          "2008",
          "2009",
          "2010",
          "2011",
          "2012",
          "2013"
         ],
         "xaxis": "x",
         "y": [
          0,
          2,
          1,
          1,
          1,
          3,
          0,
          2,
          10,
          9,
          6,
          9,
          9,
          11,
          14,
          10,
          17,
          28,
          14,
          27,
          34,
          13,
          17,
          15,
          12,
          12,
          12,
          22,
          9,
          35,
          28,
          21,
          39,
          32
         ],
         "yaxis": "y"
        },
        {
         "hovertemplate": "Country=Bangladesh<br>x=%{x}<br>value=%{y}<extra></extra>",
         "legendgroup": "Bangladesh",
         "line": {
          "color": "#FFA15A",
          "dash": "solid"
         },
         "marker": {
          "symbol": "circle"
         },
         "mode": "lines",
         "name": "Bangladesh",
         "showlegend": true,
         "type": "scattergl",
         "x": [
          "1980",
          "1981",
          "1982",
          "1983",
          "1984",
          "1985",
          "1986",
          "1987",
          "1988",
          "1989",
          "1990",
          "1991",
          "1992",
          "1993",
          "1994",
          "1995",
          "1996",
          "1997",
          "1998",
          "1999",
          "2000",
          "2001",
          "2002",
          "2003",
          "2004",
          "2005",
          "2006",
          "2007",
          "2008",
          "2009",
          "2010",
          "2011",
          "2012",
          "2013"
         ],
         "xaxis": "x",
         "y": [
          83,
          84,
          86,
          81,
          98,
          92,
          486,
          503,
          476,
          387,
          611,
          1115,
          1655,
          1280,
          1361,
          2042,
          2824,
          3378,
          2202,
          2064,
          3119,
          3831,
          2944,
          2137,
          2660,
          4171,
          4014,
          2897,
          2939,
          2104,
          4721,
          2694,
          2640,
          3789
         ],
         "yaxis": "y"
        },
        {
         "hovertemplate": "Country=Bhutan<br>x=%{x}<br>value=%{y}<extra></extra>",
         "legendgroup": "Bhutan",
         "line": {
          "color": "#19d3f3",
          "dash": "solid"
         },
         "marker": {
          "symbol": "circle"
         },
         "mode": "lines",
         "name": "Bhutan",
         "showlegend": true,
         "type": "scattergl",
         "x": [
          "1980",
          "1981",
          "1982",
          "1983",
          "1984",
          "1985",
          "1986",
          "1987",
          "1988",
          "1989",
          "1990",
          "1991",
          "1992",
          "1993",
          "1994",
          "1995",
          "1996",
          "1997",
          "1998",
          "1999",
          "2000",
          "2001",
          "2002",
          "2003",
          "2004",
          "2005",
          "2006",
          "2007",
          "2008",
          "2009",
          "2010",
          "2011",
          "2012",
          "2013"
         ],
         "xaxis": "x",
         "y": [
          0,
          0,
          0,
          0,
          1,
          0,
          0,
          0,
          0,
          1,
          0,
          2,
          2,
          1,
          1,
          4,
          2,
          2,
          1,
          3,
          6,
          6,
          8,
          7,
          1,
          5,
          10,
          7,
          36,
          865,
          1464,
          1879,
          1075,
          487
         ],
         "yaxis": "y"
        },
        {
         "hovertemplate": "Country=Brunei Darussalam<br>x=%{x}<br>value=%{y}<extra></extra>",
         "legendgroup": "Brunei Darussalam",
         "line": {
          "color": "#FF6692",
          "dash": "solid"
         },
         "marker": {
          "symbol": "circle"
         },
         "mode": "lines",
         "name": "Brunei Darussalam",
         "showlegend": true,
         "type": "scattergl",
         "x": [
          "1980",
          "1981",
          "1982",
          "1983",
          "1984",
          "1985",
          "1986",
          "1987",
          "1988",
          "1989",
          "1990",
          "1991",
          "1992",
          "1993",
          "1994",
          "1995",
          "1996",
          "1997",
          "1998",
          "1999",
          "2000",
          "2001",
          "2002",
          "2003",
          "2004",
          "2005",
          "2006",
          "2007",
          "2008",
          "2009",
          "2010",
          "2011",
          "2012",
          "2013"
         ],
         "xaxis": "x",
         "y": [
          79,
          6,
          8,
          2,
          2,
          4,
          12,
          16,
          103,
          63,
          44,
          65,
          31,
          36,
          14,
          17,
          4,
          6,
          1,
          3,
          6,
          3,
          4,
          6,
          3,
          4,
          5,
          11,
          10,
          5,
          12,
          6,
          3,
          6
         ],
         "yaxis": "y"
        },
        {
         "hovertemplate": "Country=Cambodia<br>x=%{x}<br>value=%{y}<extra></extra>",
         "legendgroup": "Cambodia",
         "line": {
          "color": "#B6E880",
          "dash": "solid"
         },
         "marker": {
          "symbol": "circle"
         },
         "mode": "lines",
         "name": "Cambodia",
         "showlegend": true,
         "type": "scattergl",
         "x": [
          "1980",
          "1981",
          "1982",
          "1983",
          "1984",
          "1985",
          "1986",
          "1987",
          "1988",
          "1989",
          "1990",
          "1991",
          "1992",
          "1993",
          "1994",
          "1995",
          "1996",
          "1997",
          "1998",
          "1999",
          "2000",
          "2001",
          "2002",
          "2003",
          "2004",
          "2005",
          "2006",
          "2007",
          "2008",
          "2009",
          "2010",
          "2011",
          "2012",
          "2013"
         ],
         "xaxis": "x",
         "y": [
          12,
          19,
          26,
          33,
          10,
          7,
          8,
          14,
          15,
          27,
          34,
          38,
          93,
          418,
          371,
          286,
          216,
          313,
          241,
          165,
          245,
          259,
          230,
          277,
          348,
          370,
          529,
          460,
          354,
          203,
          200,
          196,
          233,
          288
         ],
         "yaxis": "y"
        },
        {
         "hovertemplate": "Country=China<br>x=%{x}<br>value=%{y}<extra></extra>",
         "legendgroup": "China",
         "line": {
          "color": "#FF97FF",
          "dash": "solid"
         },
         "marker": {
          "symbol": "circle"
         },
         "mode": "lines",
         "name": "China",
         "showlegend": true,
         "type": "scattergl",
         "x": [
          "1980",
          "1981",
          "1982",
          "1983",
          "1984",
          "1985",
          "1986",
          "1987",
          "1988",
          "1989",
          "1990",
          "1991",
          "1992",
          "1993",
          "1994",
          "1995",
          "1996",
          "1997",
          "1998",
          "1999",
          "2000",
          "2001",
          "2002",
          "2003",
          "2004",
          "2005",
          "2006",
          "2007",
          "2008",
          "2009",
          "2010",
          "2011",
          "2012",
          "2013"
         ],
         "xaxis": "x",
         "y": [
          5123,
          6682,
          3308,
          1863,
          1527,
          1816,
          1960,
          2643,
          2758,
          4323,
          8076,
          14255,
          10846,
          9817,
          13128,
          14398,
          19415,
          20475,
          21049,
          30069,
          35529,
          36434,
          31961,
          36439,
          36619,
          42584,
          33518,
          27642,
          30037,
          29622,
          30391,
          28502,
          33024,
          34129
         ],
         "yaxis": "y"
        },
        {
         "hovertemplate": "Country=China, Hong Kong Special Administrative Region<br>x=%{x}<br>value=%{y}<extra></extra>",
         "legendgroup": "China, Hong Kong Special Administrative Region",
         "line": {
          "color": "#FECB52",
          "dash": "solid"
         },
         "marker": {
          "symbol": "circle"
         },
         "mode": "lines",
         "name": "China, Hong Kong Special Administrative Region",
         "showlegend": true,
         "type": "scattergl",
         "x": [
          "1980",
          "1981",
          "1982",
          "1983",
          "1984",
          "1985",
          "1986",
          "1987",
          "1988",
          "1989",
          "1990",
          "1991",
          "1992",
          "1993",
          "1994",
          "1995",
          "1996",
          "1997",
          "1998",
          "1999",
          "2000",
          "2001",
          "2002",
          "2003",
          "2004",
          "2005",
          "2006",
          "2007",
          "2008",
          "2009",
          "2010",
          "2011",
          "2012",
          "2013"
         ],
         "xaxis": "x",
         "y": [
          0,
          0,
          0,
          0,
          0,
          0,
          0,
          0,
          0,
          0,
          0,
          0,
          0,
          0,
          0,
          0,
          0,
          24,
          257,
          400,
          470,
          379,
          430,
          446,
          536,
          729,
          712,
          674,
          897,
          657,
          623,
          591,
          728,
          774
         ],
         "yaxis": "y"
        },
        {
         "hovertemplate": "Country=China, Macao Special Administrative Region<br>x=%{x}<br>value=%{y}<extra></extra>",
         "legendgroup": "China, Macao Special Administrative Region",
         "line": {
          "color": "#636efa",
          "dash": "solid"
         },
         "marker": {
          "symbol": "circle"
         },
         "mode": "lines",
         "name": "China, Macao Special Administrative Region",
         "showlegend": true,
         "type": "scattergl",
         "x": [
          "1980",
          "1981",
          "1982",
          "1983",
          "1984",
          "1985",
          "1986",
          "1987",
          "1988",
          "1989",
          "1990",
          "1991",
          "1992",
          "1993",
          "1994",
          "1995",
          "1996",
          "1997",
          "1998",
          "1999",
          "2000",
          "2001",
          "2002",
          "2003",
          "2004",
          "2005",
          "2006",
          "2007",
          "2008",
          "2009",
          "2010",
          "2011",
          "2012",
          "2013"
         ],
         "xaxis": "x",
         "y": [
          0,
          0,
          0,
          0,
          0,
          0,
          0,
          0,
          0,
          0,
          0,
          0,
          0,
          0,
          0,
          0,
          0,
          0,
          0,
          0,
          1,
          15,
          28,
          21,
          21,
          21,
          32,
          16,
          12,
          21,
          21,
          13,
          33,
          29
         ],
         "yaxis": "y"
        },
        {
         "hovertemplate": "Country=Cyprus<br>x=%{x}<br>value=%{y}<extra></extra>",
         "legendgroup": "Cyprus",
         "line": {
          "color": "#EF553B",
          "dash": "solid"
         },
         "marker": {
          "symbol": "circle"
         },
         "mode": "lines",
         "name": "Cyprus",
         "showlegend": true,
         "type": "scattergl",
         "x": [
          "1980",
          "1981",
          "1982",
          "1983",
          "1984",
          "1985",
          "1986",
          "1987",
          "1988",
          "1989",
          "1990",
          "1991",
          "1992",
          "1993",
          "1994",
          "1995",
          "1996",
          "1997",
          "1998",
          "1999",
          "2000",
          "2001",
          "2002",
          "2003",
          "2004",
          "2005",
          "2006",
          "2007",
          "2008",
          "2009",
          "2010",
          "2011",
          "2012",
          "2013"
         ],
         "xaxis": "x",
         "y": [
          132,
          128,
          84,
          46,
          46,
          43,
          48,
          48,
          56,
          55,
          27,
          37,
          29,
          42,
          24,
          16,
          31,
          36,
          19,
          15,
          16,
          22,
          13,
          17,
          11,
          7,
          9,
          4,
          7,
          6,
          18,
          6,
          12,
          16
         ],
         "yaxis": "y"
        },
        {
         "hovertemplate": "Country=Democratic People's Republic of Korea<br>x=%{x}<br>value=%{y}<extra></extra>",
         "legendgroup": "Democratic People's Republic of Korea",
         "line": {
          "color": "#00cc96",
          "dash": "solid"
         },
         "marker": {
          "symbol": "circle"
         },
         "mode": "lines",
         "name": "Democratic People's Republic of Korea",
         "showlegend": true,
         "type": "scattergl",
         "x": [
          "1980",
          "1981",
          "1982",
          "1983",
          "1984",
          "1985",
          "1986",
          "1987",
          "1988",
          "1989",
          "1990",
          "1991",
          "1992",
          "1993",
          "1994",
          "1995",
          "1996",
          "1997",
          "1998",
          "1999",
          "2000",
          "2001",
          "2002",
          "2003",
          "2004",
          "2005",
          "2006",
          "2007",
          "2008",
          "2009",
          "2010",
          "2011",
          "2012",
          "2013"
         ],
         "xaxis": "x",
         "y": [
          1,
          1,
          3,
          1,
          4,
          3,
          0,
          0,
          0,
          0,
          1,
          4,
          16,
          0,
          1,
          0,
          0,
          4,
          1,
          4,
          6,
          8,
          11,
          18,
          15,
          14,
          10,
          7,
          19,
          11,
          45,
          97,
          66,
          17
         ],
         "yaxis": "y"
        },
        {
         "hovertemplate": "Country=Georgia<br>x=%{x}<br>value=%{y}<extra></extra>",
         "legendgroup": "Georgia",
         "line": {
          "color": "#ab63fa",
          "dash": "solid"
         },
         "marker": {
          "symbol": "circle"
         },
         "mode": "lines",
         "name": "Georgia",
         "showlegend": true,
         "type": "scattergl",
         "x": [
          "1980",
          "1981",
          "1982",
          "1983",
          "1984",
          "1985",
          "1986",
          "1987",
          "1988",
          "1989",
          "1990",
          "1991",
          "1992",
          "1993",
          "1994",
          "1995",
          "1996",
          "1997",
          "1998",
          "1999",
          "2000",
          "2001",
          "2002",
          "2003",
          "2004",
          "2005",
          "2006",
          "2007",
          "2008",
          "2009",
          "2010",
          "2011",
          "2012",
          "2013"
         ],
         "xaxis": "x",
         "y": [
          0,
          0,
          0,
          0,
          0,
          0,
          0,
          0,
          0,
          0,
          0,
          0,
          8,
          22,
          27,
          67,
          49,
          46,
          92,
          46,
          83,
          124,
          123,
          127,
          106,
          114,
          125,
          132,
          112,
          128,
          126,
          139,
          147,
          125
         ],
         "yaxis": "y"
        },
        {
         "hovertemplate": "Country=India<br>x=%{x}<br>value=%{y}<extra></extra>",
         "legendgroup": "India",
         "line": {
          "color": "#FFA15A",
          "dash": "solid"
         },
         "marker": {
          "symbol": "circle"
         },
         "mode": "lines",
         "name": "India",
         "showlegend": true,
         "type": "scattergl",
         "x": [
          "1980",
          "1981",
          "1982",
          "1983",
          "1984",
          "1985",
          "1986",
          "1987",
          "1988",
          "1989",
          "1990",
          "1991",
          "1992",
          "1993",
          "1994",
          "1995",
          "1996",
          "1997",
          "1998",
          "1999",
          "2000",
          "2001",
          "2002",
          "2003",
          "2004",
          "2005",
          "2006",
          "2007",
          "2008",
          "2009",
          "2010",
          "2011",
          "2012",
          "2013"
         ],
         "xaxis": "x",
         "y": [
          8880,
          8670,
          8147,
          7338,
          5704,
          4211,
          7150,
          10189,
          11522,
          10343,
          12041,
          13734,
          13673,
          21496,
          18620,
          18489,
          23859,
          22268,
          17241,
          18974,
          28572,
          31223,
          31889,
          27155,
          28235,
          36210,
          33848,
          28742,
          28261,
          29456,
          34235,
          27509,
          30933,
          33087
         ],
         "yaxis": "y"
        },
        {
         "hovertemplate": "Country=Indonesia<br>x=%{x}<br>value=%{y}<extra></extra>",
         "legendgroup": "Indonesia",
         "line": {
          "color": "#19d3f3",
          "dash": "solid"
         },
         "marker": {
          "symbol": "circle"
         },
         "mode": "lines",
         "name": "Indonesia",
         "showlegend": true,
         "type": "scattergl",
         "x": [
          "1980",
          "1981",
          "1982",
          "1983",
          "1984",
          "1985",
          "1986",
          "1987",
          "1988",
          "1989",
          "1990",
          "1991",
          "1992",
          "1993",
          "1994",
          "1995",
          "1996",
          "1997",
          "1998",
          "1999",
          "2000",
          "2001",
          "2002",
          "2003",
          "2004",
          "2005",
          "2006",
          "2007",
          "2008",
          "2009",
          "2010",
          "2011",
          "2012",
          "2013"
         ],
         "xaxis": "x",
         "y": [
          186,
          178,
          252,
          115,
          123,
          100,
          127,
          213,
          270,
          260,
          227,
          252,
          243,
          278,
          262,
          205,
          231,
          166,
          165,
          525,
          1138,
          907,
          709,
          515,
          552,
          632,
          613,
          657,
          661,
          504,
          712,
          390,
          395,
          387
         ],
         "yaxis": "y"
        },
        {
         "hovertemplate": "Country=Iran (Islamic Republic of)<br>x=%{x}<br>value=%{y}<extra></extra>",
         "legendgroup": "Iran (Islamic Republic of)",
         "line": {
          "color": "#FF6692",
          "dash": "solid"
         },
         "marker": {
          "symbol": "circle"
         },
         "mode": "lines",
         "name": "Iran (Islamic Republic of)",
         "showlegend": true,
         "type": "scattergl",
         "x": [
          "1980",
          "1981",
          "1982",
          "1983",
          "1984",
          "1985",
          "1986",
          "1987",
          "1988",
          "1989",
          "1990",
          "1991",
          "1992",
          "1993",
          "1994",
          "1995",
          "1996",
          "1997",
          "1998",
          "1999",
          "2000",
          "2001",
          "2002",
          "2003",
          "2004",
          "2005",
          "2006",
          "2007",
          "2008",
          "2009",
          "2010",
          "2011",
          "2012",
          "2013"
         ],
         "xaxis": "x",
         "y": [
          1172,
          1429,
          1822,
          1592,
          1977,
          1648,
          1794,
          2989,
          3273,
          3781,
          3655,
          6250,
          6814,
          3959,
          2785,
          3956,
          6205,
          7982,
          7057,
          6208,
          5884,
          6169,
          8129,
          5918,
          6348,
          5837,
          7480,
          6974,
          6475,
          6580,
          7477,
          7479,
          7534,
          11291
         ],
         "yaxis": "y"
        },
        {
         "hovertemplate": "Country=Iraq<br>x=%{x}<br>value=%{y}<extra></extra>",
         "legendgroup": "Iraq",
         "line": {
          "color": "#B6E880",
          "dash": "solid"
         },
         "marker": {
          "symbol": "circle"
         },
         "mode": "lines",
         "name": "Iraq",
         "showlegend": true,
         "type": "scattergl",
         "x": [
          "1980",
          "1981",
          "1982",
          "1983",
          "1984",
          "1985",
          "1986",
          "1987",
          "1988",
          "1989",
          "1990",
          "1991",
          "1992",
          "1993",
          "1994",
          "1995",
          "1996",
          "1997",
          "1998",
          "1999",
          "2000",
          "2001",
          "2002",
          "2003",
          "2004",
          "2005",
          "2006",
          "2007",
          "2008",
          "2009",
          "2010",
          "2011",
          "2012",
          "2013"
         ],
         "xaxis": "x",
         "y": [
          262,
          245,
          260,
          380,
          428,
          231,
          265,
          384,
          619,
          911,
          557,
          1013,
          1498,
          2103,
          1500,
          2034,
          2675,
          2564,
          2037,
          2159,
          2591,
          2821,
          2432,
          1515,
          1796,
          2226,
          1788,
          2406,
          3543,
          5450,
          5941,
          6196,
          4041,
          4918
         ],
         "yaxis": "y"
        },
        {
         "hovertemplate": "Country=Israel<br>x=%{x}<br>value=%{y}<extra></extra>",
         "legendgroup": "Israel",
         "line": {
          "color": "#FF97FF",
          "dash": "solid"
         },
         "marker": {
          "symbol": "circle"
         },
         "mode": "lines",
         "name": "Israel",
         "showlegend": true,
         "type": "scattergl",
         "x": [
          "1980",
          "1981",
          "1982",
          "1983",
          "1984",
          "1985",
          "1986",
          "1987",
          "1988",
          "1989",
          "1990",
          "1991",
          "1992",
          "1993",
          "1994",
          "1995",
          "1996",
          "1997",
          "1998",
          "1999",
          "2000",
          "2001",
          "2002",
          "2003",
          "2004",
          "2005",
          "2006",
          "2007",
          "2008",
          "2009",
          "2010",
          "2011",
          "2012",
          "2013"
         ],
         "xaxis": "x",
         "y": [
          1403,
          1711,
          1334,
          541,
          446,
          680,
          1212,
          1497,
          1389,
          1762,
          1596,
          1358,
          1259,
          1584,
          1699,
          2224,
          2515,
          2998,
          3172,
          2387,
          2510,
          2436,
          2539,
          2314,
          2788,
          2446,
          2625,
          2401,
          2562,
          2316,
          2755,
          1970,
          2134,
          1945
         ],
         "yaxis": "y"
        },
        {
         "hovertemplate": "Country=Japan<br>x=%{x}<br>value=%{y}<extra></extra>",
         "legendgroup": "Japan",
         "line": {
          "color": "#FECB52",
          "dash": "solid"
         },
         "marker": {
          "symbol": "circle"
         },
         "mode": "lines",
         "name": "Japan",
         "showlegend": true,
         "type": "scattergl",
         "x": [
          "1980",
          "1981",
          "1982",
          "1983",
          "1984",
          "1985",
          "1986",
          "1987",
          "1988",
          "1989",
          "1990",
          "1991",
          "1992",
          "1993",
          "1994",
          "1995",
          "1996",
          "1997",
          "1998",
          "1999",
          "2000",
          "2001",
          "2002",
          "2003",
          "2004",
          "2005",
          "2006",
          "2007",
          "2008",
          "2009",
          "2010",
          "2011",
          "2012",
          "2013"
         ],
         "xaxis": "x",
         "y": [
          701,
          756,
          598,
          309,
          246,
          198,
          248,
          422,
          324,
          494,
          379,
          506,
          605,
          907,
          956,
          826,
          994,
          924,
          897,
          1083,
          1010,
          1092,
          806,
          817,
          973,
          1067,
          1212,
          1250,
          1284,
          1194,
          1168,
          1265,
          1214,
          982
         ],
         "yaxis": "y"
        },
        {
         "hovertemplate": "Country=Jordan<br>x=%{x}<br>value=%{y}<extra></extra>",
         "legendgroup": "Jordan",
         "line": {
          "color": "#636efa",
          "dash": "solid"
         },
         "marker": {
          "symbol": "circle"
         },
         "mode": "lines",
         "name": "Jordan",
         "showlegend": true,
         "type": "scattergl",
         "x": [
          "1980",
          "1981",
          "1982",
          "1983",
          "1984",
          "1985",
          "1986",
          "1987",
          "1988",
          "1989",
          "1990",
          "1991",
          "1992",
          "1993",
          "1994",
          "1995",
          "1996",
          "1997",
          "1998",
          "1999",
          "2000",
          "2001",
          "2002",
          "2003",
          "2004",
          "2005",
          "2006",
          "2007",
          "2008",
          "2009",
          "2010",
          "2011",
          "2012",
          "2013"
         ],
         "xaxis": "x",
         "y": [
          177,
          160,
          155,
          113,
          102,
          179,
          181,
          392,
          489,
          785,
          841,
          807,
          909,
          1141,
          1173,
          1006,
          1070,
          1317,
          999,
          1218,
          1511,
          1904,
          1499,
          1614,
          1733,
          1940,
          1827,
          1421,
          1581,
          1235,
          1831,
          1635,
          1206,
          1255
         ],
         "yaxis": "y"
        },
        {
         "hovertemplate": "Country=Kazakhstan<br>x=%{x}<br>value=%{y}<extra></extra>",
         "legendgroup": "Kazakhstan",
         "line": {
          "color": "#EF553B",
          "dash": "solid"
         },
         "marker": {
          "symbol": "circle"
         },
         "mode": "lines",
         "name": "Kazakhstan",
         "showlegend": true,
         "type": "scattergl",
         "x": [
          "1980",
          "1981",
          "1982",
          "1983",
          "1984",
          "1985",
          "1986",
          "1987",
          "1988",
          "1989",
          "1990",
          "1991",
          "1992",
          "1993",
          "1994",
          "1995",
          "1996",
          "1997",
          "1998",
          "1999",
          "2000",
          "2001",
          "2002",
          "2003",
          "2004",
          "2005",
          "2006",
          "2007",
          "2008",
          "2009",
          "2010",
          "2011",
          "2012",
          "2013"
         ],
         "xaxis": "x",
         "y": [
          0,
          0,
          0,
          0,
          0,
          0,
          0,
          0,
          0,
          0,
          0,
          0,
          3,
          24,
          42,
          56,
          152,
          593,
          884,
          537,
          450,
          501,
          418,
          542,
          545,
          506,
          408,
          436,
          394,
          431,
          377,
          381,
          462,
          348
         ],
         "yaxis": "y"
        },
        {
         "hovertemplate": "Country=Kuwait<br>x=%{x}<br>value=%{y}<extra></extra>",
         "legendgroup": "Kuwait",
         "line": {
          "color": "#00cc96",
          "dash": "solid"
         },
         "marker": {
          "symbol": "circle"
         },
         "mode": "lines",
         "name": "Kuwait",
         "showlegend": true,
         "type": "scattergl",
         "x": [
          "1980",
          "1981",
          "1982",
          "1983",
          "1984",
          "1985",
          "1986",
          "1987",
          "1988",
          "1989",
          "1990",
          "1991",
          "1992",
          "1993",
          "1994",
          "1995",
          "1996",
          "1997",
          "1998",
          "1999",
          "2000",
          "2001",
          "2002",
          "2003",
          "2004",
          "2005",
          "2006",
          "2007",
          "2008",
          "2009",
          "2010",
          "2011",
          "2012",
          "2013"
         ],
         "xaxis": "x",
         "y": [
          1,
          0,
          8,
          2,
          1,
          4,
          4,
          9,
          19,
          19,
          26,
          31,
          96,
          109,
          99,
          130,
          187,
          108,
          121,
          80,
          114,
          107,
          74,
          72,
          74,
          66,
          35,
          62,
          53,
          68,
          67,
          58,
          73,
          48
         ],
         "yaxis": "y"
        },
        {
         "hovertemplate": "Country=Kyrgyzstan<br>x=%{x}<br>value=%{y}<extra></extra>",
         "legendgroup": "Kyrgyzstan",
         "line": {
          "color": "#ab63fa",
          "dash": "solid"
         },
         "marker": {
          "symbol": "circle"
         },
         "mode": "lines",
         "name": "Kyrgyzstan",
         "showlegend": true,
         "type": "scattergl",
         "x": [
          "1980",
          "1981",
          "1982",
          "1983",
          "1984",
          "1985",
          "1986",
          "1987",
          "1988",
          "1989",
          "1990",
          "1991",
          "1992",
          "1993",
          "1994",
          "1995",
          "1996",
          "1997",
          "1998",
          "1999",
          "2000",
          "2001",
          "2002",
          "2003",
          "2004",
          "2005",
          "2006",
          "2007",
          "2008",
          "2009",
          "2010",
          "2011",
          "2012",
          "2013"
         ],
         "xaxis": "x",
         "y": [
          0,
          0,
          0,
          0,
          0,
          0,
          0,
          0,
          0,
          0,
          0,
          0,
          0,
          7,
          8,
          10,
          8,
          43,
          63,
          68,
          56,
          95,
          124,
          99,
          245,
          173,
          161,
          135,
          168,
          173,
          157,
          159,
          278,
          123
         ],
         "yaxis": "y"
        },
        {
         "hovertemplate": "Country=Lao People's Democratic Republic<br>x=%{x}<br>value=%{y}<extra></extra>",
         "legendgroup": "Lao People's Democratic Republic",
         "line": {
          "color": "#FFA15A",
          "dash": "solid"
         },
         "marker": {
          "symbol": "circle"
         },
         "mode": "lines",
         "name": "Lao People's Democratic Republic",
         "showlegend": true,
         "type": "scattergl",
         "x": [
          "1980",
          "1981",
          "1982",
          "1983",
          "1984",
          "1985",
          "1986",
          "1987",
          "1988",
          "1989",
          "1990",
          "1991",
          "1992",
          "1993",
          "1994",
          "1995",
          "1996",
          "1997",
          "1998",
          "1999",
          "2000",
          "2001",
          "2002",
          "2003",
          "2004",
          "2005",
          "2006",
          "2007",
          "2008",
          "2009",
          "2010",
          "2011",
          "2012",
          "2013"
         ],
         "xaxis": "x",
         "y": [
          11,
          6,
          16,
          16,
          7,
          17,
          21,
          20,
          22,
          44,
          34,
          33,
          63,
          44,
          52,
          40,
          24,
          31,
          16,
          31,
          36,
          40,
          49,
          22,
          38,
          42,
          74,
          53,
          32,
          39,
          54,
          22,
          25,
          15
         ],
         "yaxis": "y"
        },
        {
         "hovertemplate": "Country=Lebanon<br>x=%{x}<br>value=%{y}<extra></extra>",
         "legendgroup": "Lebanon",
         "line": {
          "color": "#19d3f3",
          "dash": "solid"
         },
         "marker": {
          "symbol": "circle"
         },
         "mode": "lines",
         "name": "Lebanon",
         "showlegend": true,
         "type": "scattergl",
         "x": [
          "1980",
          "1981",
          "1982",
          "1983",
          "1984",
          "1985",
          "1986",
          "1987",
          "1988",
          "1989",
          "1990",
          "1991",
          "1992",
          "1993",
          "1994",
          "1995",
          "1996",
          "1997",
          "1998",
          "1999",
          "2000",
          "2001",
          "2002",
          "2003",
          "2004",
          "2005",
          "2006",
          "2007",
          "2008",
          "2009",
          "2010",
          "2011",
          "2012",
          "2013"
         ],
         "xaxis": "x",
         "y": [
          1409,
          1119,
          1159,
          789,
          1253,
          1683,
          2576,
          3803,
          3970,
          7157,
          13568,
          12567,
          6915,
          4902,
          2751,
          2228,
          1919,
          1472,
          1329,
          1594,
          1903,
          2578,
          2332,
          3179,
          3293,
          3709,
          3802,
          3467,
          3566,
          3077,
          3432,
          3072,
          1614,
          2172
         ],
         "yaxis": "y"
        },
        {
         "hovertemplate": "Country=Malaysia<br>x=%{x}<br>value=%{y}<extra></extra>",
         "legendgroup": "Malaysia",
         "line": {
          "color": "#FF6692",
          "dash": "solid"
         },
         "marker": {
          "symbol": "circle"
         },
         "mode": "lines",
         "name": "Malaysia",
         "showlegend": true,
         "type": "scattergl",
         "x": [
          "1980",
          "1981",
          "1982",
          "1983",
          "1984",
          "1985",
          "1986",
          "1987",
          "1988",
          "1989",
          "1990",
          "1991",
          "1992",
          "1993",
          "1994",
          "1995",
          "1996",
          "1997",
          "1998",
          "1999",
          "2000",
          "2001",
          "2002",
          "2003",
          "2004",
          "2005",
          "2006",
          "2007",
          "2008",
          "2009",
          "2010",
          "2011",
          "2012",
          "2013"
         ],
         "xaxis": "x",
         "y": [
          786,
          816,
          813,
          448,
          384,
          374,
          425,
          817,
          2072,
          2346,
          1917,
          1338,
          1486,
          1000,
          727,
          490,
          382,
          319,
          214,
          299,
          360,
          460,
          480,
          419,
          401,
          593,
          580,
          600,
          658,
          640,
          802,
          409,
          358,
          204
         ],
         "yaxis": "y"
        },
        {
         "hovertemplate": "Country=Maldives<br>x=%{x}<br>value=%{y}<extra></extra>",
         "legendgroup": "Maldives",
         "line": {
          "color": "#B6E880",
          "dash": "solid"
         },
         "marker": {
          "symbol": "circle"
         },
         "mode": "lines",
         "name": "Maldives",
         "showlegend": true,
         "type": "scattergl",
         "x": [
          "1980",
          "1981",
          "1982",
          "1983",
          "1984",
          "1985",
          "1986",
          "1987",
          "1988",
          "1989",
          "1990",
          "1991",
          "1992",
          "1993",
          "1994",
          "1995",
          "1996",
          "1997",
          "1998",
          "1999",
          "2000",
          "2001",
          "2002",
          "2003",
          "2004",
          "2005",
          "2006",
          "2007",
          "2008",
          "2009",
          "2010",
          "2011",
          "2012",
          "2013"
         ],
         "xaxis": "x",
         "y": [
          0,
          0,
          0,
          1,
          0,
          0,
          0,
          0,
          0,
          0,
          0,
          0,
          3,
          3,
          0,
          0,
          0,
          0,
          1,
          0,
          1,
          0,
          1,
          0,
          1,
          0,
          0,
          2,
          1,
          7,
          4,
          3,
          1,
          1
         ],
         "yaxis": "y"
        },
        {
         "hovertemplate": "Country=Mongolia<br>x=%{x}<br>value=%{y}<extra></extra>",
         "legendgroup": "Mongolia",
         "line": {
          "color": "#FF97FF",
          "dash": "solid"
         },
         "marker": {
          "symbol": "circle"
         },
         "mode": "lines",
         "name": "Mongolia",
         "showlegend": true,
         "type": "scattergl",
         "x": [
          "1980",
          "1981",
          "1982",
          "1983",
          "1984",
          "1985",
          "1986",
          "1987",
          "1988",
          "1989",
          "1990",
          "1991",
          "1992",
          "1993",
          "1994",
          "1995",
          "1996",
          "1997",
          "1998",
          "1999",
          "2000",
          "2001",
          "2002",
          "2003",
          "2004",
          "2005",
          "2006",
          "2007",
          "2008",
          "2009",
          "2010",
          "2011",
          "2012",
          "2013"
         ],
         "xaxis": "x",
         "y": [
          0,
          0,
          0,
          0,
          0,
          0,
          0,
          0,
          0,
          0,
          1,
          1,
          1,
          0,
          1,
          1,
          8,
          1,
          0,
          1,
          17,
          17,
          20,
          28,
          34,
          59,
          64,
          82,
          59,
          118,
          169,
          103,
          68,
          99
         ],
         "yaxis": "y"
        },
        {
         "hovertemplate": "Country=Myanmar<br>x=%{x}<br>value=%{y}<extra></extra>",
         "legendgroup": "Myanmar",
         "line": {
          "color": "#FECB52",
          "dash": "solid"
         },
         "marker": {
          "symbol": "circle"
         },
         "mode": "lines",
         "name": "Myanmar",
         "showlegend": true,
         "type": "scattergl",
         "x": [
          "1980",
          "1981",
          "1982",
          "1983",
          "1984",
          "1985",
          "1986",
          "1987",
          "1988",
          "1989",
          "1990",
          "1991",
          "1992",
          "1993",
          "1994",
          "1995",
          "1996",
          "1997",
          "1998",
          "1999",
          "2000",
          "2001",
          "2002",
          "2003",
          "2004",
          "2005",
          "2006",
          "2007",
          "2008",
          "2009",
          "2010",
          "2011",
          "2012",
          "2013"
         ],
         "xaxis": "x",
         "y": [
          80,
          62,
          46,
          31,
          41,
          23,
          18,
          33,
          55,
          77,
          133,
          104,
          62,
          100,
          172,
          199,
          229,
          205,
          68,
          98,
          121,
          113,
          164,
          263,
          191,
          210,
          953,
          1887,
          975,
          1153,
          556,
          368,
          193,
          262
         ],
         "yaxis": "y"
        },
        {
         "hovertemplate": "Country=Nepal<br>x=%{x}<br>value=%{y}<extra></extra>",
         "legendgroup": "Nepal",
         "line": {
          "color": "#636efa",
          "dash": "solid"
         },
         "marker": {
          "symbol": "circle"
         },
         "mode": "lines",
         "name": "Nepal",
         "showlegend": true,
         "type": "scattergl",
         "x": [
          "1980",
          "1981",
          "1982",
          "1983",
          "1984",
          "1985",
          "1986",
          "1987",
          "1988",
          "1989",
          "1990",
          "1991",
          "1992",
          "1993",
          "1994",
          "1995",
          "1996",
          "1997",
          "1998",
          "1999",
          "2000",
          "2001",
          "2002",
          "2003",
          "2004",
          "2005",
          "2006",
          "2007",
          "2008",
          "2009",
          "2010",
          "2011",
          "2012",
          "2013"
         ],
         "xaxis": "x",
         "y": [
          1,
          1,
          6,
          1,
          2,
          4,
          13,
          6,
          13,
          4,
          23,
          29,
          32,
          40,
          31,
          66,
          132,
          155,
          104,
          157,
          236,
          272,
          363,
          313,
          404,
          607,
          540,
          511,
          581,
          561,
          1392,
          1129,
          1185,
          1308
         ],
         "yaxis": "y"
        },
        {
         "hovertemplate": "Country=Oman<br>x=%{x}<br>value=%{y}<extra></extra>",
         "legendgroup": "Oman",
         "line": {
          "color": "#EF553B",
          "dash": "solid"
         },
         "marker": {
          "symbol": "circle"
         },
         "mode": "lines",
         "name": "Oman",
         "showlegend": true,
         "type": "scattergl",
         "x": [
          "1980",
          "1981",
          "1982",
          "1983",
          "1984",
          "1985",
          "1986",
          "1987",
          "1988",
          "1989",
          "1990",
          "1991",
          "1992",
          "1993",
          "1994",
          "1995",
          "1996",
          "1997",
          "1998",
          "1999",
          "2000",
          "2001",
          "2002",
          "2003",
          "2004",
          "2005",
          "2006",
          "2007",
          "2008",
          "2009",
          "2010",
          "2011",
          "2012",
          "2013"
         ],
         "xaxis": "x",
         "y": [
          0,
          0,
          0,
          8,
          0,
          0,
          0,
          3,
          0,
          1,
          5,
          0,
          5,
          1,
          12,
          11,
          2,
          7,
          4,
          3,
          7,
          12,
          7,
          11,
          12,
          14,
          18,
          16,
          10,
          7,
          14,
          10,
          13,
          11
         ],
         "yaxis": "y"
        },
        {
         "hovertemplate": "Country=Pakistan<br>x=%{x}<br>value=%{y}<extra></extra>",
         "legendgroup": "Pakistan",
         "line": {
          "color": "#00cc96",
          "dash": "solid"
         },
         "marker": {
          "symbol": "circle"
         },
         "mode": "lines",
         "name": "Pakistan",
         "showlegend": true,
         "type": "scattergl",
         "x": [
          "1980",
          "1981",
          "1982",
          "1983",
          "1984",
          "1985",
          "1986",
          "1987",
          "1988",
          "1989",
          "1990",
          "1991",
          "1992",
          "1993",
          "1994",
          "1995",
          "1996",
          "1997",
          "1998",
          "1999",
          "2000",
          "2001",
          "2002",
          "2003",
          "2004",
          "2005",
          "2006",
          "2007",
          "2008",
          "2009",
          "2010",
          "2011",
          "2012",
          "2013"
         ],
         "xaxis": "x",
         "y": [
          978,
          972,
          1201,
          900,
          668,
          514,
          691,
          1072,
          1334,
          2261,
          2470,
          3079,
          4071,
          4777,
          4666,
          4994,
          9125,
          13073,
          9068,
          9979,
          15400,
          16708,
          15110,
          13205,
          13399,
          14314,
          13127,
          10124,
          8994,
          7217,
          6811,
          7468,
          11227,
          12603
         ],
         "yaxis": "y"
        },
        {
         "hovertemplate": "Country=Philippines<br>x=%{x}<br>value=%{y}<extra></extra>",
         "legendgroup": "Philippines",
         "line": {
          "color": "#ab63fa",
          "dash": "solid"
         },
         "marker": {
          "symbol": "circle"
         },
         "mode": "lines",
         "name": "Philippines",
         "showlegend": true,
         "type": "scattergl",
         "x": [
          "1980",
          "1981",
          "1982",
          "1983",
          "1984",
          "1985",
          "1986",
          "1987",
          "1988",
          "1989",
          "1990",
          "1991",
          "1992",
          "1993",
          "1994",
          "1995",
          "1996",
          "1997",
          "1998",
          "1999",
          "2000",
          "2001",
          "2002",
          "2003",
          "2004",
          "2005",
          "2006",
          "2007",
          "2008",
          "2009",
          "2010",
          "2011",
          "2012",
          "2013"
         ],
         "xaxis": "x",
         "y": [
          6051,
          5921,
          5249,
          4562,
          3801,
          3150,
          4166,
          7360,
          8639,
          11865,
          12509,
          12718,
          13670,
          20479,
          19532,
          15864,
          13692,
          11549,
          8735,
          9734,
          10763,
          13836,
          11707,
          12758,
          14004,
          18139,
          18400,
          19837,
          24887,
          28573,
          38617,
          36765,
          34315,
          29544
         ],
         "yaxis": "y"
        },
        {
         "hovertemplate": "Country=Qatar<br>x=%{x}<br>value=%{y}<extra></extra>",
         "legendgroup": "Qatar",
         "line": {
          "color": "#FFA15A",
          "dash": "solid"
         },
         "marker": {
          "symbol": "circle"
         },
         "mode": "lines",
         "name": "Qatar",
         "showlegend": true,
         "type": "scattergl",
         "x": [
          "1980",
          "1981",
          "1982",
          "1983",
          "1984",
          "1985",
          "1986",
          "1987",
          "1988",
          "1989",
          "1990",
          "1991",
          "1992",
          "1993",
          "1994",
          "1995",
          "1996",
          "1997",
          "1998",
          "1999",
          "2000",
          "2001",
          "2002",
          "2003",
          "2004",
          "2005",
          "2006",
          "2007",
          "2008",
          "2009",
          "2010",
          "2011",
          "2012",
          "2013"
         ],
         "xaxis": "x",
         "y": [
          0,
          0,
          0,
          0,
          0,
          0,
          1,
          0,
          1,
          0,
          2,
          6,
          5,
          3,
          2,
          4,
          4,
          7,
          3,
          7,
          4,
          21,
          4,
          4,
          5,
          11,
          2,
          5,
          9,
          6,
          18,
          3,
          14,
          6
         ],
         "yaxis": "y"
        },
        {
         "hovertemplate": "Country=Republic of Korea<br>x=%{x}<br>value=%{y}<extra></extra>",
         "legendgroup": "Republic of Korea",
         "line": {
          "color": "#19d3f3",
          "dash": "solid"
         },
         "marker": {
          "symbol": "circle"
         },
         "mode": "lines",
         "name": "Republic of Korea",
         "showlegend": true,
         "type": "scattergl",
         "x": [
          "1980",
          "1981",
          "1982",
          "1983",
          "1984",
          "1985",
          "1986",
          "1987",
          "1988",
          "1989",
          "1990",
          "1991",
          "1992",
          "1993",
          "1994",
          "1995",
          "1996",
          "1997",
          "1998",
          "1999",
          "2000",
          "2001",
          "2002",
          "2003",
          "2004",
          "2005",
          "2006",
          "2007",
          "2008",
          "2009",
          "2010",
          "2011",
          "2012",
          "2013"
         ],
         "xaxis": "x",
         "y": [
          1011,
          1456,
          1572,
          1081,
          847,
          962,
          1208,
          2338,
          2805,
          2979,
          2087,
          2598,
          3790,
          3819,
          3005,
          3501,
          3250,
          4093,
          4938,
          7108,
          7618,
          9619,
          7342,
          7117,
          5352,
          5832,
          6215,
          5920,
          7294,
          5874,
          5537,
          4588,
          5316,
          4509
         ],
         "yaxis": "y"
        },
        {
         "hovertemplate": "Country=Saudi Arabia<br>x=%{x}<br>value=%{y}<extra></extra>",
         "legendgroup": "Saudi Arabia",
         "line": {
          "color": "#FF6692",
          "dash": "solid"
         },
         "marker": {
          "symbol": "circle"
         },
         "mode": "lines",
         "name": "Saudi Arabia",
         "showlegend": true,
         "type": "scattergl",
         "x": [
          "1980",
          "1981",
          "1982",
          "1983",
          "1984",
          "1985",
          "1986",
          "1987",
          "1988",
          "1989",
          "1990",
          "1991",
          "1992",
          "1993",
          "1994",
          "1995",
          "1996",
          "1997",
          "1998",
          "1999",
          "2000",
          "2001",
          "2002",
          "2003",
          "2004",
          "2005",
          "2006",
          "2007",
          "2008",
          "2009",
          "2010",
          "2011",
          "2012",
          "2013"
         ],
         "xaxis": "x",
         "y": [
          0,
          0,
          1,
          4,
          1,
          2,
          5,
          7,
          29,
          41,
          22,
          47,
          71,
          55,
          43,
          40,
          84,
          78,
          71,
          74,
          89,
          98,
          71,
          70,
          128,
          198,
          252,
          188,
          249,
          246,
          330,
          278,
          286,
          267
         ],
         "yaxis": "y"
        },
        {
         "hovertemplate": "Country=Singapore<br>x=%{x}<br>value=%{y}<extra></extra>",
         "legendgroup": "Singapore",
         "line": {
          "color": "#B6E880",
          "dash": "solid"
         },
         "marker": {
          "symbol": "circle"
         },
         "mode": "lines",
         "name": "Singapore",
         "showlegend": true,
         "type": "scattergl",
         "x": [
          "1980",
          "1981",
          "1982",
          "1983",
          "1984",
          "1985",
          "1986",
          "1987",
          "1988",
          "1989",
          "1990",
          "1991",
          "1992",
          "1993",
          "1994",
          "1995",
          "1996",
          "1997",
          "1998",
          "1999",
          "2000",
          "2001",
          "2002",
          "2003",
          "2004",
          "2005",
          "2006",
          "2007",
          "2008",
          "2009",
          "2010",
          "2011",
          "2012",
          "2013"
         ],
         "xaxis": "x",
         "y": [
          241,
          301,
          337,
          169,
          128,
          139,
          205,
          372,
          808,
          1269,
          843,
          657,
          492,
          474,
          375,
          407,
          409,
          287,
          231,
          437,
          444,
          473,
          588,
          391,
          311,
          392,
          298,
          690,
          734,
          366,
          805,
          219,
          146,
          141
         ],
         "yaxis": "y"
        },
        {
         "hovertemplate": "Country=Sri Lanka<br>x=%{x}<br>value=%{y}<extra></extra>",
         "legendgroup": "Sri Lanka",
         "line": {
          "color": "#FF97FF",
          "dash": "solid"
         },
         "marker": {
          "symbol": "circle"
         },
         "mode": "lines",
         "name": "Sri Lanka",
         "showlegend": true,
         "type": "scattergl",
         "x": [
          "1980",
          "1981",
          "1982",
          "1983",
          "1984",
          "1985",
          "1986",
          "1987",
          "1988",
          "1989",
          "1990",
          "1991",
          "1992",
          "1993",
          "1994",
          "1995",
          "1996",
          "1997",
          "1998",
          "1999",
          "2000",
          "2001",
          "2002",
          "2003",
          "2004",
          "2005",
          "2006",
          "2007",
          "2008",
          "2009",
          "2010",
          "2011",
          "2012",
          "2013"
         ],
         "xaxis": "x",
         "y": [
          185,
          371,
          290,
          197,
          1086,
          845,
          1838,
          4447,
          2779,
          2758,
          3525,
          7266,
          13102,
          9563,
          7150,
          9368,
          6484,
          5415,
          3566,
          4982,
          6081,
          5861,
          5279,
          4892,
          4495,
          4930,
          4714,
          4123,
          4756,
          4547,
          4422,
          3309,
          3338,
          2394
         ],
         "yaxis": "y"
        },
        {
         "hovertemplate": "Country=State of Palestine<br>x=%{x}<br>value=%{y}<extra></extra>",
         "legendgroup": "State of Palestine",
         "line": {
          "color": "#FECB52",
          "dash": "solid"
         },
         "marker": {
          "symbol": "circle"
         },
         "mode": "lines",
         "name": "State of Palestine",
         "showlegend": true,
         "type": "scattergl",
         "x": [
          "1980",
          "1981",
          "1982",
          "1983",
          "1984",
          "1985",
          "1986",
          "1987",
          "1988",
          "1989",
          "1990",
          "1991",
          "1992",
          "1993",
          "1994",
          "1995",
          "1996",
          "1997",
          "1998",
          "1999",
          "2000",
          "2001",
          "2002",
          "2003",
          "2004",
          "2005",
          "2006",
          "2007",
          "2008",
          "2009",
          "2010",
          "2011",
          "2012",
          "2013"
         ],
         "xaxis": "x",
         "y": [
          0,
          0,
          0,
          0,
          0,
          0,
          0,
          0,
          0,
          0,
          0,
          0,
          0,
          0,
          0,
          0,
          8,
          26,
          146,
          180,
          238,
          343,
          266,
          323,
          376,
          453,
          627,
          441,
          481,
          400,
          654,
          555,
          533,
          462
         ],
         "yaxis": "y"
        },
        {
         "hovertemplate": "Country=Syrian Arab Republic<br>x=%{x}<br>value=%{y}<extra></extra>",
         "legendgroup": "Syrian Arab Republic",
         "line": {
          "color": "#636efa",
          "dash": "solid"
         },
         "marker": {
          "symbol": "circle"
         },
         "mode": "lines",
         "name": "Syrian Arab Republic",
         "showlegend": true,
         "type": "scattergl",
         "x": [
          "1980",
          "1981",
          "1982",
          "1983",
          "1984",
          "1985",
          "1986",
          "1987",
          "1988",
          "1989",
          "1990",
          "1991",
          "1992",
          "1993",
          "1994",
          "1995",
          "1996",
          "1997",
          "1998",
          "1999",
          "2000",
          "2001",
          "2002",
          "2003",
          "2004",
          "2005",
          "2006",
          "2007",
          "2008",
          "2009",
          "2010",
          "2011",
          "2012",
          "2013"
         ],
         "xaxis": "x",
         "y": [
          315,
          419,
          409,
          269,
          264,
          385,
          493,
          927,
          864,
          1454,
          1791,
          1596,
          1172,
          1247,
          965,
          1053,
          942,
          859,
          892,
          823,
          924,
          1067,
          956,
          1085,
          1116,
          1458,
          1145,
          1056,
          919,
          917,
          1039,
          1005,
          650,
          1009
         ],
         "yaxis": "y"
        },
        {
         "hovertemplate": "Country=Tajikistan<br>x=%{x}<br>value=%{y}<extra></extra>",
         "legendgroup": "Tajikistan",
         "line": {
          "color": "#EF553B",
          "dash": "solid"
         },
         "marker": {
          "symbol": "circle"
         },
         "mode": "lines",
         "name": "Tajikistan",
         "showlegend": true,
         "type": "scattergl",
         "x": [
          "1980",
          "1981",
          "1982",
          "1983",
          "1984",
          "1985",
          "1986",
          "1987",
          "1988",
          "1989",
          "1990",
          "1991",
          "1992",
          "1993",
          "1994",
          "1995",
          "1996",
          "1997",
          "1998",
          "1999",
          "2000",
          "2001",
          "2002",
          "2003",
          "2004",
          "2005",
          "2006",
          "2007",
          "2008",
          "2009",
          "2010",
          "2011",
          "2012",
          "2013"
         ],
         "xaxis": "x",
         "y": [
          0,
          0,
          0,
          0,
          0,
          0,
          0,
          0,
          0,
          0,
          0,
          0,
          0,
          5,
          5,
          5,
          2,
          11,
          4,
          4,
          5,
          20,
          9,
          7,
          14,
          85,
          46,
          44,
          15,
          50,
          52,
          47,
          34,
          39
         ],
         "yaxis": "y"
        },
        {
         "hovertemplate": "Country=Thailand<br>x=%{x}<br>value=%{y}<extra></extra>",
         "legendgroup": "Thailand",
         "line": {
          "color": "#00cc96",
          "dash": "solid"
         },
         "marker": {
          "symbol": "circle"
         },
         "mode": "lines",
         "name": "Thailand",
         "showlegend": true,
         "type": "scattergl",
         "x": [
          "1980",
          "1981",
          "1982",
          "1983",
          "1984",
          "1985",
          "1986",
          "1987",
          "1988",
          "1989",
          "1990",
          "1991",
          "1992",
          "1993",
          "1994",
          "1995",
          "1996",
          "1997",
          "1998",
          "1999",
          "2000",
          "2001",
          "2002",
          "2003",
          "2004",
          "2005",
          "2006",
          "2007",
          "2008",
          "2009",
          "2010",
          "2011",
          "2012",
          "2013"
         ],
         "xaxis": "x",
         "y": [
          56,
          53,
          113,
          65,
          82,
          66,
          78,
          117,
          147,
          177,
          171,
          219,
          219,
          279,
          237,
          172,
          195,
          152,
          201,
          246,
          258,
          309,
          547,
          439,
          392,
          575,
          500,
          487,
          519,
          512,
          499,
          396,
          296,
          400
         ],
         "yaxis": "y"
        },
        {
         "hovertemplate": "Country=Turkey<br>x=%{x}<br>value=%{y}<extra></extra>",
         "legendgroup": "Turkey",
         "line": {
          "color": "#ab63fa",
          "dash": "solid"
         },
         "marker": {
          "symbol": "circle"
         },
         "mode": "lines",
         "name": "Turkey",
         "showlegend": true,
         "type": "scattergl",
         "x": [
          "1980",
          "1981",
          "1982",
          "1983",
          "1984",
          "1985",
          "1986",
          "1987",
          "1988",
          "1989",
          "1990",
          "1991",
          "1992",
          "1993",
          "1994",
          "1995",
          "1996",
          "1997",
          "1998",
          "1999",
          "2000",
          "2001",
          "2002",
          "2003",
          "2004",
          "2005",
          "2006",
          "2007",
          "2008",
          "2009",
          "2010",
          "2011",
          "2012",
          "2013"
         ],
         "xaxis": "x",
         "y": [
          481,
          874,
          706,
          280,
          338,
          202,
          257,
          397,
          346,
          488,
          767,
          941,
          1116,
          1316,
          908,
          732,
          638,
          679,
          777,
          806,
          1101,
          1184,
          1301,
          1338,
          1736,
          2065,
          1638,
          1463,
          1122,
          1238,
          1492,
          1257,
          1068,
          729
         ],
         "yaxis": "y"
        },
        {
         "hovertemplate": "Country=Turkmenistan<br>x=%{x}<br>value=%{y}<extra></extra>",
         "legendgroup": "Turkmenistan",
         "line": {
          "color": "#FFA15A",
          "dash": "solid"
         },
         "marker": {
          "symbol": "circle"
         },
         "mode": "lines",
         "name": "Turkmenistan",
         "showlegend": true,
         "type": "scattergl",
         "x": [
          "1980",
          "1981",
          "1982",
          "1983",
          "1984",
          "1985",
          "1986",
          "1987",
          "1988",
          "1989",
          "1990",
          "1991",
          "1992",
          "1993",
          "1994",
          "1995",
          "1996",
          "1997",
          "1998",
          "1999",
          "2000",
          "2001",
          "2002",
          "2003",
          "2004",
          "2005",
          "2006",
          "2007",
          "2008",
          "2009",
          "2010",
          "2011",
          "2012",
          "2013"
         ],
         "xaxis": "x",
         "y": [
          0,
          0,
          0,
          0,
          0,
          0,
          0,
          0,
          0,
          0,
          0,
          0,
          0,
          1,
          1,
          0,
          10,
          6,
          4,
          2,
          7,
          10,
          11,
          22,
          16,
          40,
          26,
          37,
          13,
          20,
          30,
          20,
          20,
          14
         ],
         "yaxis": "y"
        },
        {
         "hovertemplate": "Country=United Arab Emirates<br>x=%{x}<br>value=%{y}<extra></extra>",
         "legendgroup": "United Arab Emirates",
         "line": {
          "color": "#19d3f3",
          "dash": "solid"
         },
         "marker": {
          "symbol": "circle"
         },
         "mode": "lines",
         "name": "United Arab Emirates",
         "showlegend": true,
         "type": "scattergl",
         "x": [
          "1980",
          "1981",
          "1982",
          "1983",
          "1984",
          "1985",
          "1986",
          "1987",
          "1988",
          "1989",
          "1990",
          "1991",
          "1992",
          "1993",
          "1994",
          "1995",
          "1996",
          "1997",
          "1998",
          "1999",
          "2000",
          "2001",
          "2002",
          "2003",
          "2004",
          "2005",
          "2006",
          "2007",
          "2008",
          "2009",
          "2010",
          "2011",
          "2012",
          "2013"
         ],
         "xaxis": "x",
         "y": [
          0,
          2,
          2,
          1,
          2,
          0,
          5,
          4,
          1,
          17,
          7,
          23,
          27,
          11,
          13,
          8,
          33,
          27,
          25,
          24,
          27,
          41,
          37,
          32,
          41,
          31,
          42,
          37,
          33,
          37,
          86,
          60,
          54,
          46
         ],
         "yaxis": "y"
        },
        {
         "hovertemplate": "Country=Uzbekistan<br>x=%{x}<br>value=%{y}<extra></extra>",
         "legendgroup": "Uzbekistan",
         "line": {
          "color": "#FF6692",
          "dash": "solid"
         },
         "marker": {
          "symbol": "circle"
         },
         "mode": "lines",
         "name": "Uzbekistan",
         "showlegend": true,
         "type": "scattergl",
         "x": [
          "1980",
          "1981",
          "1982",
          "1983",
          "1984",
          "1985",
          "1986",
          "1987",
          "1988",
          "1989",
          "1990",
          "1991",
          "1992",
          "1993",
          "1994",
          "1995",
          "1996",
          "1997",
          "1998",
          "1999",
          "2000",
          "2001",
          "2002",
          "2003",
          "2004",
          "2005",
          "2006",
          "2007",
          "2008",
          "2009",
          "2010",
          "2011",
          "2012",
          "2013"
         ],
         "xaxis": "x",
         "y": [
          0,
          0,
          0,
          0,
          0,
          0,
          0,
          0,
          0,
          0,
          0,
          0,
          12,
          44,
          33,
          34,
          58,
          75,
          97,
          106,
          101,
          102,
          144,
          155,
          175,
          330,
          262,
          284,
          215,
          288,
          289,
          162,
          235,
          167
         ],
         "yaxis": "y"
        },
        {
         "hovertemplate": "Country=Viet Nam<br>x=%{x}<br>value=%{y}<extra></extra>",
         "legendgroup": "Viet Nam",
         "line": {
          "color": "#B6E880",
          "dash": "solid"
         },
         "marker": {
          "symbol": "circle"
         },
         "mode": "lines",
         "name": "Viet Nam",
         "showlegend": true,
         "type": "scattergl",
         "x": [
          "1980",
          "1981",
          "1982",
          "1983",
          "1984",
          "1985",
          "1986",
          "1987",
          "1988",
          "1989",
          "1990",
          "1991",
          "1992",
          "1993",
          "1994",
          "1995",
          "1996",
          "1997",
          "1998",
          "1999",
          "2000",
          "2001",
          "2002",
          "2003",
          "2004",
          "2005",
          "2006",
          "2007",
          "2008",
          "2009",
          "2010",
          "2011",
          "2012",
          "2013"
         ],
         "xaxis": "x",
         "y": [
          1191,
          1829,
          2162,
          3404,
          7583,
          5907,
          2741,
          1406,
          1411,
          3004,
          3801,
          5870,
          5416,
          6547,
          5105,
          3723,
          2462,
          1752,
          1631,
          1419,
          1803,
          2117,
          2291,
          1713,
          1816,
          1852,
          3153,
          2574,
          1784,
          2171,
          1942,
          1723,
          1731,
          2112
         ],
         "yaxis": "y"
        },
        {
         "hovertemplate": "Country=Yemen<br>x=%{x}<br>value=%{y}<extra></extra>",
         "legendgroup": "Yemen",
         "line": {
          "color": "#FF97FF",
          "dash": "solid"
         },
         "marker": {
          "symbol": "circle"
         },
         "mode": "lines",
         "name": "Yemen",
         "showlegend": true,
         "type": "scattergl",
         "x": [
          "1980",
          "1981",
          "1982",
          "1983",
          "1984",
          "1985",
          "1986",
          "1987",
          "1988",
          "1989",
          "1990",
          "1991",
          "1992",
          "1993",
          "1994",
          "1995",
          "1996",
          "1997",
          "1998",
          "1999",
          "2000",
          "2001",
          "2002",
          "2003",
          "2004",
          "2005",
          "2006",
          "2007",
          "2008",
          "2009",
          "2010",
          "2011",
          "2012",
          "2013"
         ],
         "xaxis": "x",
         "y": [
          1,
          2,
          1,
          6,
          0,
          18,
          7,
          12,
          7,
          18,
          4,
          18,
          41,
          41,
          39,
          73,
          144,
          121,
          141,
          134,
          122,
          181,
          171,
          113,
          124,
          161,
          140,
          122,
          133,
          128,
          211,
          160,
          174,
          217
         ],
         "yaxis": "y"
        }
       ],
       "layout": {
        "legend": {
         "title": {
          "text": "Country"
         },
         "tracegroupgap": 0
        },
        "margin": {
         "t": 60
        },
        "template": {
         "data": {
          "bar": [
           {
            "error_x": {
             "color": "#2a3f5f"
            },
            "error_y": {
             "color": "#2a3f5f"
            },
            "marker": {
             "line": {
              "color": "#E5ECF6",
              "width": 0.5
             },
             "pattern": {
              "fillmode": "overlay",
              "size": 10,
              "solidity": 0.2
             }
            },
            "type": "bar"
           }
          ],
          "barpolar": [
           {
            "marker": {
             "line": {
              "color": "#E5ECF6",
              "width": 0.5
             },
             "pattern": {
              "fillmode": "overlay",
              "size": 10,
              "solidity": 0.2
             }
            },
            "type": "barpolar"
           }
          ],
          "carpet": [
           {
            "aaxis": {
             "endlinecolor": "#2a3f5f",
             "gridcolor": "white",
             "linecolor": "white",
             "minorgridcolor": "white",
             "startlinecolor": "#2a3f5f"
            },
            "baxis": {
             "endlinecolor": "#2a3f5f",
             "gridcolor": "white",
             "linecolor": "white",
             "minorgridcolor": "white",
             "startlinecolor": "#2a3f5f"
            },
            "type": "carpet"
           }
          ],
          "choropleth": [
           {
            "colorbar": {
             "outlinewidth": 0,
             "ticks": ""
            },
            "type": "choropleth"
           }
          ],
          "contour": [
           {
            "colorbar": {
             "outlinewidth": 0,
             "ticks": ""
            },
            "colorscale": [
             [
              0,
              "#0d0887"
             ],
             [
              0.1111111111111111,
              "#46039f"
             ],
             [
              0.2222222222222222,
              "#7201a8"
             ],
             [
              0.3333333333333333,
              "#9c179e"
             ],
             [
              0.4444444444444444,
              "#bd3786"
             ],
             [
              0.5555555555555556,
              "#d8576b"
             ],
             [
              0.6666666666666666,
              "#ed7953"
             ],
             [
              0.7777777777777778,
              "#fb9f3a"
             ],
             [
              0.8888888888888888,
              "#fdca26"
             ],
             [
              1,
              "#f0f921"
             ]
            ],
            "type": "contour"
           }
          ],
          "contourcarpet": [
           {
            "colorbar": {
             "outlinewidth": 0,
             "ticks": ""
            },
            "type": "contourcarpet"
           }
          ],
          "heatmap": [
           {
            "colorbar": {
             "outlinewidth": 0,
             "ticks": ""
            },
            "colorscale": [
             [
              0,
              "#0d0887"
             ],
             [
              0.1111111111111111,
              "#46039f"
             ],
             [
              0.2222222222222222,
              "#7201a8"
             ],
             [
              0.3333333333333333,
              "#9c179e"
             ],
             [
              0.4444444444444444,
              "#bd3786"
             ],
             [
              0.5555555555555556,
              "#d8576b"
             ],
             [
              0.6666666666666666,
              "#ed7953"
             ],
             [
              0.7777777777777778,
              "#fb9f3a"
             ],
             [
              0.8888888888888888,
              "#fdca26"
             ],
             [
              1,
              "#f0f921"
             ]
            ],
            "type": "heatmap"
           }
          ],
          "heatmapgl": [
           {
            "colorbar": {
             "outlinewidth": 0,
             "ticks": ""
            },
            "colorscale": [
             [
              0,
              "#0d0887"
             ],
             [
              0.1111111111111111,
              "#46039f"
             ],
             [
              0.2222222222222222,
              "#7201a8"
             ],
             [
              0.3333333333333333,
              "#9c179e"
             ],
             [
              0.4444444444444444,
              "#bd3786"
             ],
             [
              0.5555555555555556,
              "#d8576b"
             ],
             [
              0.6666666666666666,
              "#ed7953"
             ],
             [
              0.7777777777777778,
              "#fb9f3a"
             ],
             [
              0.8888888888888888,
              "#fdca26"
             ],
             [
              1,
              "#f0f921"
             ]
            ],
            "type": "heatmapgl"
           }
          ],
          "histogram": [
           {
            "marker": {
             "pattern": {
              "fillmode": "overlay",
              "size": 10,
              "solidity": 0.2
             }
            },
            "type": "histogram"
           }
          ],
          "histogram2d": [
           {
            "colorbar": {
             "outlinewidth": 0,
             "ticks": ""
            },
            "colorscale": [
             [
              0,
              "#0d0887"
             ],
             [
              0.1111111111111111,
              "#46039f"
             ],
             [
              0.2222222222222222,
              "#7201a8"
             ],
             [
              0.3333333333333333,
              "#9c179e"
             ],
             [
              0.4444444444444444,
              "#bd3786"
             ],
             [
              0.5555555555555556,
              "#d8576b"
             ],
             [
              0.6666666666666666,
              "#ed7953"
             ],
             [
              0.7777777777777778,
              "#fb9f3a"
             ],
             [
              0.8888888888888888,
              "#fdca26"
             ],
             [
              1,
              "#f0f921"
             ]
            ],
            "type": "histogram2d"
           }
          ],
          "histogram2dcontour": [
           {
            "colorbar": {
             "outlinewidth": 0,
             "ticks": ""
            },
            "colorscale": [
             [
              0,
              "#0d0887"
             ],
             [
              0.1111111111111111,
              "#46039f"
             ],
             [
              0.2222222222222222,
              "#7201a8"
             ],
             [
              0.3333333333333333,
              "#9c179e"
             ],
             [
              0.4444444444444444,
              "#bd3786"
             ],
             [
              0.5555555555555556,
              "#d8576b"
             ],
             [
              0.6666666666666666,
              "#ed7953"
             ],
             [
              0.7777777777777778,
              "#fb9f3a"
             ],
             [
              0.8888888888888888,
              "#fdca26"
             ],
             [
              1,
              "#f0f921"
             ]
            ],
            "type": "histogram2dcontour"
           }
          ],
          "mesh3d": [
           {
            "colorbar": {
             "outlinewidth": 0,
             "ticks": ""
            },
            "type": "mesh3d"
           }
          ],
          "parcoords": [
           {
            "line": {
             "colorbar": {
              "outlinewidth": 0,
              "ticks": ""
             }
            },
            "type": "parcoords"
           }
          ],
          "pie": [
           {
            "automargin": true,
            "type": "pie"
           }
          ],
          "scatter": [
           {
            "fillpattern": {
             "fillmode": "overlay",
             "size": 10,
             "solidity": 0.2
            },
            "type": "scatter"
           }
          ],
          "scatter3d": [
           {
            "line": {
             "colorbar": {
              "outlinewidth": 0,
              "ticks": ""
             }
            },
            "marker": {
             "colorbar": {
              "outlinewidth": 0,
              "ticks": ""
             }
            },
            "type": "scatter3d"
           }
          ],
          "scattercarpet": [
           {
            "marker": {
             "colorbar": {
              "outlinewidth": 0,
              "ticks": ""
             }
            },
            "type": "scattercarpet"
           }
          ],
          "scattergeo": [
           {
            "marker": {
             "colorbar": {
              "outlinewidth": 0,
              "ticks": ""
             }
            },
            "type": "scattergeo"
           }
          ],
          "scattergl": [
           {
            "marker": {
             "colorbar": {
              "outlinewidth": 0,
              "ticks": ""
             }
            },
            "type": "scattergl"
           }
          ],
          "scattermapbox": [
           {
            "marker": {
             "colorbar": {
              "outlinewidth": 0,
              "ticks": ""
             }
            },
            "type": "scattermapbox"
           }
          ],
          "scatterpolar": [
           {
            "marker": {
             "colorbar": {
              "outlinewidth": 0,
              "ticks": ""
             }
            },
            "type": "scatterpolar"
           }
          ],
          "scatterpolargl": [
           {
            "marker": {
             "colorbar": {
              "outlinewidth": 0,
              "ticks": ""
             }
            },
            "type": "scatterpolargl"
           }
          ],
          "scatterternary": [
           {
            "marker": {
             "colorbar": {
              "outlinewidth": 0,
              "ticks": ""
             }
            },
            "type": "scatterternary"
           }
          ],
          "surface": [
           {
            "colorbar": {
             "outlinewidth": 0,
             "ticks": ""
            },
            "colorscale": [
             [
              0,
              "#0d0887"
             ],
             [
              0.1111111111111111,
              "#46039f"
             ],
             [
              0.2222222222222222,
              "#7201a8"
             ],
             [
              0.3333333333333333,
              "#9c179e"
             ],
             [
              0.4444444444444444,
              "#bd3786"
             ],
             [
              0.5555555555555556,
              "#d8576b"
             ],
             [
              0.6666666666666666,
              "#ed7953"
             ],
             [
              0.7777777777777778,
              "#fb9f3a"
             ],
             [
              0.8888888888888888,
              "#fdca26"
             ],
             [
              1,
              "#f0f921"
             ]
            ],
            "type": "surface"
           }
          ],
          "table": [
           {
            "cells": {
             "fill": {
              "color": "#EBF0F8"
             },
             "line": {
              "color": "white"
             }
            },
            "header": {
             "fill": {
              "color": "#C8D4E3"
             },
             "line": {
              "color": "white"
             }
            },
            "type": "table"
           }
          ]
         },
         "layout": {
          "annotationdefaults": {
           "arrowcolor": "#2a3f5f",
           "arrowhead": 0,
           "arrowwidth": 1
          },
          "autotypenumbers": "strict",
          "coloraxis": {
           "colorbar": {
            "outlinewidth": 0,
            "ticks": ""
           }
          },
          "colorscale": {
           "diverging": [
            [
             0,
             "#8e0152"
            ],
            [
             0.1,
             "#c51b7d"
            ],
            [
             0.2,
             "#de77ae"
            ],
            [
             0.3,
             "#f1b6da"
            ],
            [
             0.4,
             "#fde0ef"
            ],
            [
             0.5,
             "#f7f7f7"
            ],
            [
             0.6,
             "#e6f5d0"
            ],
            [
             0.7,
             "#b8e186"
            ],
            [
             0.8,
             "#7fbc41"
            ],
            [
             0.9,
             "#4d9221"
            ],
            [
             1,
             "#276419"
            ]
           ],
           "sequential": [
            [
             0,
             "#0d0887"
            ],
            [
             0.1111111111111111,
             "#46039f"
            ],
            [
             0.2222222222222222,
             "#7201a8"
            ],
            [
             0.3333333333333333,
             "#9c179e"
            ],
            [
             0.4444444444444444,
             "#bd3786"
            ],
            [
             0.5555555555555556,
             "#d8576b"
            ],
            [
             0.6666666666666666,
             "#ed7953"
            ],
            [
             0.7777777777777778,
             "#fb9f3a"
            ],
            [
             0.8888888888888888,
             "#fdca26"
            ],
            [
             1,
             "#f0f921"
            ]
           ],
           "sequentialminus": [
            [
             0,
             "#0d0887"
            ],
            [
             0.1111111111111111,
             "#46039f"
            ],
            [
             0.2222222222222222,
             "#7201a8"
            ],
            [
             0.3333333333333333,
             "#9c179e"
            ],
            [
             0.4444444444444444,
             "#bd3786"
            ],
            [
             0.5555555555555556,
             "#d8576b"
            ],
            [
             0.6666666666666666,
             "#ed7953"
            ],
            [
             0.7777777777777778,
             "#fb9f3a"
            ],
            [
             0.8888888888888888,
             "#fdca26"
            ],
            [
             1,
             "#f0f921"
            ]
           ]
          },
          "colorway": [
           "#636efa",
           "#EF553B",
           "#00cc96",
           "#ab63fa",
           "#FFA15A",
           "#19d3f3",
           "#FF6692",
           "#B6E880",
           "#FF97FF",
           "#FECB52"
          ],
          "font": {
           "color": "#2a3f5f"
          },
          "geo": {
           "bgcolor": "white",
           "lakecolor": "white",
           "landcolor": "#E5ECF6",
           "showlakes": true,
           "showland": true,
           "subunitcolor": "white"
          },
          "hoverlabel": {
           "align": "left"
          },
          "hovermode": "closest",
          "mapbox": {
           "style": "light"
          },
          "paper_bgcolor": "white",
          "plot_bgcolor": "#E5ECF6",
          "polar": {
           "angularaxis": {
            "gridcolor": "white",
            "linecolor": "white",
            "ticks": ""
           },
           "bgcolor": "#E5ECF6",
           "radialaxis": {
            "gridcolor": "white",
            "linecolor": "white",
            "ticks": ""
           }
          },
          "scene": {
           "xaxis": {
            "backgroundcolor": "#E5ECF6",
            "gridcolor": "white",
            "gridwidth": 2,
            "linecolor": "white",
            "showbackground": true,
            "ticks": "",
            "zerolinecolor": "white"
           },
           "yaxis": {
            "backgroundcolor": "#E5ECF6",
            "gridcolor": "white",
            "gridwidth": 2,
            "linecolor": "white",
            "showbackground": true,
            "ticks": "",
            "zerolinecolor": "white"
           },
           "zaxis": {
            "backgroundcolor": "#E5ECF6",
            "gridcolor": "white",
            "gridwidth": 2,
            "linecolor": "white",
            "showbackground": true,
            "ticks": "",
            "zerolinecolor": "white"
           }
          },
          "shapedefaults": {
           "line": {
            "color": "#2a3f5f"
           }
          },
          "ternary": {
           "aaxis": {
            "gridcolor": "white",
            "linecolor": "white",
            "ticks": ""
           },
           "baxis": {
            "gridcolor": "white",
            "linecolor": "white",
            "ticks": ""
           },
           "bgcolor": "#E5ECF6",
           "caxis": {
            "gridcolor": "white",
            "linecolor": "white",
            "ticks": ""
           }
          },
          "title": {
           "x": 0.05
          },
          "xaxis": {
           "automargin": true,
           "gridcolor": "white",
           "linecolor": "white",
           "ticks": "",
           "title": {
            "standoff": 15
           },
           "zerolinecolor": "white",
           "zerolinewidth": 2
          },
          "yaxis": {
           "automargin": true,
           "gridcolor": "white",
           "linecolor": "white",
           "ticks": "",
           "title": {
            "standoff": 15
           },
           "zerolinecolor": "white",
           "zerolinewidth": 2
          }
         }
        },
        "xaxis": {
         "anchor": "y",
         "domain": [
          0,
          1
         ],
         "title": {
          "text": "x"
         }
        },
        "yaxis": {
         "anchor": "x",
         "domain": [
          0,
          1
         ],
         "title": {
          "text": "value"
         }
        }
       }
      }
     },
     "metadata": {},
     "output_type": "display_data"
    }
   ],
   "source": [
    "line_plt = df.loc[conti_vals_asia_unique, years]\n",
    "line_plt = line_plt.transpose()\n",
    "line_plt\n",
    "px.line(line_plt,x=years,y=line_plt.columns)"
   ]
  },
  {
   "cell_type": "code",
   "execution_count": 13,
   "id": "98990b25",
   "metadata": {},
   "outputs": [],
   "source": [
    "# we can make a line graph like this in those charts \n",
    "df_CI = df.loc[['China'],years]\n",
    "df_I = df.loc[['India'],years]\n",
    "df_I = df_I.transpose()\n",
    "df_CI = df_CI.transpose()\n",
    "\n",
    "fig = px.line(df_I)"
   ]
  },
  {
   "cell_type": "code",
   "execution_count": 14,
   "id": "6043bb4d",
   "metadata": {},
   "outputs": [
    {
     "data": {
      "text/html": [
       "<div>\n",
       "<style scoped>\n",
       "    .dataframe tbody tr th:only-of-type {\n",
       "        vertical-align: middle;\n",
       "    }\n",
       "\n",
       "    .dataframe tbody tr th {\n",
       "        vertical-align: top;\n",
       "    }\n",
       "\n",
       "    .dataframe thead th {\n",
       "        text-align: right;\n",
       "    }\n",
       "</style>\n",
       "<table border=\"1\" class=\"dataframe\">\n",
       "  <thead>\n",
       "    <tr style=\"text-align: right;\">\n",
       "      <th></th>\n",
       "      <th>Continent</th>\n",
       "      <th>Region</th>\n",
       "      <th>1980</th>\n",
       "      <th>1981</th>\n",
       "      <th>1982</th>\n",
       "      <th>1983</th>\n",
       "      <th>1984</th>\n",
       "      <th>1985</th>\n",
       "      <th>1986</th>\n",
       "      <th>1987</th>\n",
       "      <th>1988</th>\n",
       "      <th>1989</th>\n",
       "      <th>1990</th>\n",
       "      <th>1991</th>\n",
       "      <th>1992</th>\n",
       "      <th>1993</th>\n",
       "      <th>1994</th>\n",
       "      <th>1995</th>\n",
       "      <th>1996</th>\n",
       "      <th>1997</th>\n",
       "      <th>1998</th>\n",
       "      <th>1999</th>\n",
       "      <th>2000</th>\n",
       "      <th>2001</th>\n",
       "      <th>2002</th>\n",
       "      <th>2003</th>\n",
       "      <th>2004</th>\n",
       "      <th>2005</th>\n",
       "      <th>2006</th>\n",
       "      <th>2007</th>\n",
       "      <th>2008</th>\n",
       "      <th>2009</th>\n",
       "      <th>2010</th>\n",
       "      <th>2011</th>\n",
       "      <th>2012</th>\n",
       "      <th>2013</th>\n",
       "      <th>Total</th>\n",
       "    </tr>\n",
       "    <tr>\n",
       "      <th>Country</th>\n",
       "      <th></th>\n",
       "      <th></th>\n",
       "      <th></th>\n",
       "      <th></th>\n",
       "      <th></th>\n",
       "      <th></th>\n",
       "      <th></th>\n",
       "      <th></th>\n",
       "      <th></th>\n",
       "      <th></th>\n",
       "      <th></th>\n",
       "      <th></th>\n",
       "      <th></th>\n",
       "      <th></th>\n",
       "      <th></th>\n",
       "      <th></th>\n",
       "      <th></th>\n",
       "      <th></th>\n",
       "      <th></th>\n",
       "      <th></th>\n",
       "      <th></th>\n",
       "      <th></th>\n",
       "      <th></th>\n",
       "      <th></th>\n",
       "      <th></th>\n",
       "      <th></th>\n",
       "      <th></th>\n",
       "      <th></th>\n",
       "      <th></th>\n",
       "      <th></th>\n",
       "      <th></th>\n",
       "      <th></th>\n",
       "      <th></th>\n",
       "      <th></th>\n",
       "      <th></th>\n",
       "      <th></th>\n",
       "      <th></th>\n",
       "    </tr>\n",
       "  </thead>\n",
       "  <tbody>\n",
       "    <tr>\n",
       "      <th>India</th>\n",
       "      <td>Asia</td>\n",
       "      <td>Southern Asia</td>\n",
       "      <td>8880</td>\n",
       "      <td>8670</td>\n",
       "      <td>8147</td>\n",
       "      <td>7338</td>\n",
       "      <td>5704</td>\n",
       "      <td>4211</td>\n",
       "      <td>7150</td>\n",
       "      <td>10189</td>\n",
       "      <td>11522</td>\n",
       "      <td>10343</td>\n",
       "      <td>12041</td>\n",
       "      <td>13734</td>\n",
       "      <td>13673</td>\n",
       "      <td>21496</td>\n",
       "      <td>18620</td>\n",
       "      <td>18489</td>\n",
       "      <td>23859</td>\n",
       "      <td>22268</td>\n",
       "      <td>17241</td>\n",
       "      <td>18974</td>\n",
       "      <td>28572</td>\n",
       "      <td>31223</td>\n",
       "      <td>31889</td>\n",
       "      <td>27155</td>\n",
       "      <td>28235</td>\n",
       "      <td>36210</td>\n",
       "      <td>33848</td>\n",
       "      <td>28742</td>\n",
       "      <td>28261</td>\n",
       "      <td>29456</td>\n",
       "      <td>34235</td>\n",
       "      <td>27509</td>\n",
       "      <td>30933</td>\n",
       "      <td>33087</td>\n",
       "      <td>691904</td>\n",
       "    </tr>\n",
       "    <tr>\n",
       "      <th>China</th>\n",
       "      <td>Asia</td>\n",
       "      <td>Eastern Asia</td>\n",
       "      <td>5123</td>\n",
       "      <td>6682</td>\n",
       "      <td>3308</td>\n",
       "      <td>1863</td>\n",
       "      <td>1527</td>\n",
       "      <td>1816</td>\n",
       "      <td>1960</td>\n",
       "      <td>2643</td>\n",
       "      <td>2758</td>\n",
       "      <td>4323</td>\n",
       "      <td>8076</td>\n",
       "      <td>14255</td>\n",
       "      <td>10846</td>\n",
       "      <td>9817</td>\n",
       "      <td>13128</td>\n",
       "      <td>14398</td>\n",
       "      <td>19415</td>\n",
       "      <td>20475</td>\n",
       "      <td>21049</td>\n",
       "      <td>30069</td>\n",
       "      <td>35529</td>\n",
       "      <td>36434</td>\n",
       "      <td>31961</td>\n",
       "      <td>36439</td>\n",
       "      <td>36619</td>\n",
       "      <td>42584</td>\n",
       "      <td>33518</td>\n",
       "      <td>27642</td>\n",
       "      <td>30037</td>\n",
       "      <td>29622</td>\n",
       "      <td>30391</td>\n",
       "      <td>28502</td>\n",
       "      <td>33024</td>\n",
       "      <td>34129</td>\n",
       "      <td>659962</td>\n",
       "    </tr>\n",
       "  </tbody>\n",
       "</table>\n",
       "</div>"
      ],
      "text/plain": [
       "        Continent         Region  1980  1981  1982  1983  1984  1985  1986  \\\n",
       "Country                                                                      \n",
       "India        Asia  Southern Asia  8880  8670  8147  7338  5704  4211  7150   \n",
       "China        Asia   Eastern Asia  5123  6682  3308  1863  1527  1816  1960   \n",
       "\n",
       "          1987   1988   1989   1990   1991   1992   1993   1994   1995   1996  \\\n",
       "Country                                                                         \n",
       "India    10189  11522  10343  12041  13734  13673  21496  18620  18489  23859   \n",
       "China     2643   2758   4323   8076  14255  10846   9817  13128  14398  19415   \n",
       "\n",
       "          1997   1998   1999   2000   2001   2002   2003   2004   2005   2006  \\\n",
       "Country                                                                         \n",
       "India    22268  17241  18974  28572  31223  31889  27155  28235  36210  33848   \n",
       "China    20475  21049  30069  35529  36434  31961  36439  36619  42584  33518   \n",
       "\n",
       "          2007   2008   2009   2010   2011   2012   2013   Total  \n",
       "Country                                                           \n",
       "India    28742  28261  29456  34235  27509  30933  33087  691904  \n",
       "China    27642  30037  29622  30391  28502  33024  34129  659962  "
      ]
     },
     "execution_count": 14,
     "metadata": {},
     "output_type": "execute_result"
    }
   ],
   "source": [
    "conti_vals_asia = df.loc[df['Continent']=='Asia']\n",
    "conti_vals_asia = conti_vals_asia.sort_values(by='Total',ascending=False)\n",
    "conti_vals_asia.head(2)"
   ]
  },
  {
   "cell_type": "code",
   "execution_count": 15,
   "id": "9188fd05",
   "metadata": {},
   "outputs": [
    {
     "data": {
      "application/vnd.plotly.v1+json": {
       "config": {
        "plotlyServerURL": "https://plot.ly"
       },
       "data": [
        {
         "hovertemplate": "Country=Afghanistan<br>index=%{x}<br>value=%{y}<extra></extra>",
         "legendgroup": "Afghanistan",
         "line": {
          "color": "#636efa",
          "dash": "solid"
         },
         "marker": {
          "symbol": "circle"
         },
         "mode": "lines",
         "name": "Afghanistan",
         "orientation": "v",
         "showlegend": true,
         "type": "scatter",
         "x": [
          "1980",
          "1981",
          "1982",
          "1983",
          "1984",
          "1985",
          "1986",
          "1987",
          "1988",
          "1989",
          "1990",
          "1991",
          "1992",
          "1993",
          "1994",
          "1995",
          "1996",
          "1997",
          "1998",
          "1999",
          "2000",
          "2001",
          "2002",
          "2003",
          "2004",
          "2005",
          "2006",
          "2007",
          "2008",
          "2009",
          "2010",
          "2011",
          "2012",
          "2013"
         ],
         "xaxis": "x",
         "y": [
          16,
          39,
          39,
          47,
          71,
          340,
          496,
          741,
          828,
          1076,
          1028,
          1378,
          1170,
          713,
          858,
          1537,
          2212,
          2555,
          1999,
          2395,
          3326,
          4067,
          3697,
          3479,
          2978,
          3436,
          3009,
          2652,
          2111,
          1746,
          1758,
          2203,
          2635,
          2004
         ],
         "yaxis": "y"
        },
        {
         "hovertemplate": "Country=Albania<br>index=%{x}<br>value=%{y}<extra></extra>",
         "legendgroup": "Albania",
         "line": {
          "color": "#EF553B",
          "dash": "solid"
         },
         "marker": {
          "symbol": "circle"
         },
         "mode": "lines",
         "name": "Albania",
         "orientation": "v",
         "showlegend": true,
         "type": "scatter",
         "x": [
          "1980",
          "1981",
          "1982",
          "1983",
          "1984",
          "1985",
          "1986",
          "1987",
          "1988",
          "1989",
          "1990",
          "1991",
          "1992",
          "1993",
          "1994",
          "1995",
          "1996",
          "1997",
          "1998",
          "1999",
          "2000",
          "2001",
          "2002",
          "2003",
          "2004",
          "2005",
          "2006",
          "2007",
          "2008",
          "2009",
          "2010",
          "2011",
          "2012",
          "2013"
         ],
         "xaxis": "x",
         "y": [
          1,
          0,
          0,
          0,
          0,
          0,
          1,
          2,
          2,
          3,
          3,
          21,
          56,
          96,
          71,
          63,
          113,
          307,
          574,
          1264,
          1816,
          1602,
          1021,
          853,
          1450,
          1223,
          856,
          702,
          560,
          716,
          561,
          539,
          620,
          603
         ],
         "yaxis": "y"
        },
        {
         "hovertemplate": "Country=Algeria<br>index=%{x}<br>value=%{y}<extra></extra>",
         "legendgroup": "Algeria",
         "line": {
          "color": "#00cc96",
          "dash": "solid"
         },
         "marker": {
          "symbol": "circle"
         },
         "mode": "lines",
         "name": "Algeria",
         "orientation": "v",
         "showlegend": true,
         "type": "scatter",
         "x": [
          "1980",
          "1981",
          "1982",
          "1983",
          "1984",
          "1985",
          "1986",
          "1987",
          "1988",
          "1989",
          "1990",
          "1991",
          "1992",
          "1993",
          "1994",
          "1995",
          "1996",
          "1997",
          "1998",
          "1999",
          "2000",
          "2001",
          "2002",
          "2003",
          "2004",
          "2005",
          "2006",
          "2007",
          "2008",
          "2009",
          "2010",
          "2011",
          "2012",
          "2013"
         ],
         "xaxis": "x",
         "y": [
          80,
          67,
          71,
          69,
          63,
          44,
          69,
          132,
          242,
          434,
          491,
          872,
          795,
          717,
          595,
          1106,
          2054,
          1842,
          2292,
          2389,
          2867,
          3418,
          3406,
          3072,
          3616,
          3626,
          4807,
          3623,
          4005,
          5393,
          4752,
          4325,
          3774,
          4331
         ],
         "yaxis": "y"
        },
        {
         "hovertemplate": "Country=American Samoa<br>index=%{x}<br>value=%{y}<extra></extra>",
         "legendgroup": "American Samoa",
         "line": {
          "color": "#ab63fa",
          "dash": "solid"
         },
         "marker": {
          "symbol": "circle"
         },
         "mode": "lines",
         "name": "American Samoa",
         "orientation": "v",
         "showlegend": true,
         "type": "scatter",
         "x": [
          "1980",
          "1981",
          "1982",
          "1983",
          "1984",
          "1985",
          "1986",
          "1987",
          "1988",
          "1989",
          "1990",
          "1991",
          "1992",
          "1993",
          "1994",
          "1995",
          "1996",
          "1997",
          "1998",
          "1999",
          "2000",
          "2001",
          "2002",
          "2003",
          "2004",
          "2005",
          "2006",
          "2007",
          "2008",
          "2009",
          "2010",
          "2011",
          "2012",
          "2013"
         ],
         "xaxis": "x",
         "y": [
          0,
          1,
          0,
          0,
          0,
          0,
          0,
          1,
          0,
          1,
          2,
          0,
          0,
          0,
          0,
          0,
          0,
          0,
          0,
          0,
          0,
          0,
          0,
          0,
          0,
          0,
          1,
          0,
          0,
          0,
          0,
          0,
          0,
          0
         ],
         "yaxis": "y"
        },
        {
         "hovertemplate": "Country=Andorra<br>index=%{x}<br>value=%{y}<extra></extra>",
         "legendgroup": "Andorra",
         "line": {
          "color": "#FFA15A",
          "dash": "solid"
         },
         "marker": {
          "symbol": "circle"
         },
         "mode": "lines",
         "name": "Andorra",
         "orientation": "v",
         "showlegend": true,
         "type": "scatter",
         "x": [
          "1980",
          "1981",
          "1982",
          "1983",
          "1984",
          "1985",
          "1986",
          "1987",
          "1988",
          "1989",
          "1990",
          "1991",
          "1992",
          "1993",
          "1994",
          "1995",
          "1996",
          "1997",
          "1998",
          "1999",
          "2000",
          "2001",
          "2002",
          "2003",
          "2004",
          "2005",
          "2006",
          "2007",
          "2008",
          "2009",
          "2010",
          "2011",
          "2012",
          "2013"
         ],
         "xaxis": "x",
         "y": [
          0,
          0,
          0,
          0,
          0,
          0,
          2,
          0,
          0,
          0,
          3,
          0,
          1,
          0,
          0,
          0,
          0,
          0,
          2,
          0,
          0,
          1,
          0,
          2,
          0,
          0,
          1,
          1,
          0,
          0,
          0,
          0,
          1,
          1
         ],
         "yaxis": "y"
        }
       ],
       "layout": {
        "legend": {
         "title": {
          "text": "Country"
         },
         "tracegroupgap": 0
        },
        "margin": {
         "t": 60
        },
        "template": {
         "data": {
          "bar": [
           {
            "error_x": {
             "color": "#2a3f5f"
            },
            "error_y": {
             "color": "#2a3f5f"
            },
            "marker": {
             "line": {
              "color": "#E5ECF6",
              "width": 0.5
             },
             "pattern": {
              "fillmode": "overlay",
              "size": 10,
              "solidity": 0.2
             }
            },
            "type": "bar"
           }
          ],
          "barpolar": [
           {
            "marker": {
             "line": {
              "color": "#E5ECF6",
              "width": 0.5
             },
             "pattern": {
              "fillmode": "overlay",
              "size": 10,
              "solidity": 0.2
             }
            },
            "type": "barpolar"
           }
          ],
          "carpet": [
           {
            "aaxis": {
             "endlinecolor": "#2a3f5f",
             "gridcolor": "white",
             "linecolor": "white",
             "minorgridcolor": "white",
             "startlinecolor": "#2a3f5f"
            },
            "baxis": {
             "endlinecolor": "#2a3f5f",
             "gridcolor": "white",
             "linecolor": "white",
             "minorgridcolor": "white",
             "startlinecolor": "#2a3f5f"
            },
            "type": "carpet"
           }
          ],
          "choropleth": [
           {
            "colorbar": {
             "outlinewidth": 0,
             "ticks": ""
            },
            "type": "choropleth"
           }
          ],
          "contour": [
           {
            "colorbar": {
             "outlinewidth": 0,
             "ticks": ""
            },
            "colorscale": [
             [
              0,
              "#0d0887"
             ],
             [
              0.1111111111111111,
              "#46039f"
             ],
             [
              0.2222222222222222,
              "#7201a8"
             ],
             [
              0.3333333333333333,
              "#9c179e"
             ],
             [
              0.4444444444444444,
              "#bd3786"
             ],
             [
              0.5555555555555556,
              "#d8576b"
             ],
             [
              0.6666666666666666,
              "#ed7953"
             ],
             [
              0.7777777777777778,
              "#fb9f3a"
             ],
             [
              0.8888888888888888,
              "#fdca26"
             ],
             [
              1,
              "#f0f921"
             ]
            ],
            "type": "contour"
           }
          ],
          "contourcarpet": [
           {
            "colorbar": {
             "outlinewidth": 0,
             "ticks": ""
            },
            "type": "contourcarpet"
           }
          ],
          "heatmap": [
           {
            "colorbar": {
             "outlinewidth": 0,
             "ticks": ""
            },
            "colorscale": [
             [
              0,
              "#0d0887"
             ],
             [
              0.1111111111111111,
              "#46039f"
             ],
             [
              0.2222222222222222,
              "#7201a8"
             ],
             [
              0.3333333333333333,
              "#9c179e"
             ],
             [
              0.4444444444444444,
              "#bd3786"
             ],
             [
              0.5555555555555556,
              "#d8576b"
             ],
             [
              0.6666666666666666,
              "#ed7953"
             ],
             [
              0.7777777777777778,
              "#fb9f3a"
             ],
             [
              0.8888888888888888,
              "#fdca26"
             ],
             [
              1,
              "#f0f921"
             ]
            ],
            "type": "heatmap"
           }
          ],
          "heatmapgl": [
           {
            "colorbar": {
             "outlinewidth": 0,
             "ticks": ""
            },
            "colorscale": [
             [
              0,
              "#0d0887"
             ],
             [
              0.1111111111111111,
              "#46039f"
             ],
             [
              0.2222222222222222,
              "#7201a8"
             ],
             [
              0.3333333333333333,
              "#9c179e"
             ],
             [
              0.4444444444444444,
              "#bd3786"
             ],
             [
              0.5555555555555556,
              "#d8576b"
             ],
             [
              0.6666666666666666,
              "#ed7953"
             ],
             [
              0.7777777777777778,
              "#fb9f3a"
             ],
             [
              0.8888888888888888,
              "#fdca26"
             ],
             [
              1,
              "#f0f921"
             ]
            ],
            "type": "heatmapgl"
           }
          ],
          "histogram": [
           {
            "marker": {
             "pattern": {
              "fillmode": "overlay",
              "size": 10,
              "solidity": 0.2
             }
            },
            "type": "histogram"
           }
          ],
          "histogram2d": [
           {
            "colorbar": {
             "outlinewidth": 0,
             "ticks": ""
            },
            "colorscale": [
             [
              0,
              "#0d0887"
             ],
             [
              0.1111111111111111,
              "#46039f"
             ],
             [
              0.2222222222222222,
              "#7201a8"
             ],
             [
              0.3333333333333333,
              "#9c179e"
             ],
             [
              0.4444444444444444,
              "#bd3786"
             ],
             [
              0.5555555555555556,
              "#d8576b"
             ],
             [
              0.6666666666666666,
              "#ed7953"
             ],
             [
              0.7777777777777778,
              "#fb9f3a"
             ],
             [
              0.8888888888888888,
              "#fdca26"
             ],
             [
              1,
              "#f0f921"
             ]
            ],
            "type": "histogram2d"
           }
          ],
          "histogram2dcontour": [
           {
            "colorbar": {
             "outlinewidth": 0,
             "ticks": ""
            },
            "colorscale": [
             [
              0,
              "#0d0887"
             ],
             [
              0.1111111111111111,
              "#46039f"
             ],
             [
              0.2222222222222222,
              "#7201a8"
             ],
             [
              0.3333333333333333,
              "#9c179e"
             ],
             [
              0.4444444444444444,
              "#bd3786"
             ],
             [
              0.5555555555555556,
              "#d8576b"
             ],
             [
              0.6666666666666666,
              "#ed7953"
             ],
             [
              0.7777777777777778,
              "#fb9f3a"
             ],
             [
              0.8888888888888888,
              "#fdca26"
             ],
             [
              1,
              "#f0f921"
             ]
            ],
            "type": "histogram2dcontour"
           }
          ],
          "mesh3d": [
           {
            "colorbar": {
             "outlinewidth": 0,
             "ticks": ""
            },
            "type": "mesh3d"
           }
          ],
          "parcoords": [
           {
            "line": {
             "colorbar": {
              "outlinewidth": 0,
              "ticks": ""
             }
            },
            "type": "parcoords"
           }
          ],
          "pie": [
           {
            "automargin": true,
            "type": "pie"
           }
          ],
          "scatter": [
           {
            "fillpattern": {
             "fillmode": "overlay",
             "size": 10,
             "solidity": 0.2
            },
            "type": "scatter"
           }
          ],
          "scatter3d": [
           {
            "line": {
             "colorbar": {
              "outlinewidth": 0,
              "ticks": ""
             }
            },
            "marker": {
             "colorbar": {
              "outlinewidth": 0,
              "ticks": ""
             }
            },
            "type": "scatter3d"
           }
          ],
          "scattercarpet": [
           {
            "marker": {
             "colorbar": {
              "outlinewidth": 0,
              "ticks": ""
             }
            },
            "type": "scattercarpet"
           }
          ],
          "scattergeo": [
           {
            "marker": {
             "colorbar": {
              "outlinewidth": 0,
              "ticks": ""
             }
            },
            "type": "scattergeo"
           }
          ],
          "scattergl": [
           {
            "marker": {
             "colorbar": {
              "outlinewidth": 0,
              "ticks": ""
             }
            },
            "type": "scattergl"
           }
          ],
          "scattermapbox": [
           {
            "marker": {
             "colorbar": {
              "outlinewidth": 0,
              "ticks": ""
             }
            },
            "type": "scattermapbox"
           }
          ],
          "scatterpolar": [
           {
            "marker": {
             "colorbar": {
              "outlinewidth": 0,
              "ticks": ""
             }
            },
            "type": "scatterpolar"
           }
          ],
          "scatterpolargl": [
           {
            "marker": {
             "colorbar": {
              "outlinewidth": 0,
              "ticks": ""
             }
            },
            "type": "scatterpolargl"
           }
          ],
          "scatterternary": [
           {
            "marker": {
             "colorbar": {
              "outlinewidth": 0,
              "ticks": ""
             }
            },
            "type": "scatterternary"
           }
          ],
          "surface": [
           {
            "colorbar": {
             "outlinewidth": 0,
             "ticks": ""
            },
            "colorscale": [
             [
              0,
              "#0d0887"
             ],
             [
              0.1111111111111111,
              "#46039f"
             ],
             [
              0.2222222222222222,
              "#7201a8"
             ],
             [
              0.3333333333333333,
              "#9c179e"
             ],
             [
              0.4444444444444444,
              "#bd3786"
             ],
             [
              0.5555555555555556,
              "#d8576b"
             ],
             [
              0.6666666666666666,
              "#ed7953"
             ],
             [
              0.7777777777777778,
              "#fb9f3a"
             ],
             [
              0.8888888888888888,
              "#fdca26"
             ],
             [
              1,
              "#f0f921"
             ]
            ],
            "type": "surface"
           }
          ],
          "table": [
           {
            "cells": {
             "fill": {
              "color": "#EBF0F8"
             },
             "line": {
              "color": "white"
             }
            },
            "header": {
             "fill": {
              "color": "#C8D4E3"
             },
             "line": {
              "color": "white"
             }
            },
            "type": "table"
           }
          ]
         },
         "layout": {
          "annotationdefaults": {
           "arrowcolor": "#2a3f5f",
           "arrowhead": 0,
           "arrowwidth": 1
          },
          "autotypenumbers": "strict",
          "coloraxis": {
           "colorbar": {
            "outlinewidth": 0,
            "ticks": ""
           }
          },
          "colorscale": {
           "diverging": [
            [
             0,
             "#8e0152"
            ],
            [
             0.1,
             "#c51b7d"
            ],
            [
             0.2,
             "#de77ae"
            ],
            [
             0.3,
             "#f1b6da"
            ],
            [
             0.4,
             "#fde0ef"
            ],
            [
             0.5,
             "#f7f7f7"
            ],
            [
             0.6,
             "#e6f5d0"
            ],
            [
             0.7,
             "#b8e186"
            ],
            [
             0.8,
             "#7fbc41"
            ],
            [
             0.9,
             "#4d9221"
            ],
            [
             1,
             "#276419"
            ]
           ],
           "sequential": [
            [
             0,
             "#0d0887"
            ],
            [
             0.1111111111111111,
             "#46039f"
            ],
            [
             0.2222222222222222,
             "#7201a8"
            ],
            [
             0.3333333333333333,
             "#9c179e"
            ],
            [
             0.4444444444444444,
             "#bd3786"
            ],
            [
             0.5555555555555556,
             "#d8576b"
            ],
            [
             0.6666666666666666,
             "#ed7953"
            ],
            [
             0.7777777777777778,
             "#fb9f3a"
            ],
            [
             0.8888888888888888,
             "#fdca26"
            ],
            [
             1,
             "#f0f921"
            ]
           ],
           "sequentialminus": [
            [
             0,
             "#0d0887"
            ],
            [
             0.1111111111111111,
             "#46039f"
            ],
            [
             0.2222222222222222,
             "#7201a8"
            ],
            [
             0.3333333333333333,
             "#9c179e"
            ],
            [
             0.4444444444444444,
             "#bd3786"
            ],
            [
             0.5555555555555556,
             "#d8576b"
            ],
            [
             0.6666666666666666,
             "#ed7953"
            ],
            [
             0.7777777777777778,
             "#fb9f3a"
            ],
            [
             0.8888888888888888,
             "#fdca26"
            ],
            [
             1,
             "#f0f921"
            ]
           ]
          },
          "colorway": [
           "#636efa",
           "#EF553B",
           "#00cc96",
           "#ab63fa",
           "#FFA15A",
           "#19d3f3",
           "#FF6692",
           "#B6E880",
           "#FF97FF",
           "#FECB52"
          ],
          "font": {
           "color": "#2a3f5f"
          },
          "geo": {
           "bgcolor": "white",
           "lakecolor": "white",
           "landcolor": "#E5ECF6",
           "showlakes": true,
           "showland": true,
           "subunitcolor": "white"
          },
          "hoverlabel": {
           "align": "left"
          },
          "hovermode": "closest",
          "mapbox": {
           "style": "light"
          },
          "paper_bgcolor": "white",
          "plot_bgcolor": "#E5ECF6",
          "polar": {
           "angularaxis": {
            "gridcolor": "white",
            "linecolor": "white",
            "ticks": ""
           },
           "bgcolor": "#E5ECF6",
           "radialaxis": {
            "gridcolor": "white",
            "linecolor": "white",
            "ticks": ""
           }
          },
          "scene": {
           "xaxis": {
            "backgroundcolor": "#E5ECF6",
            "gridcolor": "white",
            "gridwidth": 2,
            "linecolor": "white",
            "showbackground": true,
            "ticks": "",
            "zerolinecolor": "white"
           },
           "yaxis": {
            "backgroundcolor": "#E5ECF6",
            "gridcolor": "white",
            "gridwidth": 2,
            "linecolor": "white",
            "showbackground": true,
            "ticks": "",
            "zerolinecolor": "white"
           },
           "zaxis": {
            "backgroundcolor": "#E5ECF6",
            "gridcolor": "white",
            "gridwidth": 2,
            "linecolor": "white",
            "showbackground": true,
            "ticks": "",
            "zerolinecolor": "white"
           }
          },
          "shapedefaults": {
           "line": {
            "color": "#2a3f5f"
           }
          },
          "ternary": {
           "aaxis": {
            "gridcolor": "white",
            "linecolor": "white",
            "ticks": ""
           },
           "baxis": {
            "gridcolor": "white",
            "linecolor": "white",
            "ticks": ""
           },
           "bgcolor": "#E5ECF6",
           "caxis": {
            "gridcolor": "white",
            "linecolor": "white",
            "ticks": ""
           }
          },
          "title": {
           "x": 0.05
          },
          "xaxis": {
           "automargin": true,
           "gridcolor": "white",
           "linecolor": "white",
           "ticks": "",
           "title": {
            "standoff": 15
           },
           "zerolinecolor": "white",
           "zerolinewidth": 2
          },
          "yaxis": {
           "automargin": true,
           "gridcolor": "white",
           "linecolor": "white",
           "ticks": "",
           "title": {
            "standoff": 15
           },
           "zerolinecolor": "white",
           "zerolinewidth": 2
          }
         }
        },
        "xaxis": {
         "anchor": "y",
         "domain": [
          0,
          1
         ],
         "title": {
          "text": "index"
         }
        },
        "yaxis": {
         "anchor": "x",
         "domain": [
          0,
          1
         ],
         "title": {
          "text": "value"
         }
        }
       }
      }
     },
     "metadata": {},
     "output_type": "display_data"
    }
   ],
   "source": [
    "top5 = df.loc[list(df.head(5).index),years]\n",
    "top5 = top5.transpose()\n",
    "px.line(top5)"
   ]
  },
  {
   "cell_type": "markdown",
   "id": "13ca6743",
   "metadata": {},
   "source": [
    "## Creating our Dashboard Structure "
   ]
  },
  {
   "cell_type": "code",
   "execution_count": 16,
   "id": "36728d18",
   "metadata": {},
   "outputs": [],
   "source": [
    "# from jupyter_dash import JupyterDash\n",
    "app = Dash(__name__)"
   ]
  },
  {
   "cell_type": "markdown",
   "id": "85a9b951",
   "metadata": {},
   "source": [
    "Writing a function that takes two inputs\n",
    "\n",
    "continent and area in that continent\n",
    "\n",
    "Just for now drawing line graphs with those selected values of continents "
   ]
  },
  {
   "cell_type": "code",
   "execution_count": 17,
   "id": "fc88db9a",
   "metadata": {},
   "outputs": [],
   "source": [
    "def figures(continent):\n",
    "    data = df.loc[df['Continent']==str(continent)]  # getting data of that particular column\n",
    "    data = data.sort_values(by='Total',ascending=False)  # sorting increasing order\n",
    "    top5 = df.loc[list(data.head(5).index),years]  # grabing top 5 values from the dataframe \n",
    "    top5 = top5.transpose()  # interchanging the values \n",
    "    least5 = df.loc[list(data.tail(5).columns),years] # grabing least five values \n",
    "    least5 = least5.transpose()\n",
    "    fig1 = px.line(top5)\n",
    "    fig2 = px.line(least5)\n",
    "    return fig1,fig2\n",
    "\n",
    "# fig1 = px.line()\n",
    "# fig2 = px.line()"
   ]
  },
  {
   "cell_type": "code",
   "execution_count": 18,
   "id": "d34ac413",
   "metadata": {},
   "outputs": [],
   "source": [
    "app.layout = html.Div([\n",
    "    html.H2('Graphs of various Immigrations to canada Is Shown Below ',style={'width': '96%','padding-left':'3%', 'padding-right':'1%'}),\n",
    "    dcc.Dropdown(options=df['Continent'].unique(),value=df['Continent'].unique()[0],id='data-dropdown'),\n",
    "    html.H3('List of Countries for that Continent: '),\n",
    "    # html.H4(children='',id='contry_id'),\n",
    "    dcc.Graph(id='basic-figures1'),  # drawing graph of top5 countries in that continent.\n",
    "\n",
    "    html.H3( children=[\"Graph of Migration of Least five Countires:\",\n",
    "        dcc.Graph(id='basic-figures2')]\n",
    "    )  # least 5 countires graph \n",
    "])\n",
    "\n",
    "@ app.callback(\n",
    "    Output(component_id='basic-figures1',component_property='figure'),\n",
    "    Input(component_id='data-dropdown',component_property='value')\n",
    ")\n",
    "def update_graph(unique_continents):\n",
    "    data = df.loc[df['Continent']==str(unique_continents)]  # getting data of that particular column\n",
    "    data = data.sort_values(by='Total',ascending=False)  # sorting increasing order\n",
    "    top5 = df.loc[list(data.head(5).index),years]  # grabing top 5 values from the dataframe \n",
    "    top5 = top5.transpose()  # interchanging the values \n",
    "    fig = px.line(top5)\n",
    "    return fig  \n",
    "\n",
    "# creating least 5 graphs callback system \n",
    "@app.callback(\n",
    "     Output(component_id='basic-figures2',component_property='figure'),\n",
    "     Input(component_id='data-dropdown',component_property='value')\n",
    ") \n",
    "def update_graph(value):\n",
    "    data = df.loc[df['Continent']==str(value)]  # getting data of that particular column\n",
    "    data = data.sort_values(by='Total',ascending=False)  # sorting increasing order\n",
    "    least5 = df.loc[list(data.tail(5).index),years]  # grabing top 5 values from the dataframe \n",
    "    least5 = least5.transpose()  # interchanging the values \n",
    "    fig = px.line(least5)\n",
    "    return fig  \n"
   ]
  },
  {
   "cell_type": "code",
   "execution_count": null,
   "id": "b345b240",
   "metadata": {},
   "outputs": [],
   "source": []
  },
  {
   "cell_type": "code",
   "execution_count": null,
   "id": "8731ffd1",
   "metadata": {},
   "outputs": [],
   "source": []
  },
  {
   "cell_type": "code",
   "execution_count": null,
   "id": "5040f696",
   "metadata": {},
   "outputs": [],
   "source": []
  },
  {
   "cell_type": "code",
   "execution_count": null,
   "id": "e802baec",
   "metadata": {},
   "outputs": [],
   "source": []
  }
 ],
 "metadata": {
  "kernelspec": {
   "display_name": "Python 3 (ipykernel)",
   "language": "python",
   "name": "python3"
  },
  "language_info": {
   "codemirror_mode": {
    "name": "ipython",
    "version": 3
   },
   "file_extension": ".py",
   "mimetype": "text/x-python",
   "name": "python",
   "nbconvert_exporter": "python",
   "pygments_lexer": "ipython3",
   "version": "3.10.7"
  },
  "toc": {
   "base_numbering": 1,
   "nav_menu": {},
   "number_sections": true,
   "sideBar": true,
   "skip_h1_title": false,
   "title_cell": "Table of Contents",
   "title_sidebar": "Contents",
   "toc_cell": false,
   "toc_position": {},
   "toc_section_display": true,
   "toc_window_display": false
  }
 },
 "nbformat": 4,
 "nbformat_minor": 5
}
